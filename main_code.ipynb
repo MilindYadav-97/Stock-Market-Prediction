{
  "nbformat": 4,
  "nbformat_minor": 0,
  "metadata": {
    "colab": {
      "name": "THE_FINAL_KON_Kamehameha.ipynb",
      "provenance": [],
      "collapsed_sections": []
    },
    "kernelspec": {
      "display_name": "Python 3",
      "language": "python",
      "name": "python3"
    },
    "language_info": {
      "codemirror_mode": {
        "name": "ipython",
        "version": 3
      },
      "file_extension": ".py",
      "mimetype": "text/x-python",
      "name": "python",
      "nbconvert_exporter": "python",
      "pygments_lexer": "ipython3",
      "version": "3.7.3"
    }
  },
  "cells": [
    {
      "cell_type": "code",
      "metadata": {
        "colab_type": "code",
        "id": "O49vj8RKXLM9",
        "colab": {}
      },
      "source": [
        "import pandas as pd\n",
        "from datetime import datetime\n",
        "import time\n",
        "import requests\n",
        "# while True:\n",
        "# ping = requests.get('https://query1.finance.yahoo.com/v8/finance/chart/%5ENSEI?range=3d&interval=1m').json()\n",
        "# close = ping['chart']['result'][0]['indicators']['quote'][0]['close']\n",
        "# timestamp = ping['chart']['result'][0]['timestamp']\n",
        "# data_1 = pd.DataFrame({'Close': close, 'Time':timestamp})\n",
        "# data_1['Time_b'] = [datetime.fromtimestamp(x) for x in data_1['Time']]\n",
        "# data_1.drop('Time', axis=1,inplace=True)\n",
        "# data_1.set_index('Time_b',inplace=True)"
      ],
      "execution_count": null,
      "outputs": []
    },
    {
      "cell_type": "code",
      "metadata": {
        "id": "oFWsYsb2Axpw",
        "colab_type": "code",
        "colab": {
          "base_uri": "https://localhost:8080/",
          "height": 121
        },
        "outputId": "635790fa-b653-4135-9afd-08d4a956bf1a"
      },
      "source": [
        "!lscpu |grep 'Model name'\n",
        "!lscpu | grep 'Socket(s):'\n",
        "!lscpu | grep 'Core(s) per socket:'\n",
        "!lscpu | grep 'Thread(s) per core'\n",
        "!lscpu | grep \"L3 cache\" \n",
        "!lscpu | grep \"MHz\"\n",
        "# !df -h / | awk '{print $4}'"
      ],
      "execution_count": null,
      "outputs": [
        {
          "output_type": "stream",
          "text": [
            "Model name:          AMD EPYC 7B12\n",
            "Socket(s):           1\n",
            "Core(s) per socket:  1\n",
            "Thread(s) per core:  2\n",
            "L3 cache:            16384K\n",
            "CPU MHz:             2249.998\n"
          ],
          "name": "stdout"
        }
      ]
    },
    {
      "cell_type": "code",
      "metadata": {
        "id": "7O-GEm4EirDV",
        "colab_type": "code",
        "colab": {}
      },
      "source": [
        "data_1=pd.read_csv('FB_2 .csv')"
      ],
      "execution_count": null,
      "outputs": []
    },
    {
      "cell_type": "code",
      "metadata": {
        "id": "wSs6V8OHPiX3",
        "colab_type": "code",
        "colab": {
          "base_uri": "https://localhost:8080/",
          "height": 259
        },
        "outputId": "87073989-5e56-4459-9749-a6d251d17441"
      },
      "source": [
        "len(data_1)\n",
        "print(data_1)"
      ],
      "execution_count": null,
      "outputs": [
        {
          "output_type": "stream",
          "text": [
            "                  Time_b       Close\n",
            "0    2020-07-22 13:30:00  239.479996\n",
            "1    2020-07-22 13:31:00  239.949997\n",
            "2    2020-07-22 13:32:00  240.695404\n",
            "3    2020-07-22 13:33:00  241.410004\n",
            "4    2020-07-22 13:34:00  240.919693\n",
            "..                   ...         ...\n",
            "385  2020-07-22 19:55:00  239.761597\n",
            "386  2020-07-22 19:56:00  239.830002\n",
            "387  2020-07-22 19:57:00  239.899994\n",
            "388  2020-07-22 19:58:00  239.869995\n",
            "389  2020-07-22 19:59:00  239.802704\n",
            "\n",
            "[390 rows x 2 columns]\n"
          ],
          "name": "stdout"
        }
      ]
    },
    {
      "cell_type": "code",
      "metadata": {
        "id": "ERuXAnySQI7C",
        "colab_type": "code",
        "colab": {}
      },
      "source": [
        "# data_1 = data_1[:-1170]\n",
        "# data_1 = data_1[:-780]"
      ],
      "execution_count": null,
      "outputs": []
    },
    {
      "cell_type": "code",
      "metadata": {
        "id": "UwToccUJQQdm",
        "colab_type": "code",
        "colab": {
          "base_uri": "https://localhost:8080/",
          "height": 276
        },
        "outputId": "ba5831e6-00a7-4148-92bb-5aad5d5824e2"
      },
      "source": [
        "print(len(data_1))\n",
        "print(data_1)\n",
        "# data_1.to_csv('NSEI_2.csv', index=True)"
      ],
      "execution_count": null,
      "outputs": [
        {
          "output_type": "stream",
          "text": [
            "390\n",
            "                  Time_b       Close\n",
            "0    2020-07-22 13:30:00  239.479996\n",
            "1    2020-07-22 13:31:00  239.949997\n",
            "2    2020-07-22 13:32:00  240.695404\n",
            "3    2020-07-22 13:33:00  241.410004\n",
            "4    2020-07-22 13:34:00  240.919693\n",
            "..                   ...         ...\n",
            "385  2020-07-22 19:55:00  239.761597\n",
            "386  2020-07-22 19:56:00  239.830002\n",
            "387  2020-07-22 19:57:00  239.899994\n",
            "388  2020-07-22 19:58:00  239.869995\n",
            "389  2020-07-22 19:59:00  239.802704\n",
            "\n",
            "[390 rows x 2 columns]\n"
          ],
          "name": "stdout"
        }
      ]
    },
    {
      "cell_type": "code",
      "metadata": {
        "colab_type": "code",
        "id": "iMXGaLUlXWfQ",
        "colab": {}
      },
      "source": [
        "# data_1=pd.read_csv(\"data_1.csv\")\n",
        "# data_1.head()"
      ],
      "execution_count": null,
      "outputs": []
    },
    {
      "cell_type": "code",
      "metadata": {
        "colab_type": "code",
        "id": "nRXmwwRhtFlj",
        "colab": {}
      },
      "source": [
        ""
      ],
      "execution_count": null,
      "outputs": []
    },
    {
      "cell_type": "code",
      "metadata": {
        "colab_type": "code",
        "id": "v89JOINHyb4B",
        "colab": {}
      },
      "source": [
        "# dataset['TimeStamp'] = pd.Series([val.time() for val in dataset['TimeStamp']])"
      ],
      "execution_count": null,
      "outputs": []
    },
    {
      "cell_type": "code",
      "metadata": {
        "colab_type": "code",
        "id": "-1NsnuhzVlJ_",
        "colab": {}
      },
      "source": [
        "# if len(data_1)%15==0:   #condition"
      ],
      "execution_count": null,
      "outputs": []
    },
    {
      "cell_type": "code",
      "metadata": {
        "colab_type": "code",
        "id": "AFFlSqu8tnJW",
        "colab": {}
      },
      "source": [
        " \n",
        "data_1=data_1.reset_index()\n",
        "# data_1=data_1.iloc[-100:]\n",
        "# data_1 = data_1.reset_index(drop=True)"
      ],
      "execution_count": null,
      "outputs": []
    },
    {
      "cell_type": "code",
      "metadata": {
        "colab_type": "code",
        "id": "OKHUKwB3Zg4H",
        "colab": {
          "base_uri": "https://localhost:8080/",
          "height": 259
        },
        "outputId": "15ef474c-1550-4223-e957-7ae978a92315"
      },
      "source": [
        "print(data_1)"
      ],
      "execution_count": null,
      "outputs": [
        {
          "output_type": "stream",
          "text": [
            "     index               Time_b       Close\n",
            "0        0  2020-07-22 13:30:00  239.479996\n",
            "1        1  2020-07-22 13:31:00  239.949997\n",
            "2        2  2020-07-22 13:32:00  240.695404\n",
            "3        3  2020-07-22 13:33:00  241.410004\n",
            "4        4  2020-07-22 13:34:00  240.919693\n",
            "..     ...                  ...         ...\n",
            "385    385  2020-07-22 19:55:00  239.761597\n",
            "386    386  2020-07-22 19:56:00  239.830002\n",
            "387    387  2020-07-22 19:57:00  239.899994\n",
            "388    388  2020-07-22 19:58:00  239.869995\n",
            "389    389  2020-07-22 19:59:00  239.802704\n",
            "\n",
            "[390 rows x 3 columns]\n"
          ],
          "name": "stdout"
        }
      ]
    },
    {
      "cell_type": "code",
      "metadata": {
        "colab_type": "code",
        "id": "AwqXkjQTNVfI",
        "colab": {}
      },
      "source": [
        "import numpy as np\n",
        "from google.colab import files\n",
        "# data_to_load = files.upload()"
      ],
      "execution_count": null,
      "outputs": []
    },
    {
      "cell_type": "markdown",
      "metadata": {
        "colab_type": "text",
        "id": "jIldrdsQIMxf"
      },
      "source": [
        "Load the required files before proceeding further:"
      ]
    },
    {
      "cell_type": "code",
      "metadata": {
        "colab_type": "code",
        "id": "1OsjgxmazHe_",
        "colab": {}
      },
      "source": [
        "import pandas as pd\n",
        "import io\n",
        "# df = pd.read_csv('DJI.csv')\n",
        "df = data_1"
      ],
      "execution_count": null,
      "outputs": []
    },
    {
      "cell_type": "code",
      "metadata": {
        "colab_type": "code",
        "id": "6-tYNTDRTci2",
        "colab": {}
      },
      "source": [
        ""
      ],
      "execution_count": null,
      "outputs": []
    },
    {
      "cell_type": "code",
      "metadata": {
        "colab_type": "code",
        "id": "FrHUQNA0U5KT",
        "colab": {}
      },
      "source": [
        "# !unzip file.zip"
      ],
      "execution_count": null,
      "outputs": []
    },
    {
      "cell_type": "code",
      "metadata": {
        "colab_type": "code",
        "id": "1Z_5eJhINsZZ",
        "colab": {
          "base_uri": "https://localhost:8080/",
          "height": 34
        },
        "outputId": "d0f33869-9ce1-4e90-d623-a751440549c0"
      },
      "source": [
        "%tensorflow_version 1.x\n",
        "import helpermethods\n",
        "import tensorflow as tf\n",
        "import numpy as np\n",
        "import sys\n",
        "import os\n",
        "from tensorflow.keras.layers import Dense, Input, RNN\n",
        "from tensorflow.keras.models import Model, Sequential, load_model\n",
        "from tensorflow.keras import backend as K\n",
        "from tensorflow.keras.optimizers import Adam"
      ],
      "execution_count": null,
      "outputs": [
        {
          "output_type": "stream",
          "text": [
            "TensorFlow 1.x selected.\n"
          ],
          "name": "stdout"
        }
      ]
    },
    {
      "cell_type": "code",
      "metadata": {
        "colab_type": "code",
        "id": "vtnmHM-pnn0B",
        "colab": {
          "base_uri": "https://localhost:8080/",
          "height": 34
        },
        "outputId": "f1b930ff-1cd1-4b51-b837-1a6d237f0704"
      },
      "source": [
        "print(tf.__version__)"
      ],
      "execution_count": null,
      "outputs": [
        {
          "output_type": "stream",
          "text": [
            "1.15.2\n"
          ],
          "name": "stdout"
        }
      ]
    },
    {
      "cell_type": "code",
      "metadata": {
        "colab_type": "code",
        "id": "g5TT_EX-N0dx",
        "colab": {}
      },
      "source": [
        "#Import keras grnn\n",
        "from rnn import FastGRNNCellKeras, FastRNNCellKeras"
      ],
      "execution_count": null,
      "outputs": []
    },
    {
      "cell_type": "markdown",
      "metadata": {
        "colab_type": "text",
        "id": "MbrEL7OdIqJM"
      },
      "source": [
        "Data Preprocessing"
      ]
    },
    {
      "cell_type": "code",
      "metadata": {
        "colab_type": "code",
        "id": "FgyGwHV7U0Ke",
        "colab": {}
      },
      "source": [
        "import math\n",
        "from sklearn.preprocessing import MinMaxScaler\n",
        "from sklearn.metrics import mean_squared_error "
      ],
      "execution_count": null,
      "outputs": []
    },
    {
      "cell_type": "code",
      "metadata": {
        "colab_type": "code",
        "id": "lJgCAv9xblWl",
        "colab": {
          "base_uri": "https://localhost:8080/",
          "height": 52
        },
        "outputId": "82e81947-c372-4e98-90ca-8ab0b8c3f569"
      },
      "source": [
        "print(len(df))\n",
        "df = df[df['Close'].notna()]\n",
        "print(len(df))"
      ],
      "execution_count": null,
      "outputs": [
        {
          "output_type": "stream",
          "text": [
            "390\n",
            "389\n"
          ],
          "name": "stdout"
        }
      ]
    },
    {
      "cell_type": "code",
      "metadata": {
        "colab_type": "code",
        "id": "YHk32cpVbA88",
        "colab": {}
      },
      "source": [
        "data = pd.DataFrame()\n",
        "data['Close']=df['Close']"
      ],
      "execution_count": null,
      "outputs": []
    },
    {
      "cell_type": "code",
      "metadata": {
        "colab_type": "code",
        "id": "UN2fZrfYbc5n",
        "colab": {
          "base_uri": "https://localhost:8080/",
          "height": 86
        },
        "outputId": "cdbd3df2-af5e-4fa8-cdd5-8765ea414aef"
      },
      "source": [
        "count_nan = len(df) - df.count()\n",
        "print(count_nan)"
      ],
      "execution_count": null,
      "outputs": [
        {
          "output_type": "stream",
          "text": [
            "index     0\n",
            "Time_b    0\n",
            "Close     0\n",
            "dtype: int64\n"
          ],
          "name": "stdout"
        }
      ]
    },
    {
      "cell_type": "code",
      "metadata": {
        "colab_type": "code",
        "id": "R1Rab4btiv66",
        "colab": {
          "base_uri": "https://localhost:8080/",
          "height": 259
        },
        "outputId": "aa997454-5b16-4f6c-cd74-9d96af9991a0"
      },
      "source": [
        "print(data)"
      ],
      "execution_count": null,
      "outputs": [
        {
          "output_type": "stream",
          "text": [
            "          Close\n",
            "0    239.479996\n",
            "1    239.949997\n",
            "2    240.695404\n",
            "3    241.410004\n",
            "4    240.919693\n",
            "..          ...\n",
            "385  239.761597\n",
            "386  239.830002\n",
            "387  239.899994\n",
            "388  239.869995\n",
            "389  239.802704\n",
            "\n",
            "[389 rows x 1 columns]\n"
          ],
          "name": "stdout"
        }
      ]
    },
    {
      "cell_type": "code",
      "metadata": {
        "colab_type": "code",
        "id": "2_L7CcXTh-hU",
        "colab": {}
      },
      "source": [
        ""
      ],
      "execution_count": null,
      "outputs": []
    },
    {
      "cell_type": "code",
      "metadata": {
        "colab_type": "code",
        "id": "bzdRa9kZa28K",
        "colab": {}
      },
      "source": [
        ""
      ],
      "execution_count": null,
      "outputs": []
    },
    {
      "cell_type": "code",
      "metadata": {
        "colab_type": "code",
        "id": "4ia3EDW2Uddv",
        "colab": {}
      },
      "source": [
        "\n",
        "#Converting the dataframe to a numpy array\n",
        "dataset = data.values\n",
        "#Get /Compute the number of rows to train the model on\n",
        "# training_data_len = math.ceil( len(dataset) *.6)\n",
        "training_data_len = math.ceil( len(dataset)- 50) \n",
        "\n",
        "\n",
        "\n",
        "#Scale the all of the data to be values between 0 and 1 \n",
        "scaler = MinMaxScaler(feature_range=(0, 1)) \n",
        "scaled_data = scaler.fit_transform(dataset)\n",
        "\n",
        "\n",
        "#Create the scaled training data set \n",
        "train_data = scaled_data[0:training_data_len  , : ]\n",
        "#Split the data into x_train and y_train data sets\n",
        "x_train=[]\n",
        "y_train = []\n",
        "for i in range(10,len(train_data)):\n",
        "    x_train.append(train_data[i-10:i,0])\n",
        "    y_train.append(train_data[i,0])\n",
        "\n",
        "\n",
        "#Convert x_train and y_train to numpy arrays\n",
        "x_train, y_train = np.array(x_train), np.array(y_train)    \n",
        "\n",
        "\n",
        "#Reshape the data into the shape accepted by the LSTM\n",
        "x_train = np.reshape(x_train, (x_train.shape[0],x_train.shape[1],1))"
      ],
      "execution_count": null,
      "outputs": []
    },
    {
      "cell_type": "code",
      "metadata": {
        "colab_type": "code",
        "id": "3e5p3uhIvPnS",
        "colab": {}
      },
      "source": [
        "# print(x_train)"
      ],
      "execution_count": null,
      "outputs": []
    },
    {
      "cell_type": "code",
      "metadata": {
        "colab_type": "code",
        "id": "ZuK1X-6WbfIS",
        "colab": {}
      },
      "source": [
        ""
      ],
      "execution_count": null,
      "outputs": []
    },
    {
      "cell_type": "code",
      "metadata": {
        "colab_type": "code",
        "id": "uTip75ZPs_2t",
        "colab": {}
      },
      "source": [
        "\n",
        "#Test data set\n",
        "test_data = scaled_data[training_data_len - 10: , : ]\n",
        "#Create the x_test and y_test data sets\n",
        "x_test = []\n",
        "y_test =  dataset[training_data_len : , : ] #Get all of the rows from index 1603 to the rest and all of the columns (in this case it's only column 'Close'), so 2003 - 1603 = 400 rows of data\n",
        "for i in range(10,len(test_data)):\n",
        "    x_test.append(test_data[i-10:i,0])\n",
        "\n",
        "\n",
        "\n",
        "#Convert x_test to a numpy array \n",
        "x_test = np.array(x_test)\n",
        "\n",
        "#Reshape the data into the shape accepted by the LSTM\n",
        "x_test = np.reshape(x_test, (x_test.shape[0],x_test.shape[1],1))"
      ],
      "execution_count": null,
      "outputs": []
    },
    {
      "cell_type": "code",
      "metadata": {
        "colab_type": "code",
        "id": "ZCWLhfJD6Szm",
        "colab": {}
      },
      "source": [
        "# x_test"
      ],
      "execution_count": null,
      "outputs": []
    },
    {
      "cell_type": "code",
      "metadata": {
        "colab_type": "code",
        "id": "uiZPQLu-t2Bn",
        "colab": {}
      },
      "source": [
        ""
      ],
      "execution_count": null,
      "outputs": []
    },
    {
      "cell_type": "code",
      "metadata": {
        "colab_type": "code",
        "id": "ptc8P5_7xId8",
        "colab": {}
      },
      "source": [
        ""
      ],
      "execution_count": null,
      "outputs": []
    },
    {
      "cell_type": "code",
      "metadata": {
        "colab_type": "code",
        "id": "FxedeCKyODCK",
        "colab": {
          "base_uri": "https://localhost:8080/",
          "height": 34
        },
        "outputId": "6dc6ff0f-f868-48fa-fa88-d1875bb49c11"
      },
      "source": [
        "# dataDimension = int(x_train.shape[1]) - 1\n",
        "dataDimension = int(x_train.shape[1]) \n",
        "print(dataDimension)"
      ],
      "execution_count": null,
      "outputs": [
        {
          "output_type": "stream",
          "text": [
            "10\n"
          ],
          "name": "stdout"
        }
      ]
    },
    {
      "cell_type": "code",
      "metadata": {
        "colab_type": "code",
        "id": "d3tfurMcUQy4",
        "colab": {}
      },
      "source": [
        "cell = \"FastRNN\" # Choose between FastGRNN, FastRNN  ###, UGRNN, GRU and LSTM\n",
        " \n",
        "inputDims = 10 #features taken in by RNN in one timestep\n",
        "hiddenDims = 50 #hidden state of RNN\n",
        " \n",
        "totalEpochs = 40\n",
        "batchSize = 10\n",
        " \n",
        "learningRate = 0.001 #Change to 0.001,0.002,0.003 if -ve value of r^2 is obtained\n",
        "decayStep = 50\n",
        "decayRate = 0.1\n",
        " \n",
        "outFile = None #provide your file, if you need all the logging info in a file\n",
        " \n",
        "#low-rank parameterisation for weight matrices. None => Full Rank\n",
        "wRank = None \n",
        "uRank = None \n",
        " \n",
        "# Sparsity of the weight matrices. x => 100*x % are non-zeros\n",
        "# Note: Sparsity inducing is not supported in this code. \n",
        "sW = 1.0 \n",
        "sU = 1.0\n",
        " \n",
        "#Non-linearities for the RNN architecture. Can choose from \"tanh, sigmoid, relu, quantTanh, quantSigm\"\n",
        "update_non_linearity = \"relu\"\n",
        "gate_non_linearity = \"relu\""
      ],
      "execution_count": null,
      "outputs": []
    },
    {
      "cell_type": "code",
      "metadata": {
        "colab_type": "code",
        "id": "SQBrgqjkF8qz",
        "colab": {}
      },
      "source": [
        "assert dataDimension % inputDims == 0, \"Infeasible per step input, Timesteps have to be integer\"\n"
      ],
      "execution_count": null,
      "outputs": []
    },
    {
      "cell_type": "code",
      "metadata": {
        "colab_type": "code",
        "id": "sAVgj0mYh-he",
        "colab": {}
      },
      "source": [
        "cell == \"FastRNN\"\n",
        "FastCell = FastRNNCellKeras(hiddenDims, #gate_non_linearity=gate_non_linearity,\n",
        "                        update_non_linearity=update_non_linearity,\n",
        "                        wRank=wRank, uRank=uRank)\n",
        "# FastCell_1 = FastGRNNCellKeras(hiddenDims)\n",
        "# FastCell_2 = FastGRNNCellKeras(hiddenDims)\n",
        "\n"
      ],
      "execution_count": null,
      "outputs": []
    },
    {
      "cell_type": "code",
      "metadata": {
        "colab_type": "code",
        "id": "73q6BOBO7soH",
        "colab": {}
      },
      "source": [
        "from tensorflow.keras import layers\n"
      ],
      "execution_count": null,
      "outputs": []
    },
    {
      "cell_type": "code",
      "metadata": {
        "colab_type": "code",
        "id": "weTTQGmwmr5F",
        "colab": {}
      },
      "source": [
        "# print(tf.keras.__version__)"
      ],
      "execution_count": null,
      "outputs": []
    },
    {
      "cell_type": "markdown",
      "metadata": {
        "colab_type": "text",
        "id": "VsEYrwD7JHQq"
      },
      "source": [
        "Create Model"
      ]
    },
    {
      "cell_type": "code",
      "metadata": {
        "colab_type": "code",
        "id": "5_-ZEVwrl-13",
        "colab": {
          "base_uri": "https://localhost:8080/",
          "height": 400
        },
        "outputId": "719aabf4-1b66-419d-f1c1-68911046cc7a"
      },
      "source": [
        "x = inputs = Input(shape=[int(dataDimension / inputDims), inputDims], name='input')\n",
        "layer_shape = K.int_shape(x)#x.get_shape()\n",
        "print(layer_shape)\n",
        "x = RNN(FastCell, return_sequences=False, name='rnn')(x)\n",
        "#x = RNN(FastCell_1, return_sequences=True, name='rnn1')(x)\n",
        "\n",
        "\n",
        "out = Dense(1, activation='relu', name='dense')(x)\n",
        "model = Model(inputs=inputs, outputs=out)\n",
        "Adam_ = Adam(lr=0.01)\n",
        "# model.compile(optimizer=Adam_, loss='mean_squared_error', metrics=['accuracy'])\n",
        "model.compile(optimizer=Adam_, loss='mean_squared_error', metrics=['accuracy'])\n",
        "\n",
        "model.summary()"
      ],
      "execution_count": null,
      "outputs": [
        {
          "output_type": "stream",
          "text": [
            "(None, 1, 10)\n",
            "WARNING:tensorflow:From /tensorflow-1.15.2/python3.6/tensorflow_core/python/keras/initializers.py:143: calling RandomNormal.__init__ (from tensorflow.python.ops.init_ops) with dtype is deprecated and will be removed in a future version.\n",
            "Instructions for updating:\n",
            "Call initializer instance with the dtype argument instead of passing it to the constructor\n",
            "WARNING:tensorflow:From /tensorflow-1.15.2/python3.6/tensorflow_core/python/ops/resource_variable_ops.py:1630: calling BaseResourceVariable.__init__ (from tensorflow.python.ops.resource_variable_ops) with constraint is deprecated and will be removed in a future version.\n",
            "Instructions for updating:\n",
            "If using Keras pass *_constraint arguments to layers.\n",
            "Model: \"model\"\n",
            "_________________________________________________________________\n",
            "Layer (type)                 Output Shape              Param #   \n",
            "=================================================================\n",
            "input (InputLayer)           [(None, 1, 10)]           0         \n",
            "_________________________________________________________________\n",
            "rnn (RNN)                    (None, 50)                3052      \n",
            "_________________________________________________________________\n",
            "dense (Dense)                (None, 1)                 51        \n",
            "=================================================================\n",
            "Total params: 3,103\n",
            "Trainable params: 3,103\n",
            "Non-trainable params: 0\n",
            "_________________________________________________________________\n"
          ],
          "name": "stdout"
        }
      ]
    },
    {
      "cell_type": "code",
      "metadata": {
        "colab_type": "code",
        "id": "Jx7TC6zl1_ih",
        "colab": {}
      },
      "source": [
        "\n"
      ],
      "execution_count": null,
      "outputs": []
    },
    {
      "cell_type": "code",
      "metadata": {
        "colab_type": "code",
        "id": "3M5yZa52XJ7N",
        "colab": {
          "base_uri": "https://localhost:8080/",
          "height": 86
        },
        "outputId": "560082a0-80cc-4ae6-bd3a-ab59c376fc49"
      },
      "source": [
        "print(x_train.shape)\n",
        "x_train = np.reshape(x_train,[x_train.shape[0],1,10])\n",
        "print(x_test.shape)\n",
        "x_test = np.reshape(x_test,[x_test.shape[0],1,10])\n",
        "print(x_train.shape)\n",
        "print(x_test.shape)"
      ],
      "execution_count": null,
      "outputs": [
        {
          "output_type": "stream",
          "text": [
            "(329, 10, 1)\n",
            "(50, 10, 1)\n",
            "(329, 1, 10)\n",
            "(50, 1, 10)\n"
          ],
          "name": "stdout"
        }
      ]
    },
    {
      "cell_type": "code",
      "metadata": {
        "colab_type": "code",
        "id": "caC82a529ZCk",
        "colab": {}
      },
      "source": [
        "# print(x_train)\n",
        "# print(x_test)"
      ],
      "execution_count": null,
      "outputs": []
    },
    {
      "cell_type": "code",
      "metadata": {
        "colab_type": "code",
        "id": "vGAGVKNIXu1m",
        "colab": {
          "base_uri": "https://localhost:8080/",
          "height": 34
        },
        "outputId": "73b11a38-5832-47ae-ea5a-377c22dc1a87"
      },
      "source": [
        "import time\n",
        "from keras.callbacks import CSVLogger\n",
        "\n",
        "csv_logger = CSVLogger(\"model_history_log_fastrnn.csv\", append=True)\n",
        "# model.fit_generator(...,callbacks=[csv_logger])\n"
      ],
      "execution_count": null,
      "outputs": [
        {
          "output_type": "stream",
          "text": [
            "Using TensorFlow backend.\n"
          ],
          "name": "stderr"
        }
      ]
    },
    {
      "cell_type": "code",
      "metadata": {
        "colab_type": "code",
        "id": "oJHvcDEXcFz7",
        "colab": {
          "base_uri": "https://localhost:8080/",
          "height": 1000
        },
        "outputId": "8db18c7b-4053-4317-bcb0-6a6e0e9d35bf"
      },
      "source": [
        "start = time.time()\n",
        "model.fit(x_train, y_train, batchSize, epochs=totalEpochs, validation_data=(x_test, scaled_data[training_data_len : , : ]), callbacks=[csv_logger])\n",
        "stop = time.time()\n",
        "print(f\"Training time: {stop - start}s\")"
      ],
      "execution_count": null,
      "outputs": [
        {
          "output_type": "stream",
          "text": [
            "WARNING:tensorflow:From /tensorflow-1.15.2/python3.6/tensorflow_core/python/ops/math_grad.py:1424: where (from tensorflow.python.ops.array_ops) is deprecated and will be removed in a future version.\n",
            "Instructions for updating:\n",
            "Use tf.where in 2.0, which has the same broadcast rule as np.where\n",
            "Train on 329 samples, validate on 50 samples\n",
            "Epoch 1/40\n",
            "329/329 [==============================] - 0s 878us/sample - loss: 0.0271 - acc: 0.0122 - val_loss: 0.0049 - val_acc: 0.0000e+00\n",
            "Epoch 2/40\n",
            "329/329 [==============================] - 0s 212us/sample - loss: 0.0069 - acc: 0.0122 - val_loss: 0.0058 - val_acc: 0.0000e+00\n",
            "Epoch 3/40\n",
            "329/329 [==============================] - 0s 184us/sample - loss: 0.0056 - acc: 0.0122 - val_loss: 0.0055 - val_acc: 0.0000e+00\n",
            "Epoch 4/40\n",
            "329/329 [==============================] - 0s 227us/sample - loss: 0.0056 - acc: 0.0122 - val_loss: 0.0046 - val_acc: 0.0000e+00\n",
            "Epoch 5/40\n",
            "329/329 [==============================] - 0s 199us/sample - loss: 0.0045 - acc: 0.0122 - val_loss: 0.0036 - val_acc: 0.0000e+00\n",
            "Epoch 6/40\n",
            "329/329 [==============================] - 0s 195us/sample - loss: 0.0043 - acc: 0.0122 - val_loss: 0.0038 - val_acc: 0.0000e+00\n",
            "Epoch 7/40\n",
            "329/329 [==============================] - 0s 183us/sample - loss: 0.0039 - acc: 0.0122 - val_loss: 0.0033 - val_acc: 0.0000e+00\n",
            "Epoch 8/40\n",
            "329/329 [==============================] - 0s 195us/sample - loss: 0.0039 - acc: 0.0122 - val_loss: 0.0035 - val_acc: 0.0000e+00\n",
            "Epoch 9/40\n",
            "329/329 [==============================] - 0s 185us/sample - loss: 0.0033 - acc: 0.0122 - val_loss: 0.0029 - val_acc: 0.0000e+00\n",
            "Epoch 10/40\n",
            "329/329 [==============================] - 0s 202us/sample - loss: 0.0031 - acc: 0.0122 - val_loss: 0.0028 - val_acc: 0.0000e+00\n",
            "Epoch 11/40\n",
            "329/329 [==============================] - 0s 183us/sample - loss: 0.0031 - acc: 0.0122 - val_loss: 0.0027 - val_acc: 0.0000e+00\n",
            "Epoch 12/40\n",
            "329/329 [==============================] - 0s 179us/sample - loss: 0.0030 - acc: 0.0122 - val_loss: 0.0028 - val_acc: 0.0000e+00\n",
            "Epoch 13/40\n",
            "329/329 [==============================] - 0s 210us/sample - loss: 0.0029 - acc: 0.0122 - val_loss: 0.0024 - val_acc: 0.0000e+00\n",
            "Epoch 14/40\n",
            "329/329 [==============================] - 0s 193us/sample - loss: 0.0032 - acc: 0.0122 - val_loss: 0.0023 - val_acc: 0.0000e+00\n",
            "Epoch 15/40\n",
            "329/329 [==============================] - 0s 259us/sample - loss: 0.0030 - acc: 0.0122 - val_loss: 0.0024 - val_acc: 0.0000e+00\n",
            "Epoch 16/40\n",
            "329/329 [==============================] - 0s 233us/sample - loss: 0.0029 - acc: 0.0122 - val_loss: 0.0025 - val_acc: 0.0000e+00\n",
            "Epoch 17/40\n",
            "329/329 [==============================] - 0s 202us/sample - loss: 0.0030 - acc: 0.0122 - val_loss: 0.0028 - val_acc: 0.0000e+00\n",
            "Epoch 18/40\n",
            "329/329 [==============================] - 0s 189us/sample - loss: 0.0029 - acc: 0.0122 - val_loss: 0.0030 - val_acc: 0.0000e+00\n",
            "Epoch 19/40\n",
            "329/329 [==============================] - 0s 202us/sample - loss: 0.0025 - acc: 0.0122 - val_loss: 0.0023 - val_acc: 0.0000e+00\n",
            "Epoch 20/40\n",
            "329/329 [==============================] - 0s 202us/sample - loss: 0.0029 - acc: 0.0122 - val_loss: 0.0031 - val_acc: 0.0000e+00\n",
            "Epoch 21/40\n",
            "329/329 [==============================] - 0s 180us/sample - loss: 0.0028 - acc: 0.0122 - val_loss: 0.0023 - val_acc: 0.0000e+00\n",
            "Epoch 22/40\n",
            "329/329 [==============================] - 0s 205us/sample - loss: 0.0025 - acc: 0.0122 - val_loss: 0.0024 - val_acc: 0.0000e+00\n",
            "Epoch 23/40\n",
            "329/329 [==============================] - 0s 181us/sample - loss: 0.0028 - acc: 0.0122 - val_loss: 0.0024 - val_acc: 0.0000e+00\n",
            "Epoch 24/40\n",
            "329/329 [==============================] - 0s 201us/sample - loss: 0.0027 - acc: 0.0122 - val_loss: 0.0021 - val_acc: 0.0000e+00\n",
            "Epoch 25/40\n",
            "329/329 [==============================] - 0s 182us/sample - loss: 0.0027 - acc: 0.0122 - val_loss: 0.0020 - val_acc: 0.0000e+00\n",
            "Epoch 26/40\n",
            "329/329 [==============================] - 0s 200us/sample - loss: 0.0027 - acc: 0.0122 - val_loss: 0.0021 - val_acc: 0.0000e+00\n",
            "Epoch 27/40\n",
            "329/329 [==============================] - 0s 203us/sample - loss: 0.0027 - acc: 0.0122 - val_loss: 0.0025 - val_acc: 0.0000e+00\n",
            "Epoch 28/40\n",
            "329/329 [==============================] - 0s 290us/sample - loss: 0.0026 - acc: 0.0122 - val_loss: 0.0021 - val_acc: 0.0000e+00\n",
            "Epoch 29/40\n",
            "329/329 [==============================] - 0s 194us/sample - loss: 0.0026 - acc: 0.0122 - val_loss: 0.0033 - val_acc: 0.0000e+00\n",
            "Epoch 30/40\n",
            "329/329 [==============================] - 0s 207us/sample - loss: 0.0029 - acc: 0.0122 - val_loss: 0.0026 - val_acc: 0.0000e+00\n",
            "Epoch 31/40\n",
            "329/329 [==============================] - 0s 214us/sample - loss: 0.0025 - acc: 0.0122 - val_loss: 0.0023 - val_acc: 0.0000e+00\n",
            "Epoch 32/40\n",
            "329/329 [==============================] - 0s 200us/sample - loss: 0.0025 - acc: 0.0122 - val_loss: 0.0022 - val_acc: 0.0000e+00\n",
            "Epoch 33/40\n",
            "329/329 [==============================] - 0s 213us/sample - loss: 0.0027 - acc: 0.0122 - val_loss: 0.0021 - val_acc: 0.0000e+00\n",
            "Epoch 34/40\n",
            "329/329 [==============================] - 0s 197us/sample - loss: 0.0026 - acc: 0.0122 - val_loss: 0.0021 - val_acc: 0.0000e+00\n",
            "Epoch 35/40\n",
            "329/329 [==============================] - 0s 189us/sample - loss: 0.0027 - acc: 0.0122 - val_loss: 0.0020 - val_acc: 0.0000e+00\n",
            "Epoch 36/40\n",
            "329/329 [==============================] - 0s 200us/sample - loss: 0.0025 - acc: 0.0122 - val_loss: 0.0021 - val_acc: 0.0000e+00\n",
            "Epoch 37/40\n",
            "329/329 [==============================] - 0s 201us/sample - loss: 0.0032 - acc: 0.0122 - val_loss: 0.0031 - val_acc: 0.0000e+00\n",
            "Epoch 38/40\n",
            "329/329 [==============================] - 0s 203us/sample - loss: 0.0030 - acc: 0.0122 - val_loss: 0.0021 - val_acc: 0.0000e+00\n",
            "Epoch 39/40\n",
            "329/329 [==============================] - 0s 206us/sample - loss: 0.0024 - acc: 0.0122 - val_loss: 0.0021 - val_acc: 0.0000e+00\n",
            "Epoch 40/40\n",
            "329/329 [==============================] - 0s 202us/sample - loss: 0.0024 - acc: 0.0122 - val_loss: 0.0022 - val_acc: 0.0000e+00\n",
            "Training time: 3.44767165184021s\n"
          ],
          "name": "stdout"
        }
      ]
    },
    {
      "cell_type": "code",
      "metadata": {
        "id": "ktRMI5GpYsHd",
        "colab_type": "code",
        "colab": {}
      },
      "source": [
        "performance_log_fastrnn=pd.read_csv('model_history_log_fastrnn.csv')\n",
        "# print(performance_log_fastrnn)\n",
        "# del performance_log_fastrnn['acc']\n",
        "# del performance_log_fastrnn['val_acc']\n",
        "# del performance_log_fastrnn['val_loss']"
      ],
      "execution_count": null,
      "outputs": []
    },
    {
      "cell_type": "code",
      "metadata": {
        "id": "gqYs0m4oZTY0",
        "colab_type": "code",
        "colab": {}
      },
      "source": [
        "# print(performance_log_fastrnn)"
      ],
      "execution_count": null,
      "outputs": []
    },
    {
      "cell_type": "code",
      "metadata": {
        "id": "cHPPCvE-aP-4",
        "colab_type": "code",
        "colab": {}
      },
      "source": [
        "# print(performance_log_fastrnn)"
      ],
      "execution_count": null,
      "outputs": []
    },
    {
      "cell_type": "code",
      "metadata": {
        "id": "7a3m7zS9mc8-",
        "colab_type": "code",
        "colab": {
          "base_uri": "https://localhost:8080/",
          "height": 34
        },
        "outputId": "f0b5cca2-9142-4b4b-9beb-73f0b9bec2bc"
      },
      "source": [
        "time_fastrnn= stop-start\n",
        "print(time_fastrnn)"
      ],
      "execution_count": null,
      "outputs": [
        {
          "output_type": "stream",
          "text": [
            "3.44767165184021\n"
          ],
          "name": "stdout"
        }
      ]
    },
    {
      "cell_type": "code",
      "metadata": {
        "colab_type": "code",
        "id": "U01x3FaUJp4y",
        "colab": {}
      },
      "source": [
        "# len(y_test)\n",
        "# print(performance_log_fastrnn)\n"
      ],
      "execution_count": null,
      "outputs": []
    },
    {
      "cell_type": "markdown",
      "metadata": {
        "colab_type": "text",
        "id": "bZqKf0rWSBjy"
      },
      "source": [
        "Finding MSE\n"
      ]
    },
    {
      "cell_type": "code",
      "metadata": {
        "colab_type": "code",
        "id": "J30fuJHNxBTV",
        "colab": {}
      },
      "source": [
        "# print(len(test_data[60:,:]))\n",
        "# print(scaled_data[training_data_len : , : ])"
      ],
      "execution_count": null,
      "outputs": []
    },
    {
      "cell_type": "code",
      "metadata": {
        "colab_type": "code",
        "id": "Em6TxF1xrpYV",
        "colab": {
          "base_uri": "https://localhost:8080/",
          "height": 34
        },
        "outputId": "837ce874-df1f-4d35-b853-7532fcb35a94"
      },
      "source": [
        "# Getting the models predicted price values\n",
        " \n",
        "predictions_fastgrnn = model.predict(x_test)\n",
        "predictions_fastgrnn = scaler.inverse_transform(predictions_fastgrnn)#Undo scaling\n",
        "#Calculate/Get the value of RMSE\n",
        "\n",
        "# mse_fastgrnn= mean_squared_error(scaled_data[training_data_len : , : ], predictions_fastgrnn )\n",
        "# rmse_fastgrnn = math.sqrt(mse_fastgrnn)\n",
        "\n",
        "mse_fastgrnn= mean_squared_error(y_test, predictions_fastgrnn )\n",
        "rmse_fastgrnn = math.sqrt(mse_fastgrnn)\n",
        "print(rmse_fastgrnn)\n"
      ],
      "execution_count": null,
      "outputs": [
        {
          "output_type": "stream",
          "text": [
            "0.16037204461483348\n"
          ],
          "name": "stdout"
        }
      ]
    },
    {
      "cell_type": "code",
      "metadata": {
        "id": "8Or-RvrYPAOp",
        "colab_type": "code",
        "colab": {
          "base_uri": "https://localhost:8080/",
          "height": 34
        },
        "outputId": "4375ad5b-47bc-4d42-a38a-ce2c2985f782"
      },
      "source": [
        "from sklearn.metrics import r2_score\n",
        "\n",
        "cod_fastrnn = r2_score(y_test, predictions_fastgrnn)\n",
        "print(cod_fastrnn)"
      ],
      "execution_count": null,
      "outputs": [
        {
          "output_type": "stream",
          "text": [
            "0.8075154715089771\n"
          ],
          "name": "stdout"
        }
      ]
    },
    {
      "cell_type": "code",
      "metadata": {
        "id": "L8I2GMfYPJ1z",
        "colab_type": "code",
        "colab": {}
      },
      "source": [
        ""
      ],
      "execution_count": null,
      "outputs": []
    },
    {
      "cell_type": "code",
      "metadata": {
        "colab_type": "code",
        "id": "tIYTXigX6r-K",
        "colab": {}
      },
      "source": [
        "# predictions_fastgrnn = model.predict(x_test)\n",
        "# predictions_fastgrnn = scaler.inverse_transform(predictions_fastgrnn)#Undo scaling\n",
        "# # print(predictions_fastgrnn)"
      ],
      "execution_count": null,
      "outputs": []
    },
    {
      "cell_type": "code",
      "metadata": {
        "colab_type": "code",
        "id": "31VDFX0ynyrx",
        "colab": {}
      },
      "source": [
        "# len(predictions_fastgrnn)"
      ],
      "execution_count": null,
      "outputs": []
    },
    {
      "cell_type": "markdown",
      "metadata": {
        "colab_type": "text",
        "id": "HMDKqxVETe2W"
      },
      "source": [
        "################# FB Prophet ##################"
      ]
    },
    {
      "cell_type": "code",
      "metadata": {
        "colab_type": "code",
        "id": "YVNSqLvZTdwr",
        "colab": {}
      },
      "source": [
        "from fbprophet import Prophet"
      ],
      "execution_count": null,
      "outputs": []
    },
    {
      "cell_type": "code",
      "metadata": {
        "colab_type": "code",
        "id": "WHsWvokkXP8E",
        "colab": {
          "base_uri": "https://localhost:8080/",
          "height": 34
        },
        "outputId": "d14a8ee5-f6ff-4a05-84c0-ce918fc6530b"
      },
      "source": [
        "# #creating dataframe\n",
        "\n",
        "# df_fb = df[df['Close'].notna()]\n",
        "df_fb=df\n",
        "print(len(df_fb))\n",
        "# count_nan = len(df_fb) - df_fb.count()\n",
        "# print(count_nan)"
      ],
      "execution_count": null,
      "outputs": [
        {
          "output_type": "stream",
          "text": [
            "389\n"
          ],
          "name": "stdout"
        }
      ]
    },
    {
      "cell_type": "code",
      "metadata": {
        "colab_type": "code",
        "id": "tR0aWOLkojOV",
        "colab": {}
      },
      "source": [
        "# print(df_fb)"
      ],
      "execution_count": null,
      "outputs": []
    },
    {
      "cell_type": "code",
      "metadata": {
        "colab_type": "code",
        "id": "8JoPyw4yTdts",
        "colab": {
          "base_uri": "https://localhost:8080/",
          "height": 34
        },
        "outputId": "7b6f7d11-8124-4866-8a9a-b463b1e7b139"
      },
      "source": [
        "# df_fb = df_fb[df_fb['Date'].notna()]\n",
        "# df_fb = df_fb[pd.notnull(df_fb['Date'])]\n",
        "print(len(df_fb))\n"
      ],
      "execution_count": null,
      "outputs": [
        {
          "output_type": "stream",
          "text": [
            "389\n"
          ],
          "name": "stdout"
        }
      ]
    },
    {
      "cell_type": "code",
      "metadata": {
        "colab_type": "code",
        "id": "ro4WwPetT_FZ",
        "colab": {
          "base_uri": "https://localhost:8080/",
          "height": 175
        },
        "outputId": "cd5077de-9f7b-4bfe-c3b4-a2d6e2e931a1"
      },
      "source": [
        "df_fb['Time_b'] = pd.to_datetime(df_fb.Time_b,format='%Y-%m-%d')\n",
        "df_fb.index = df_fb['Time_b']"
      ],
      "execution_count": null,
      "outputs": [
        {
          "output_type": "stream",
          "text": [
            "/usr/local/lib/python3.6/dist-packages/ipykernel_launcher.py:1: SettingWithCopyWarning:\n",
            "\n",
            "\n",
            "A value is trying to be set on a copy of a slice from a DataFrame.\n",
            "Try using .loc[row_indexer,col_indexer] = value instead\n",
            "\n",
            "See the caveats in the documentation: https://pandas.pydata.org/pandas-docs/stable/user_guide/indexing.html#returning-a-view-versus-a-copy\n",
            "\n"
          ],
          "name": "stderr"
        }
      ]
    },
    {
      "cell_type": "code",
      "metadata": {
        "colab_type": "code",
        "id": "fGCCScusUQrJ",
        "colab": {
          "base_uri": "https://localhost:8080/",
          "height": 210
        },
        "outputId": "f2d9ca3b-9b01-4071-8079-a749a8c029ec"
      },
      "source": [
        "#preparing data\n",
        "df_fb.rename(columns={'Close': 'y', 'Time_b': 'ds'}, inplace=True)\n",
        "\n",
        "#train and validation\n",
        "train_fb = df_fb[:training_data_len]\n",
        "valid_fb = df_fb[training_data_len:]\n",
        "\n",
        "#fit the model\n",
        "model_fb = Prophet(daily_seasonality=True)#,yearly_seasonality=True)\n",
        "\n",
        "\n",
        "start_fb=time.time()\n",
        "model_fb.fit(train_fb)\n",
        "stop_fb = time.time()\n",
        "print(f\"Training time: {stop_fb - start_fb}s\")\n",
        "\n",
        "\n",
        "\n",
        "#predictions\n",
        "close_prices_fb = model_fb.make_future_dataframe(periods=len(valid_fb), freq='1min')\n",
        "forecast_fb = model_fb.predict(close_prices_fb)\n",
        "\n"
      ],
      "execution_count": null,
      "outputs": [
        {
          "output_type": "stream",
          "text": [
            "/usr/local/lib/python3.6/dist-packages/pandas/core/frame.py:4133: SettingWithCopyWarning:\n",
            "\n",
            "\n",
            "A value is trying to be set on a copy of a slice from a DataFrame\n",
            "\n",
            "See the caveats in the documentation: https://pandas.pydata.org/pandas-docs/stable/user_guide/indexing.html#returning-a-view-versus-a-copy\n",
            "\n",
            "INFO:fbprophet:Disabling yearly seasonality. Run prophet with yearly_seasonality=True to override this.\n",
            "INFO:fbprophet:Disabling weekly seasonality. Run prophet with weekly_seasonality=True to override this.\n"
          ],
          "name": "stderr"
        },
        {
          "output_type": "stream",
          "text": [
            "Training time: 0.4051656723022461s\n"
          ],
          "name": "stdout"
        }
      ]
    },
    {
      "cell_type": "code",
      "metadata": {
        "id": "JhybBe2vmwR8",
        "colab_type": "code",
        "colab": {
          "base_uri": "https://localhost:8080/",
          "height": 34
        },
        "outputId": "cafd5931-a6a7-4e56-91e8-fb1eb2d6c4f6"
      },
      "source": [
        "time_fb=stop_fb-start_fb\n",
        "print(time_fb)"
      ],
      "execution_count": null,
      "outputs": [
        {
          "output_type": "stream",
          "text": [
            "0.4051656723022461\n"
          ],
          "name": "stdout"
        }
      ]
    },
    {
      "cell_type": "code",
      "metadata": {
        "colab_type": "code",
        "id": "DLt8cGjDWC3R",
        "colab": {
          "base_uri": "https://localhost:8080/",
          "height": 34
        },
        "outputId": "a676fd8d-1ad2-4f1f-b6c3-21d3040610ae"
      },
      "source": [
        "#rmse\n",
        "forecast_valid_fb = forecast_fb['yhat'][training_data_len:]\n",
        "# predictions_fb=scaler.inverse_transform(np.array(forecast_valid_fb).reshape(-1,1))\n",
        "predictions_fb=np.array(forecast_valid_fb).reshape(-1,1)\n",
        "rmse_fb=np.sqrt(np.mean(np.power((np.array(valid_fb['y'])-np.array(forecast_valid_fb)),2)))\n",
        "print(rmse_fb)\n"
      ],
      "execution_count": null,
      "outputs": [
        {
          "output_type": "stream",
          "text": [
            "1.5905083620842124\n"
          ],
          "name": "stdout"
        }
      ]
    },
    {
      "cell_type": "code",
      "metadata": {
        "colab_type": "code",
        "id": "mpPWyvn8ZKj_",
        "colab": {
          "base_uri": "https://localhost:8080/",
          "height": 34
        },
        "outputId": "16b0c8a4-55d6-4101-f842-42b32d6e0d7a"
      },
      "source": [
        "\n",
        "cod_fb = r2_score((valid_fb['y']), (forecast_valid_fb))\n",
        "print(cod_fb)"
      ],
      "execution_count": null,
      "outputs": [
        {
          "output_type": "stream",
          "text": [
            "-17.93260651123592\n"
          ],
          "name": "stdout"
        }
      ]
    },
    {
      "cell_type": "markdown",
      "metadata": {
        "colab_type": "text",
        "id": "y5NN9wtm8v0t"
      },
      "source": [
        "#####################################LSTM"
      ]
    },
    {
      "cell_type": "code",
      "metadata": {
        "colab_type": "code",
        "id": "WiNJVhdGqfDD",
        "colab": {}
      },
      "source": [
        ""
      ],
      "execution_count": null,
      "outputs": []
    },
    {
      "cell_type": "code",
      "metadata": {
        "colab_type": "code",
        "id": "mj-cX82J6hUZ",
        "colab": {
          "base_uri": "https://localhost:8080/",
          "height": 34
        },
        "outputId": "98bea6db-b16c-4cbd-cfbf-112f749196f0"
      },
      "source": [
        "df = data_1\n",
        "data_2 = df.filter(['Close'])\n",
        "len(data_2)\n",
        "\n",
        "\n",
        "data_2 = data_2[data_2['Close'].notna()]\n",
        "len(data_2)"
      ],
      "execution_count": null,
      "outputs": [
        {
          "output_type": "execute_result",
          "data": {
            "text/plain": [
              "389"
            ]
          },
          "metadata": {
            "tags": []
          },
          "execution_count": 57
        }
      ]
    },
    {
      "cell_type": "code",
      "metadata": {
        "colab_type": "code",
        "id": "4YwxhVNr6lhA",
        "colab": {}
      },
      "source": [
        "\n",
        "\n",
        "#Converting the dataframe to a numpy array\n",
        "dataset = data_2.values\n",
        "#Get /Compute the number of rows to train the model on\n",
        "training_data_len = math.ceil( len(dataset) -50) \n",
        "# training_data_len = math.ceil( len(dataset) *.6)\n",
        "\n",
        "\n",
        "\n",
        "\n",
        "#Scale the all of the data to be values between 0 and 1 \n",
        "scaler = MinMaxScaler(feature_range=(0, 1)) \n",
        "scaled_data = scaler.fit_transform(dataset)\n",
        "\n",
        "\n",
        "#Create the scaled training data set \n",
        "train_data = scaled_data[0:training_data_len  , : ]\n",
        "#Split the data into x_train and y_train data sets\n",
        "x_train=[]\n",
        "y_train = []\n",
        "for i in range(10,len(train_data)):\n",
        "    x_train.append(train_data[i-10:i,0])\n",
        "    y_train.append(train_data[i,0])\n",
        "\n",
        "\n",
        "#Convert x_train and y_train to numpy arrays\n",
        "x_train, y_train = np.array(x_train), np.array(y_train)    \n",
        "\n",
        "\n",
        "#Reshape the data into the shape accepted by the LSTM\n",
        "x_train = np.reshape(x_train, (x_train.shape[0],x_train.shape[1],1))"
      ],
      "execution_count": null,
      "outputs": []
    },
    {
      "cell_type": "code",
      "metadata": {
        "colab_type": "code",
        "id": "cV_wU34D6p4w",
        "colab": {}
      },
      "source": [
        "#Test data set\n",
        "test_data = scaled_data[training_data_len - 10: , : ]\n",
        "#Create the x_test and y_test data sets\n",
        "x_test = []\n",
        "y_test =  dataset[training_data_len : , : ] #Get all of the rows from index 1603 to the rest and all of the columns (in this case it's only column 'Close'), so 2003 - 1603 = 400 rows of data\n",
        "for i in range(10,len(test_data)):\n",
        "    x_test.append(test_data[i-10:i,0])\n",
        "\n",
        "\n",
        "\n",
        "#Convert x_test to a numpy array \n",
        "x_test = np.array(x_test)\n",
        "\n",
        "#Reshape the data into the shape accepted by the LSTM\n",
        "x_test = np.reshape(x_test, (x_test.shape[0],x_test.shape[1],1))"
      ],
      "execution_count": null,
      "outputs": []
    },
    {
      "cell_type": "code",
      "metadata": {
        "colab_type": "code",
        "id": "o9I-mPhu6sAk",
        "colab": {
          "base_uri": "https://localhost:8080/",
          "height": 52
        },
        "outputId": "b80bed70-7fad-4219-929c-73d95958107c"
      },
      "source": [
        "\n",
        "print(x_train.shape)\n",
        "print(x_test.shape)\n",
        "# print(x_train)\n"
      ],
      "execution_count": null,
      "outputs": [
        {
          "output_type": "stream",
          "text": [
            "(329, 10, 1)\n",
            "(50, 10, 1)\n"
          ],
          "name": "stdout"
        }
      ]
    },
    {
      "cell_type": "code",
      "metadata": {
        "colab_type": "code",
        "id": "P7H2kfVd8NwN",
        "colab": {}
      },
      "source": [
        "from keras.models import Sequential\n",
        "from keras.layers import Dense, LSTM\n",
        "from keras.optimizers import Adam"
      ],
      "execution_count": null,
      "outputs": []
    },
    {
      "cell_type": "code",
      "metadata": {
        "colab_type": "code",
        "id": "An6tIio98LPa",
        "colab": {}
      },
      "source": [
        "\n",
        "\n",
        "#Build the LSTM network model\n",
        "model_lstm = Sequential()\n",
        "model_lstm.add(LSTM(units=50, return_sequences=True,input_shape=(x_train.shape[1],1)))\n",
        "model_lstm.add(LSTM(units=50, return_sequences=False))\n",
        "model_lstm.add(Dense(units=25))\n",
        "model_lstm.add(Dense(units=1))\n",
        "\n",
        "\n",
        "#Compile the model\n",
        "model_lstm.compile(optimizer=Adam(lr=0.001), loss='mean_squared_error')\n"
      ],
      "execution_count": null,
      "outputs": []
    },
    {
      "cell_type": "code",
      "metadata": {
        "colab_type": "code",
        "id": "vgepvXt-7vke",
        "colab": {}
      },
      "source": [
        "csv_logger_lstm = CSVLogger(\"model_history_log_lstm.csv\", append=True)\n"
      ],
      "execution_count": null,
      "outputs": []
    },
    {
      "cell_type": "code",
      "metadata": {
        "colab_type": "code",
        "id": "TbnJj1cC6y9V",
        "colab": {
          "base_uri": "https://localhost:8080/",
          "height": 1000
        },
        "outputId": "430befed-9245-47cd-fa7b-c281a016f4b2"
      },
      "source": [
        "start_lstm = time.time()\n",
        " \n",
        "#Train the model\n",
        "model_lstm.fit(x_train, y_train, batch_size=10, epochs=40,validation_data=(x_test, scaled_data[training_data_len : , : ]),callbacks=[csv_logger_lstm]) \n",
        " \n",
        "stop_lstm = time.time()\n",
        "print(f\"Training time: {stop_lstm - start_lstm}s\")"
      ],
      "execution_count": null,
      "outputs": [
        {
          "output_type": "stream",
          "text": [
            "WARNING:tensorflow:From /usr/local/lib/python3.6/dist-packages/keras/backend/tensorflow_backend.py:422: The name tf.global_variables is deprecated. Please use tf.compat.v1.global_variables instead.\n",
            "\n"
          ],
          "name": "stdout"
        },
        {
          "output_type": "stream",
          "text": [
            "WARNING:tensorflow:From /usr/local/lib/python3.6/dist-packages/keras/backend/tensorflow_backend.py:422: The name tf.global_variables is deprecated. Please use tf.compat.v1.global_variables instead.\n",
            "\n"
          ],
          "name": "stderr"
        },
        {
          "output_type": "stream",
          "text": [
            "Train on 329 samples, validate on 50 samples\n",
            "Epoch 1/40\n",
            "329/329 [==============================] - 1s 3ms/step - loss: 0.0302 - val_loss: 0.0058\n",
            "Epoch 2/40\n",
            "329/329 [==============================] - 0s 882us/step - loss: 0.0084 - val_loss: 0.0088\n",
            "Epoch 3/40\n",
            "329/329 [==============================] - 0s 906us/step - loss: 0.0066 - val_loss: 0.0060\n",
            "Epoch 4/40\n",
            "329/329 [==============================] - 0s 954us/step - loss: 0.0061 - val_loss: 0.0071\n",
            "Epoch 5/40\n",
            "329/329 [==============================] - 0s 928us/step - loss: 0.0063 - val_loss: 0.0048\n",
            "Epoch 6/40\n",
            "329/329 [==============================] - 0s 893us/step - loss: 0.0057 - val_loss: 0.0048\n",
            "Epoch 7/40\n",
            "329/329 [==============================] - 0s 978us/step - loss: 0.0057 - val_loss: 0.0055\n",
            "Epoch 8/40\n",
            "329/329 [==============================] - 0s 950us/step - loss: 0.0053 - val_loss: 0.0052\n",
            "Epoch 9/40\n",
            "329/329 [==============================] - 0s 934us/step - loss: 0.0056 - val_loss: 0.0054\n",
            "Epoch 10/40\n",
            "329/329 [==============================] - 0s 987us/step - loss: 0.0054 - val_loss: 0.0044\n",
            "Epoch 11/40\n",
            "329/329 [==============================] - 0s 901us/step - loss: 0.0042 - val_loss: 0.0050\n",
            "Epoch 12/40\n",
            "329/329 [==============================] - 0s 954us/step - loss: 0.0043 - val_loss: 0.0039\n",
            "Epoch 13/40\n",
            "329/329 [==============================] - 0s 939us/step - loss: 0.0041 - val_loss: 0.0034\n",
            "Epoch 14/40\n",
            "329/329 [==============================] - 0s 900us/step - loss: 0.0039 - val_loss: 0.0033\n",
            "Epoch 15/40\n",
            "329/329 [==============================] - 0s 858us/step - loss: 0.0036 - val_loss: 0.0034\n",
            "Epoch 16/40\n",
            "329/329 [==============================] - 0s 919us/step - loss: 0.0037 - val_loss: 0.0030\n",
            "Epoch 17/40\n",
            "329/329 [==============================] - 0s 975us/step - loss: 0.0042 - val_loss: 0.0050\n",
            "Epoch 18/40\n",
            "329/329 [==============================] - 0s 935us/step - loss: 0.0038 - val_loss: 0.0030\n",
            "Epoch 19/40\n",
            "329/329 [==============================] - 0s 904us/step - loss: 0.0035 - val_loss: 0.0030\n",
            "Epoch 20/40\n",
            "329/329 [==============================] - 0s 891us/step - loss: 0.0036 - val_loss: 0.0027\n",
            "Epoch 21/40\n",
            "329/329 [==============================] - 0s 863us/step - loss: 0.0035 - val_loss: 0.0028\n",
            "Epoch 22/40\n",
            "329/329 [==============================] - 0s 912us/step - loss: 0.0031 - val_loss: 0.0027\n",
            "Epoch 23/40\n",
            "329/329 [==============================] - 0s 961us/step - loss: 0.0030 - val_loss: 0.0026\n",
            "Epoch 24/40\n",
            "329/329 [==============================] - 0s 939us/step - loss: 0.0029 - val_loss: 0.0030\n",
            "Epoch 25/40\n",
            "329/329 [==============================] - 0s 928us/step - loss: 0.0029 - val_loss: 0.0024\n",
            "Epoch 26/40\n",
            "329/329 [==============================] - 0s 973us/step - loss: 0.0027 - val_loss: 0.0024\n",
            "Epoch 27/40\n",
            "329/329 [==============================] - 0s 913us/step - loss: 0.0028 - val_loss: 0.0027\n",
            "Epoch 28/40\n",
            "329/329 [==============================] - 0s 917us/step - loss: 0.0028 - val_loss: 0.0025\n",
            "Epoch 29/40\n",
            "329/329 [==============================] - 0s 948us/step - loss: 0.0028 - val_loss: 0.0023\n",
            "Epoch 30/40\n",
            "329/329 [==============================] - 0s 987us/step - loss: 0.0028 - val_loss: 0.0023\n",
            "Epoch 31/40\n",
            "329/329 [==============================] - 0s 948us/step - loss: 0.0026 - val_loss: 0.0023\n",
            "Epoch 32/40\n",
            "329/329 [==============================] - 0s 956us/step - loss: 0.0027 - val_loss: 0.0023\n",
            "Epoch 33/40\n",
            "329/329 [==============================] - 0s 1ms/step - loss: 0.0025 - val_loss: 0.0030\n",
            "Epoch 34/40\n",
            "329/329 [==============================] - 0s 1ms/step - loss: 0.0032 - val_loss: 0.0023\n",
            "Epoch 35/40\n",
            "329/329 [==============================] - 0s 995us/step - loss: 0.0026 - val_loss: 0.0022\n",
            "Epoch 36/40\n",
            "329/329 [==============================] - 0s 924us/step - loss: 0.0024 - val_loss: 0.0023\n",
            "Epoch 37/40\n",
            "329/329 [==============================] - 0s 983us/step - loss: 0.0024 - val_loss: 0.0022\n",
            "Epoch 38/40\n",
            "329/329 [==============================] - 0s 903us/step - loss: 0.0024 - val_loss: 0.0021\n",
            "Epoch 39/40\n",
            "329/329 [==============================] - 0s 887us/step - loss: 0.0027 - val_loss: 0.0023\n",
            "Epoch 40/40\n",
            "329/329 [==============================] - 0s 887us/step - loss: 0.0025 - val_loss: 0.0030\n",
            "Training time: 14.007461071014404s\n"
          ],
          "name": "stdout"
        }
      ]
    },
    {
      "cell_type": "code",
      "metadata": {
        "id": "bGj4gbw-fIpT",
        "colab_type": "code",
        "colab": {
          "base_uri": "https://localhost:8080/",
          "height": 726
        },
        "outputId": "84dca7b9-508d-418c-ec24-ddac654e0af5"
      },
      "source": [
        "performance_log_lstm=pd.read_csv('model_history_log_lstm.csv')\n",
        "# print(performance_log_fastrnn)\n",
        "# del performance_log_lstm['acc']\n",
        "# del performance_log_lstm['val_acc']\n",
        "# del performance_log_lstm['val_loss']\n",
        "print(performance_log_lstm)"
      ],
      "execution_count": null,
      "outputs": [
        {
          "output_type": "stream",
          "text": [
            "    epoch      loss  val_loss\n",
            "0       0  0.030208  0.005829\n",
            "1       1  0.008362  0.008786\n",
            "2       2  0.006632  0.005985\n",
            "3       3  0.006142  0.007092\n",
            "4       4  0.006347  0.004836\n",
            "5       5  0.005682  0.004847\n",
            "6       6  0.005725  0.005474\n",
            "7       7  0.005341  0.005177\n",
            "8       8  0.005635  0.005371\n",
            "9       9  0.005364  0.004429\n",
            "10     10  0.004232  0.004991\n",
            "11     11  0.004258  0.003877\n",
            "12     12  0.004146  0.003365\n",
            "13     13  0.003869  0.003349\n",
            "14     14  0.003582  0.003354\n",
            "15     15  0.003713  0.002997\n",
            "16     16  0.004196  0.004963\n",
            "17     17  0.003802  0.003017\n",
            "18     18  0.003547  0.002994\n",
            "19     19  0.003602  0.002650\n",
            "20     20  0.003516  0.002835\n",
            "21     21  0.003081  0.002737\n",
            "22     22  0.003048  0.002645\n",
            "23     23  0.002938  0.003020\n",
            "24     24  0.002948  0.002409\n",
            "25     25  0.002718  0.002444\n",
            "26     26  0.002779  0.002654\n",
            "27     27  0.002825  0.002504\n",
            "28     28  0.002784  0.002267\n",
            "29     29  0.002808  0.002323\n",
            "30     30  0.002608  0.002322\n",
            "31     31  0.002718  0.002259\n",
            "32     32  0.002500  0.003017\n",
            "33     33  0.003223  0.002290\n",
            "34     34  0.002606  0.002174\n",
            "35     35  0.002437  0.002258\n",
            "36     36  0.002443  0.002241\n",
            "37     37  0.002440  0.002141\n",
            "38     38  0.002735  0.002332\n",
            "39     39  0.002481  0.002977\n"
          ],
          "name": "stdout"
        }
      ]
    },
    {
      "cell_type": "code",
      "metadata": {
        "id": "4GNr-EiJm-cE",
        "colab_type": "code",
        "colab": {}
      },
      "source": [
        "time_lstm_1=stop_lstm-start_lstm"
      ],
      "execution_count": null,
      "outputs": []
    },
    {
      "cell_type": "code",
      "metadata": {
        "colab_type": "code",
        "id": "1Ilu8cAf66-M",
        "colab": {
          "base_uri": "https://localhost:8080/",
          "height": 34
        },
        "outputId": "682f1444-ee2e-4a12-a413-679ce7b182f4"
      },
      "source": [
        "#Getting the models predicted price values\n",
        "predictions_lstm = model_lstm.predict(x_test) \n",
        "predictions_lstm = scaler.inverse_transform(predictions_lstm)#Undo scaling\n",
        "\n",
        "#Calculate/Get the value of RMSE\n",
        "rmse_lstm_1=np.sqrt(np.mean(((predictions_lstm- y_test)**2)))\n",
        "print(rmse_lstm_1)"
      ],
      "execution_count": null,
      "outputs": [
        {
          "output_type": "stream",
          "text": [
            "0.1871492551793879\n"
          ],
          "name": "stdout"
        }
      ]
    },
    {
      "cell_type": "code",
      "metadata": {
        "colab_type": "code",
        "id": "wjz_xEQcAido",
        "colab": {
          "base_uri": "https://localhost:8080/",
          "height": 34
        },
        "outputId": "4bf38d49-5e8e-43dc-f6f2-a78b21664dec"
      },
      "source": [
        "\n",
        "cod_lstm_1 = r2_score(y_test, predictions_lstm)\n",
        "print(cod_lstm_1)"
      ],
      "execution_count": null,
      "outputs": [
        {
          "output_type": "stream",
          "text": [
            "0.737871222941324\n"
          ],
          "name": "stdout"
        }
      ]
    },
    {
      "cell_type": "code",
      "metadata": {
        "colab_type": "code",
        "id": "9NGxzbqu68yM",
        "colab": {}
      },
      "source": [
        "# predictions_lstm = scaler.inverse_transform(predictions_lstm)#Undo scaling"
      ],
      "execution_count": null,
      "outputs": []
    },
    {
      "cell_type": "code",
      "metadata": {
        "colab_type": "code",
        "id": "rQoeM2726tz6",
        "colab": {}
      },
      "source": [
        "\n"
      ],
      "execution_count": null,
      "outputs": []
    },
    {
      "cell_type": "code",
      "metadata": {
        "colab_type": "code",
        "id": "shWc_93ooAwO",
        "colab": {
          "base_uri": "https://localhost:8080/",
          "height": 452
        },
        "outputId": "40e6c719-bb23-45ed-f599-981cc05df43e"
      },
      "source": [
        "train = data[:training_data_len]\n",
        "valid = data[training_data_len:]\n",
        "valid['FastGRNN'] = predictions_fastgrnn\n",
        "valid['LSTM'] = predictions_lstm\n",
        "# valid['Auto_Arima'] = predictions_arima\n",
        "valid['FB_Prophet'] = predictions_fb\n"
      ],
      "execution_count": null,
      "outputs": [
        {
          "output_type": "stream",
          "text": [
            "/usr/local/lib/python3.6/dist-packages/ipykernel_launcher.py:3: SettingWithCopyWarning:\n",
            "\n",
            "\n",
            "A value is trying to be set on a copy of a slice from a DataFrame.\n",
            "Try using .loc[row_indexer,col_indexer] = value instead\n",
            "\n",
            "See the caveats in the documentation: https://pandas.pydata.org/pandas-docs/stable/user_guide/indexing.html#returning-a-view-versus-a-copy\n",
            "\n",
            "/usr/local/lib/python3.6/dist-packages/ipykernel_launcher.py:4: SettingWithCopyWarning:\n",
            "\n",
            "\n",
            "A value is trying to be set on a copy of a slice from a DataFrame.\n",
            "Try using .loc[row_indexer,col_indexer] = value instead\n",
            "\n",
            "See the caveats in the documentation: https://pandas.pydata.org/pandas-docs/stable/user_guide/indexing.html#returning-a-view-versus-a-copy\n",
            "\n",
            "/usr/local/lib/python3.6/dist-packages/ipykernel_launcher.py:6: SettingWithCopyWarning:\n",
            "\n",
            "\n",
            "A value is trying to be set on a copy of a slice from a DataFrame.\n",
            "Try using .loc[row_indexer,col_indexer] = value instead\n",
            "\n",
            "See the caveats in the documentation: https://pandas.pydata.org/pandas-docs/stable/user_guide/indexing.html#returning-a-view-versus-a-copy\n",
            "\n"
          ],
          "name": "stderr"
        }
      ]
    },
    {
      "cell_type": "code",
      "metadata": {
        "colab_type": "code",
        "id": "g3HgkuNJaowS",
        "colab": {
          "base_uri": "https://localhost:8080/",
          "height": 898
        },
        "outputId": "28f62cdb-ff5d-4411-f5a1-9669cf755b05"
      },
      "source": [
        "\n",
        "valid = valid.reset_index(drop=True)\n",
        "# valid.index = np.arange(1,len(valid)+1)\n",
        "print(valid)\n",
        "# valid.to_csv('pred.csv')"
      ],
      "execution_count": null,
      "outputs": [
        {
          "output_type": "stream",
          "text": [
            "         Close    FastGRNN        LSTM  FB_Prophet\n",
            "0   238.720093  238.840240  238.724060  238.785586\n",
            "1   238.940002  238.777252  238.698669  238.820715\n",
            "2   239.100006  238.945633  238.807556  238.857764\n",
            "3   239.389999  239.125229  238.955627  238.896774\n",
            "4   239.324997  239.355057  239.194885  238.937785\n",
            "5   239.425003  239.376236  239.243851  238.980836\n",
            "6   239.570007  239.482452  239.315628  239.025968\n",
            "7   239.345001  239.612457  239.434586  239.073220\n",
            "8   239.199997  239.490768  239.314560  239.122630\n",
            "9   239.210007  239.329361  239.180542  239.174238\n",
            "10  239.330002  239.300842  239.148621  239.228081\n",
            "11  239.029999  239.350906  239.222076  239.284198\n",
            "12  239.020004  239.162308  239.053864  239.342626\n",
            "13  239.010605  239.092484  238.992081  239.403402\n",
            "14  239.119995  239.053940  238.967377  239.466563\n",
            "15  239.170303  239.149384  239.028320  239.532144\n",
            "16  239.110001  239.217621  239.084015  239.600182\n",
            "17  238.809998  239.176849  239.063934  239.670712\n",
            "18  238.835007  238.923203  238.871567  239.743769\n",
            "19  238.820007  238.923416  238.812927  239.819386\n",
            "20  238.970001  238.893448  238.786575  239.897599\n",
            "21  239.160004  238.990173  238.865005  239.978439\n",
            "22  239.360001  239.148331  239.016312  240.061941\n",
            "23  239.070007  239.335617  239.202835  240.148135\n",
            "24  239.089996  239.174164  239.083694  240.237055\n",
            "25  239.059998  239.187134  239.043503  240.328731\n",
            "26  239.345001  239.153427  239.011673  240.423194\n",
            "27  239.494995  239.356293  239.180603  240.520474\n",
            "28  239.354996  239.511398  239.346558  240.620601\n",
            "29  239.850006  239.431061  239.303909  240.723603\n",
            "30  239.889999  239.777695  239.631012  240.829508\n",
            "31  239.750000  239.949509  239.756332  240.938345\n",
            "32  239.770004  239.861740  239.673218  241.050141\n",
            "33  239.860001  239.884460  239.667236  241.164921\n",
            "34  239.770004  239.923981  239.734406  241.282712\n",
            "35  239.830093  239.862061  239.679550  241.403540\n",
            "36  239.710007  239.931717  239.717743  241.527427\n",
            "37  239.750000  239.791870  239.633499  241.654399\n",
            "38  239.729996  239.805588  239.649887  241.784478\n",
            "39  239.800003  239.819946  239.639023  241.917687\n",
            "40  239.809998  239.859970  239.690109  242.054048\n",
            "41  239.850006  239.868134  239.707138  242.193582\n",
            "42  239.750000  239.916809  239.741440  242.336308\n",
            "43  239.860001  239.841232  239.670273  242.482248\n",
            "44  239.880005  239.923691  239.741806  242.631419\n",
            "45  239.761597  239.949677  239.769623  242.783841\n",
            "46  239.830002  239.868622  239.682831  242.939529\n",
            "47  239.899994  239.895477  239.721222  243.098502\n",
            "48  239.869995  239.958725  239.781937  243.260775\n",
            "49  239.802704  239.942474  239.769363  243.426363\n"
          ],
          "name": "stdout"
        }
      ]
    },
    {
      "cell_type": "code",
      "metadata": {
        "colab_type": "code",
        "id": "_XQN3NLYw-RE",
        "colab": {
          "base_uri": "https://localhost:8080/",
          "height": 86
        },
        "outputId": "c179d2a6-076f-48cc-c340-0ae6b8b4e84c"
      },
      "source": [
        "print(\"RMSE for FASTGRNN,LSMT,FB_Prophet:\")\n",
        "print(rmse_fastgrnn)\n",
        "print(rmse_lstm_1)\n",
        "# print(rmse_arima)\n",
        "print(rmse_fb)"
      ],
      "execution_count": null,
      "outputs": [
        {
          "output_type": "stream",
          "text": [
            "RMSE for FASTGRNN,LSMT,FB_Prophet:\n",
            "0.16037204461483348\n",
            "0.1871492551793879\n",
            "1.5905083620842124\n"
          ],
          "name": "stdout"
        }
      ]
    },
    {
      "cell_type": "markdown",
      "metadata": {
        "colab_type": "text",
        "id": "aumt9rlAhAiv"
      },
      "source": [
        "####################ARIMA"
      ]
    },
    {
      "cell_type": "code",
      "metadata": {
        "colab_type": "code",
        "id": "2Lu55K5mg_tZ",
        "colab": {
          "base_uri": "https://localhost:8080/",
          "height": 86
        },
        "outputId": "da4edac0-e0ec-4d91-93e0-8c676f790ab5"
      },
      "source": [
        "###Testing for stationarity (Dickey-Fuller Test)\n",
        "from statsmodels.tsa.stattools import adfuller\n",
        "# test_result = adfuller(data['Close'])\n",
        "#Ho: It is non stationary\n",
        "#H1: It is stationary\n",
        " \n",
        "start_arima = time.time()\n",
        "def adfuller_test(sales):\n",
        "    results = adfuller(sales)\n",
        "    labels = ['ADF Test Statistic', 'p-value', '#Lags used', 'Number of observations used']\n",
        "    for value, label in zip(results, labels):\n",
        "        print (label + ' : ' + str(value))\n",
        "    if (results[1] <= 0.05):\n",
        "        print (\"Strong evidence against Null Hypothesis-H0. Reject the Null Hypothesis. Data has no unit root and is stationary\")\n",
        "    else:\n",
        "        print(\"weak evidence against null hypothesis, time series has a unit root, indicating it is non-stationary \")"
      ],
      "execution_count": null,
      "outputs": [
        {
          "output_type": "stream",
          "text": [
            "/usr/local/lib/python3.6/dist-packages/statsmodels/tools/_testing.py:19: FutureWarning:\n",
            "\n",
            "pandas.util.testing is deprecated. Use the functions in the public API at pandas.testing instead.\n",
            "\n"
          ],
          "name": "stderr"
        }
      ]
    },
    {
      "cell_type": "code",
      "metadata": {
        "colab_type": "code",
        "id": "plSzvvYhVMY1",
        "colab": {}
      },
      "source": [
        "data=data_1\n",
        "data_to_se = data[data['Close'].notna()]"
      ],
      "execution_count": null,
      "outputs": []
    },
    {
      "cell_type": "code",
      "metadata": {
        "colab_type": "code",
        "id": "qM_QTHetXVph",
        "colab": {
          "base_uri": "https://localhost:8080/",
          "height": 198
        },
        "outputId": "07ac96e0-e5fa-4d68-dfea-65e0288b02d1"
      },
      "source": [
        "data.head()"
      ],
      "execution_count": null,
      "outputs": [
        {
          "output_type": "execute_result",
          "data": {
            "text/html": [
              "<div>\n",
              "<style scoped>\n",
              "    .dataframe tbody tr th:only-of-type {\n",
              "        vertical-align: middle;\n",
              "    }\n",
              "\n",
              "    .dataframe tbody tr th {\n",
              "        vertical-align: top;\n",
              "    }\n",
              "\n",
              "    .dataframe thead th {\n",
              "        text-align: right;\n",
              "    }\n",
              "</style>\n",
              "<table border=\"1\" class=\"dataframe\">\n",
              "  <thead>\n",
              "    <tr style=\"text-align: right;\">\n",
              "      <th></th>\n",
              "      <th>index</th>\n",
              "      <th>Time_b</th>\n",
              "      <th>Close</th>\n",
              "    </tr>\n",
              "  </thead>\n",
              "  <tbody>\n",
              "    <tr>\n",
              "      <th>0</th>\n",
              "      <td>0</td>\n",
              "      <td>2020-07-22 13:30:00</td>\n",
              "      <td>239.479996</td>\n",
              "    </tr>\n",
              "    <tr>\n",
              "      <th>1</th>\n",
              "      <td>1</td>\n",
              "      <td>2020-07-22 13:31:00</td>\n",
              "      <td>239.949997</td>\n",
              "    </tr>\n",
              "    <tr>\n",
              "      <th>2</th>\n",
              "      <td>2</td>\n",
              "      <td>2020-07-22 13:32:00</td>\n",
              "      <td>240.695404</td>\n",
              "    </tr>\n",
              "    <tr>\n",
              "      <th>3</th>\n",
              "      <td>3</td>\n",
              "      <td>2020-07-22 13:33:00</td>\n",
              "      <td>241.410004</td>\n",
              "    </tr>\n",
              "    <tr>\n",
              "      <th>4</th>\n",
              "      <td>4</td>\n",
              "      <td>2020-07-22 13:34:00</td>\n",
              "      <td>240.919693</td>\n",
              "    </tr>\n",
              "  </tbody>\n",
              "</table>\n",
              "</div>"
            ],
            "text/plain": [
              "   index               Time_b       Close\n",
              "0      0  2020-07-22 13:30:00  239.479996\n",
              "1      1  2020-07-22 13:31:00  239.949997\n",
              "2      2  2020-07-22 13:32:00  240.695404\n",
              "3      3  2020-07-22 13:33:00  241.410004\n",
              "4      4  2020-07-22 13:34:00  240.919693"
            ]
          },
          "metadata": {
            "tags": []
          },
          "execution_count": 75
        }
      ]
    },
    {
      "cell_type": "code",
      "metadata": {
        "colab_type": "code",
        "id": "4qJVJdyVhZT2",
        "colab": {
          "base_uri": "https://localhost:8080/",
          "height": 104
        },
        "outputId": "b5e24742-1222-4e38-bad5-b41a6311ee76"
      },
      "source": [
        "adfuller_test(data['Close'].dropna())"
      ],
      "execution_count": null,
      "outputs": [
        {
          "output_type": "stream",
          "text": [
            "ADF Test Statistic : -2.5157420188105513\n",
            "p-value : 0.11169095235853099\n",
            "#Lags used : 2\n",
            "Number of observations used : 386\n",
            "weak evidence against null hypothesis, time series has a unit root, indicating it is non-stationary \n"
          ],
          "name": "stdout"
        }
      ]
    },
    {
      "cell_type": "code",
      "metadata": {
        "colab_type": "code",
        "id": "1FtgkpXhhchM",
        "colab": {
          "base_uri": "https://localhost:8080/",
          "height": 124
        },
        "outputId": "dc887397-58e0-41e5-e716-9bb074021d69"
      },
      "source": [
        "data['Close First Difference'] = data['Close'] - data['Close'].shift(1)\n",
        "adfuller_test(data['Close First Difference'].dropna())"
      ],
      "execution_count": null,
      "outputs": [
        {
          "output_type": "stream",
          "text": [
            "ADF Test Statistic : -16.170530126448643\n",
            "p-value : 4.3696327100857374e-29\n",
            "#Lags used : 1\n",
            "Number of observations used : 385\n",
            "Strong evidence against Null Hypothesis-H0. Reject the Null Hypothesis. Data has no unit root and is stationary\n"
          ],
          "name": "stdout"
        }
      ]
    },
    {
      "cell_type": "code",
      "metadata": {
        "colab_type": "code",
        "id": "YYbmh3-xhfF6",
        "colab": {
          "base_uri": "https://localhost:8080/",
          "height": 282
        },
        "outputId": "fad5c050-3635-472b-e6b9-d3d0382362ee"
      },
      "source": [
        "data['Close First Difference'].dropna().plot()"
      ],
      "execution_count": null,
      "outputs": [
        {
          "output_type": "execute_result",
          "data": {
            "text/plain": [
              "<matplotlib.axes._subplots.AxesSubplot at 0x7fdb5234fba8>"
            ]
          },
          "metadata": {
            "tags": []
          },
          "execution_count": 78
        },
        {
          "output_type": "display_data",
          "data": {
            "image/png": "[encoded data removed]",
            "text/plain": [
              "<Figure size 432x288 with 1 Axes>"
            ]
          },
          "metadata": {
            "tags": [],
            "needs_background": "light"
          }
        }
      ]
    },
    {
      "cell_type": "code",
      "metadata": {
        "colab_type": "code",
        "id": "mTd63RIdhkSX",
        "colab": {}
      },
      "source": [
        "# data.to_csv(r\"C:\\Users\\konark.yadav\\Downloads\\data.csv\", index=False)\n",
        "data['Seasonal Difference'] = data['Close'] - data['Close'].shift(12)"
      ],
      "execution_count": null,
      "outputs": []
    },
    {
      "cell_type": "code",
      "metadata": {
        "colab_type": "code",
        "id": "PaKho-pVhnHq",
        "colab": {}
      },
      "source": [
        "from pandas.plotting import autocorrelation_plot\n",
        "from matplotlib import pyplot\n",
        "import matplotlib.pyplot as plt\n",
        " \n",
        "%matplotlib inline"
      ],
      "execution_count": null,
      "outputs": []
    },
    {
      "cell_type": "code",
      "metadata": {
        "colab_type": "code",
        "id": "cwpYJdeYho6r",
        "colab": {
          "base_uri": "https://localhost:8080/",
          "height": 283
        },
        "outputId": "2f386e2a-57bc-4dc9-ae62-46a8bbabb9fd"
      },
      "source": [
        "# from pandas.tools.plotting import autocorrelation_plot\n",
        "autocorrelation_plot(data['Close'])\n",
        "plt.show()"
      ],
      "execution_count": null,
      "outputs": [
        {
          "output_type": "display_data",
          "data": {
            "image/png": "[encoded data removed]",
            "text/plain": [
              "<Figure size 432x288 with 1 Axes>"
            ]
          },
          "metadata": {
            "tags": [],
            "needs_background": "light"
          }
        }
      ]
    },
    {
      "cell_type": "code",
      "metadata": {
        "colab_type": "code",
        "id": "WIyzz1V2hrQN",
        "colab": {
          "base_uri": "https://localhost:8080/",
          "height": 124
        },
        "outputId": "490d4a25-938f-435c-dc4f-9f9c5158dab3"
      },
      "source": [
        "adfuller_test(data['Seasonal Difference'].dropna())"
      ],
      "execution_count": null,
      "outputs": [
        {
          "output_type": "stream",
          "text": [
            "ADF Test Statistic : -4.02084681739926\n",
            "p-value : 0.0013052001881889703\n",
            "#Lags used : 12\n",
            "Number of observations used : 363\n",
            "Strong evidence against Null Hypothesis-H0. Reject the Null Hypothesis. Data has no unit root and is stationary\n"
          ],
          "name": "stdout"
        }
      ]
    },
    {
      "cell_type": "code",
      "metadata": {
        "colab_type": "code",
        "id": "waUufV4phuGN",
        "colab": {
          "base_uri": "https://localhost:8080/",
          "height": 286
        },
        "outputId": "32d3dc29-cae7-4fde-eefc-26bfc464853d"
      },
      "source": [
        "data['Seasonal Difference'].plot()"
      ],
      "execution_count": null,
      "outputs": [
        {
          "output_type": "execute_result",
          "data": {
            "text/plain": [
              "<matplotlib.axes._subplots.AxesSubplot at 0x7fdb51d80c88>"
            ]
          },
          "metadata": {
            "tags": []
          },
          "execution_count": 83
        },
        {
          "output_type": "display_data",
          "data": {
            "image/png": "[encoded data removed]",
            "text/plain": [
              "<Figure size 432x288 with 1 Axes>"
            ]
          },
          "metadata": {
            "tags": [],
            "needs_background": "light"
          }
        }
      ]
    },
    {
      "cell_type": "code",
      "metadata": {
        "colab_type": "code",
        "id": "PPosZxl-hxRo",
        "colab": {
          "base_uri": "https://localhost:8080/",
          "height": 283
        },
        "outputId": "831cdddf-6e43-4405-85f4-cae85ac76a2e"
      },
      "source": [
        "from pandas.plotting import autocorrelation_plot\n",
        "autocorrelation_plot(data['Close'])\n",
        "plt.show()"
      ],
      "execution_count": null,
      "outputs": [
        {
          "output_type": "display_data",
          "data": {
            "image/png": "[encoded data removed]",
            "text/plain": [
              "<Figure size 432x288 with 1 Axes>"
            ]
          },
          "metadata": {
            "tags": [],
            "needs_background": "light"
          }
        }
      ]
    },
    {
      "cell_type": "code",
      "metadata": {
        "colab_type": "code",
        "id": "kLyBvTwkhztX",
        "colab": {
          "base_uri": "https://localhost:8080/",
          "height": 499
        },
        "outputId": "37b2600b-7827-4338-ea19-bc6e74c6e759"
      },
      "source": [
        "from statsmodels.graphics.tsaplots import plot_acf,plot_pacf\n",
        "import statsmodels.api as sm\n",
        " \n",
        "fig = plt.figure(figsize=(12,8))\n",
        "ax1 = fig.add_subplot(211)\n",
        "fig = sm.graphics.tsa.plot_acf(train,lags=40,ax=ax1)\n",
        "ax2 = fig.add_subplot(212)\n",
        "fig = sm.graphics.tsa.plot_pacf(train,lags=40,ax=ax2)"
      ],
      "execution_count": null,
      "outputs": [
        {
          "output_type": "display_data",
          "data": {
            "image/png": "[encoded data removed]",
            "text/plain": [
              "<Figure size 864x576 with 2 Axes>"
            ]
          },
          "metadata": {
            "tags": [],
            "needs_background": "light"
          }
        }
      ]
    },
    {
      "cell_type": "code",
      "metadata": {
        "colab_type": "code",
        "id": "vNLVg4m5h2To",
        "colab": {}
      },
      "source": [
        "from statsmodels.tsa.arima_model import ARIMA\n",
        "X = data['Close'].dropna().values\n",
        "size = int(len(X) -50)\n",
        "train, test = X[0:size], X[size:len(X)]"
      ],
      "execution_count": null,
      "outputs": []
    },
    {
      "cell_type": "code",
      "metadata": {
        "colab_type": "code",
        "id": "Z9jqPVhZU1lU",
        "colab": {}
      },
      "source": [
        "# print(data)"
      ],
      "execution_count": null,
      "outputs": []
    },
    {
      "cell_type": "code",
      "metadata": {
        "colab_type": "code",
        "id": "xRZO0cimh4jL",
        "colab": {}
      },
      "source": [
        "# train\n",
        "model_arima = ARIMA(train, order = (2,1,1))\n",
        "model_fit = model_arima.fit()"
      ],
      "execution_count": null,
      "outputs": []
    },
    {
      "cell_type": "code",
      "metadata": {
        "id": "6hEbPV6puazx",
        "colab_type": "code",
        "colab": {}
      },
      "source": [
        "predictions=model_fit.forecast(len(test))[0]\n",
        "stop_arima = time.time()"
      ],
      "execution_count": null,
      "outputs": []
    },
    {
      "cell_type": "code",
      "metadata": {
        "id": "G_Xm6o9Jz0T1",
        "colab_type": "code",
        "colab": {
          "base_uri": "https://localhost:8080/",
          "height": 34
        },
        "outputId": "e559b469-a56d-40eb-9158-caa840bbe592"
      },
      "source": [
        "len(test)"
      ],
      "execution_count": null,
      "outputs": [
        {
          "output_type": "execute_result",
          "data": {
            "text/plain": [
              "50"
            ]
          },
          "metadata": {
            "tags": []
          },
          "execution_count": 90
        }
      ]
    },
    {
      "cell_type": "code",
      "metadata": {
        "id": "rFxqDDaOvEu8",
        "colab_type": "code",
        "colab": {
          "base_uri": "https://localhost:8080/",
          "height": 34
        },
        "outputId": "7cb5b315-31f1-4f86-ff80-684cf34b11a5"
      },
      "source": [
        "from sklearn.metrics import mean_squared_error\n",
        "error = math.sqrt(mean_squared_error(test, model_fit.forecast(len(test))[0]))\n",
        "print('Test RMSE: %.3f' % error)"
      ],
      "execution_count": null,
      "outputs": [
        {
          "output_type": "stream",
          "text": [
            "Test RMSE: 0.867\n"
          ],
          "name": "stdout"
        }
      ]
    },
    {
      "cell_type": "code",
      "metadata": {
        "id": "jZfxN1ZQou9y",
        "colab_type": "code",
        "colab": {
          "base_uri": "https://localhost:8080/",
          "height": 34
        },
        "outputId": "d647a5ed-d054-4aa5-94e0-54e68f9de6e1"
      },
      "source": [
        "time_arima=stop_arima - start_arima\n",
        "print(time_arima)"
      ],
      "execution_count": null,
      "outputs": [
        {
          "output_type": "stream",
          "text": [
            "1.7368195056915283\n"
          ],
          "name": "stdout"
        }
      ]
    },
    {
      "cell_type": "code",
      "metadata": {
        "colab_type": "code",
        "id": "dsEfqlVmh7gc",
        "colab": {}
      },
      "source": [
        "# history = [x for x in train]\n",
        "# from sklearn.metrics import mean_squared_error\n",
        "# from math import sqrt\n",
        "# predictions = list()\n",
        "# for t in range(len(test)):\n",
        "#     model = ARIMA(history, order=(2,1,1))\n",
        "#     model_fit = model.fit()\n",
        "#     output = model_fit.forecast()\n",
        "#     yhat = output[0]\n",
        "#     predictions.append(yhat)\n",
        "#     obs = test[t]\n",
        "#     history.append(obs)\n",
        "#     print('predicted=%f, expected=%f' % (yhat, obs))\n",
        "# error = sqrt(mean_squared_error(test, predictions))\n",
        "# print('Test RMSE: %.3f' % error)\n",
        "# # plot\n",
        "# pyplot.plot(test)\n",
        "# pyplot.plot(predictions, color='red')\n",
        "# pyplot.show()"
      ],
      "execution_count": null,
      "outputs": []
    },
    {
      "cell_type": "code",
      "metadata": {
        "colab_type": "code",
        "id": "mxhITv-CjYY0",
        "colab": {
          "base_uri": "https://localhost:8080/",
          "height": 34
        },
        "outputId": "49601490-1dac-4d12-8c8e-05398c4944cd"
      },
      "source": [
        "from sklearn.metrics import r2_score\n",
        "cod_arima = r2_score(test, predictions)\n",
        "print(cod_arima)"
      ],
      "execution_count": null,
      "outputs": [
        {
          "output_type": "stream",
          "text": [
            "-4.62110424388761\n"
          ],
          "name": "stdout"
        }
      ]
    },
    {
      "cell_type": "code",
      "metadata": {
        "colab_type": "code",
        "id": "AUWrSSO2iV-Q",
        "colab": {}
      },
      "source": [
        "arima_pred_df = pd.DataFrame({'Arima Predictions':predictions})\n",
        "valid['Arima']=arima_pred_df['Arima Predictions']"
      ],
      "execution_count": null,
      "outputs": []
    },
    {
      "cell_type": "code",
      "metadata": {
        "colab_type": "code",
        "id": "WodCymZtiRoZ",
        "colab": {}
      },
      "source": [
        ""
      ],
      "execution_count": null,
      "outputs": []
    },
    {
      "cell_type": "code",
      "metadata": {
        "colab_type": "code",
        "id": "595rCk38UFsW",
        "colab": {}
      },
      "source": [
        "# valid\n",
        "# valid.to_csv('valid_df.csv')"
      ],
      "execution_count": null,
      "outputs": []
    },
    {
      "cell_type": "code",
      "metadata": {
        "colab_type": "code",
        "id": "7s-cmFa5qUm3",
        "colab": {}
      },
      "source": [
        "import matplotlib.pyplot as plt"
      ],
      "execution_count": null,
      "outputs": []
    },
    {
      "cell_type": "code",
      "metadata": {
        "colab_type": "code",
        "id": "pbFzu47tviqd",
        "colab": {
          "base_uri": "https://localhost:8080/",
          "height": 622
        },
        "outputId": "e4970ee8-0c18-40ab-a9e8-682be0122bf4"
      },
      "source": [
        "#Visualize the data\n",
        "plt.figure(figsize=(20,15))\n",
        "plt.title('Predicted Results')\n",
        "plt.xlabel('Days', fontsize=18)\n",
        "plt.ylabel(\"Stock Closing Prices\", fontsize=18)\n",
        "# plt.plot(train['Close'], color='green')\n",
        " \n",
        " \n",
        "plt.plot(valid[['Close']], color= 'orange', label='test_data')\n",
        "plt.plot(valid[['FastGRNN']],color = 'green',label='FastGRNN')\n",
        "plt.plot(valid[['LSTM']],color = 'red',label='LSTM')\n",
        "plt.plot(valid[['Arima']],color = 'blue',label='Arima')\n",
        "plt.plot(valid[['FB_Prophet']],color = 'brown',label='FB_Prophet')\n",
        " \n",
        "plt.legend( loc='lower left')\n",
        "plt.savefig('plot_predicted.png')"
      ],
      "execution_count": null,
      "outputs": [
        {
          "output_type": "display_data",
          "data": {
            "image/png": "[encoded data removed]",
            "text/plain": [
              "<Figure size 1440x1080 with 1 Axes>"
            ]
          },
          "metadata": {
            "tags": [],
            "needs_background": "light"
          }
        }
      ]
    },
    {
      "cell_type": "code",
      "metadata": {
        "colab_type": "code",
        "id": "WjcaHrozqQ7o",
        "colab": {
          "base_uri": "https://localhost:8080/",
          "height": 104
        },
        "outputId": "2720f818-7c9c-4350-ea9e-33cc9359ac37"
      },
      "source": [
        "\n",
        "print('Arima MSE: %.3f' % error)\n",
        "print(\"RMSE for FASTRNN,LSMT,FB_Prophet:\")\n",
        "print(rmse_fastgrnn)\n",
        "print(rmse_lstm_1)\n",
        "print(rmse_fb)\n"
      ],
      "execution_count": null,
      "outputs": [
        {
          "output_type": "stream",
          "text": [
            "Arima MSE: 0.867\n",
            "RMSE for FASTRNN,LSMT,FB_Prophet:\n",
            "0.16037204461483348\n",
            "0.1871492551793879\n",
            "1.5905083620842124\n"
          ],
          "name": "stdout"
        }
      ]
    },
    {
      "cell_type": "code",
      "metadata": {
        "id": "_xDxanjRo0iH",
        "colab_type": "code",
        "colab": {
          "base_uri": "https://localhost:8080/",
          "height": 69
        },
        "outputId": "8ad97505-75a7-45e6-b158-ba652d9481c1"
      },
      "source": [
        "print(time_lstm_1)\n",
        "print(time_fastrnn)\n",
        "print(time_fb)"
      ],
      "execution_count": null,
      "outputs": [
        {
          "output_type": "stream",
          "text": [
            "14.007461071014404\n",
            "3.44767165184021\n",
            "0.4051656723022461\n"
          ],
          "name": "stdout"
        }
      ]
    },
    {
      "cell_type": "code",
      "metadata": {
        "colab_type": "code",
        "id": "ZQndsjh1sfUl",
        "colab": {
          "base_uri": "https://localhost:8080/",
          "height": 34
        },
        "outputId": "00437320-36d7-45f5-e493-4ee1cbae9f16"
      },
      "source": [
        "################CNN + LSTM + BiLSTM############################\n",
        "df = data_1\n",
        "data_2 = df.filter(['Close'])\n",
        "len(data_2)\n",
        "\n",
        "data_2 = data_2[data_2['Close'].notna()]\n",
        "len(data_2)"
      ],
      "execution_count": null,
      "outputs": [
        {
          "output_type": "execute_result",
          "data": {
            "text/plain": [
              "389"
            ]
          },
          "metadata": {
            "tags": []
          },
          "execution_count": 101
        }
      ]
    },
    {
      "cell_type": "code",
      "metadata": {
        "id": "AflVYhKO-oLu",
        "colab_type": "code",
        "colab": {}
      },
      "source": [
        "import math\n",
        "from sklearn.preprocessing import MinMaxScaler\n",
        "import numpy as np\n",
        "#Converting the dataframe to a numpy array\n",
        "dataset = data_2.values\n",
        "#Get /Compute the number of rows to train the model on\n",
        "training_data_len = math.ceil( len(dataset) -50) \n",
        "# training_data_len = math.ceil( len(dataset) *.6)\n",
        "\n",
        "\n",
        "\n",
        "\n",
        "#Scale the all of the data to be values between 0 and 1 \n",
        "scaler = MinMaxScaler(feature_range=(0, 1)) \n",
        "scaled_data = scaler.fit_transform(dataset)\n",
        "\n",
        "\n",
        "#Create the scaled training data set \n",
        "train_data = scaled_data[0:training_data_len  , : ]\n",
        "#Split the data into x_train and y_train data sets\n",
        "x_train=[]\n",
        "y_train = []\n",
        "for i in range(10,len(train_data)):\n",
        "    x_train.append(train_data[i-10:i,0])\n",
        "    y_train.append(train_data[i,0])\n",
        "\n",
        "\n",
        "#Convert x_train and y_train to numpy arrays\n",
        "x_train, y_train = np.array(x_train), np.array(y_train)    \n",
        "\n",
        "\n",
        "#Reshape the data into the shape accepted by the CNN + BiLSTM\n",
        "x_train = np.reshape(x_train, (x_train.shape[0],x_train.shape[1],1))"
      ],
      "execution_count": null,
      "outputs": []
    },
    {
      "cell_type": "code",
      "metadata": {
        "id": "OFRZZIyA-oLw",
        "colab_type": "code",
        "colab": {}
      },
      "source": [
        "#Test data set\n",
        "test_data = scaled_data[training_data_len - 10: , : ]\n",
        "#Create the x_test and y_test data sets\n",
        "x_test = []\n",
        "y_test =  dataset[training_data_len : , : ] #Get all of the rows from index 1603 to the rest and all of the columns (in this case it's only column 'Close'), so 2003 - 1603 = 400 rows of data\n",
        "for i in range(10,len(test_data)):\n",
        "    x_test.append(test_data[i-10:i,0])\n",
        "\n",
        "\n",
        "\n",
        "#Convert x_test to a numpy array \n",
        "x_test = np.array(x_test)\n",
        "\n",
        "#Reshape the data into the shape accepted by the CNN + BiLSTM\n",
        "x_test = np.reshape(x_test, (x_test.shape[0],x_test.shape[1],1))"
      ],
      "execution_count": null,
      "outputs": []
    },
    {
      "cell_type": "code",
      "metadata": {
        "id": "1uAvIBbZ-oLx",
        "colab_type": "code",
        "colab": {
          "base_uri": "https://localhost:8080/",
          "height": 52
        },
        "outputId": "2a587b3e-b9c7-4e09-9b38-b95d34693e91"
      },
      "source": [
        "print(x_train.shape)\n",
        "print(x_test.shape)"
      ],
      "execution_count": null,
      "outputs": [
        {
          "output_type": "stream",
          "text": [
            "(329, 10, 1)\n",
            "(50, 10, 1)\n"
          ],
          "name": "stdout"
        }
      ]
    },
    {
      "cell_type": "code",
      "metadata": {
        "id": "N-bh2zEC-oL4",
        "colab_type": "code",
        "colab": {
          "base_uri": "https://localhost:8080/",
          "height": 106
        },
        "outputId": "2c4477e0-76d9-4436-dbae-2eef43568583"
      },
      "source": [
        "from keras.models import Sequential\n",
        "from keras.layers import Dense, LSTM\n",
        "from keras.optimizers import Adam\n",
        "from keras.layers.convolutional import Conv1D\n",
        "from keras.layers.convolutional import MaxPooling1D\n",
        "from keras.layers import Bidirectional\n",
        "from keras.layers import Dense, Input, CuDNNLSTM, Embedding, Dropout, Activation, CuDNNGRU, Conv1D\n",
        "#Build the LSTM network model\n",
        "model_cnn_lstm = Sequential()\n",
        "model_cnn_lstm.add(LSTM(units=50, return_sequences=True,input_shape=(x_train.shape[1],1)))\n",
        "model_cnn_lstm.add(Conv1D(filters=50, kernel_size=3, padding='same', activation='relu'))\n",
        "model_cnn_lstm.add(MaxPooling1D(pool_size=2))\n",
        "# model_cnn_lstm.add(LSTM(units=50, return_sequences=False))\n",
        "model_cnn_lstm.add(Bidirectional(LSTM(units=50, return_sequences=False)))\n",
        "model_cnn_lstm.add(Dropout(0.5))\n",
        "\n",
        "model_cnn_lstm.add(Dense(units=25))\n",
        "model_cnn_lstm.add(Dense(units=1))\n",
        "\n",
        "\n",
        "#Compile the model\n",
        "model_cnn_lstm.compile(optimizer=Adam(lr=0.001), loss='mean_squared_error')"
      ],
      "execution_count": null,
      "outputs": [
        {
          "output_type": "stream",
          "text": [
            "WARNING:tensorflow:From /usr/local/lib/python3.6/dist-packages/keras/backend/tensorflow_backend.py:4070: The name tf.nn.max_pool is deprecated. Please use tf.nn.max_pool2d instead.\n",
            "\n"
          ],
          "name": "stdout"
        },
        {
          "output_type": "stream",
          "text": [
            "WARNING:tensorflow:From /usr/local/lib/python3.6/dist-packages/keras/backend/tensorflow_backend.py:4070: The name tf.nn.max_pool is deprecated. Please use tf.nn.max_pool2d instead.\n",
            "\n"
          ],
          "name": "stderr"
        }
      ]
    },
    {
      "cell_type": "code",
      "metadata": {
        "id": "lk_708Vz-oL9",
        "colab_type": "code",
        "colab": {
          "base_uri": "https://localhost:8080/",
          "height": 1000
        },
        "outputId": "0d5c70a5-c771-446e-a87c-a5e99862b96e"
      },
      "source": [
        "start_lstm = time.time()\n",
        " \n",
        "#Train the model\n",
        "model_cnn_lstm.fit(x_train, y_train, batch_size=10, epochs=40) \n",
        " \n",
        "stop_lstm = time.time()\n",
        "print(f\"Training time: {stop_lstm - start_lstm}s\")"
      ],
      "execution_count": null,
      "outputs": [
        {
          "output_type": "stream",
          "text": [
            "Epoch 1/40\n",
            "329/329 [==============================] - 1s 4ms/step - loss: 0.0307\n",
            "Epoch 2/40\n",
            "329/329 [==============================] - 0s 1ms/step - loss: 0.0109\n",
            "Epoch 3/40\n",
            "329/329 [==============================] - 0s 1ms/step - loss: 0.0107\n",
            "Epoch 4/40\n",
            "329/329 [==============================] - 0s 1ms/step - loss: 0.0093\n",
            "Epoch 5/40\n",
            "329/329 [==============================] - 0s 1ms/step - loss: 0.0105\n",
            "Epoch 6/40\n",
            "329/329 [==============================] - 0s 1ms/step - loss: 0.0102\n",
            "Epoch 7/40\n",
            "329/329 [==============================] - 0s 1ms/step - loss: 0.0081\n",
            "Epoch 8/40\n",
            "329/329 [==============================] - 0s 1ms/step - loss: 0.0071\n",
            "Epoch 9/40\n",
            "329/329 [==============================] - 0s 1ms/step - loss: 0.0067\n",
            "Epoch 10/40\n",
            "329/329 [==============================] - 0s 1ms/step - loss: 0.0074\n",
            "Epoch 11/40\n",
            "329/329 [==============================] - 0s 1ms/step - loss: 0.0070\n",
            "Epoch 12/40\n",
            "329/329 [==============================] - 0s 1ms/step - loss: 0.0076\n",
            "Epoch 13/40\n",
            "329/329 [==============================] - 0s 1ms/step - loss: 0.0056\n",
            "Epoch 14/40\n",
            "329/329 [==============================] - 0s 1ms/step - loss: 0.0062\n",
            "Epoch 15/40\n",
            "329/329 [==============================] - 0s 1ms/step - loss: 0.0045\n",
            "Epoch 16/40\n",
            "329/329 [==============================] - 0s 1ms/step - loss: 0.0042\n",
            "Epoch 17/40\n",
            "329/329 [==============================] - 0s 1ms/step - loss: 0.0047\n",
            "Epoch 18/40\n",
            "329/329 [==============================] - 0s 1ms/step - loss: 0.0042\n",
            "Epoch 19/40\n",
            "329/329 [==============================] - 0s 1ms/step - loss: 0.0045\n",
            "Epoch 20/40\n",
            "329/329 [==============================] - 0s 1ms/step - loss: 0.0054\n",
            "Epoch 21/40\n",
            "329/329 [==============================] - 0s 1ms/step - loss: 0.0044\n",
            "Epoch 22/40\n",
            "329/329 [==============================] - 0s 1ms/step - loss: 0.0042\n",
            "Epoch 23/40\n",
            "329/329 [==============================] - 0s 1ms/step - loss: 0.0038\n",
            "Epoch 24/40\n",
            "329/329 [==============================] - 0s 1ms/step - loss: 0.0041\n",
            "Epoch 25/40\n",
            "329/329 [==============================] - 0s 1ms/step - loss: 0.0039\n",
            "Epoch 26/40\n",
            "329/329 [==============================] - 0s 1ms/step - loss: 0.0044\n",
            "Epoch 27/40\n",
            "329/329 [==============================] - 0s 1ms/step - loss: 0.0038\n",
            "Epoch 28/40\n",
            "329/329 [==============================] - 0s 1ms/step - loss: 0.0036\n",
            "Epoch 29/40\n",
            "329/329 [==============================] - 0s 1ms/step - loss: 0.0041\n",
            "Epoch 30/40\n",
            "329/329 [==============================] - 0s 1ms/step - loss: 0.0045\n",
            "Epoch 31/40\n",
            "329/329 [==============================] - 0s 1ms/step - loss: 0.0046\n",
            "Epoch 32/40\n",
            "329/329 [==============================] - 0s 1ms/step - loss: 0.0039\n",
            "Epoch 33/40\n",
            "329/329 [==============================] - 0s 1ms/step - loss: 0.0036\n",
            "Epoch 34/40\n",
            "329/329 [==============================] - 0s 1ms/step - loss: 0.0042\n",
            "Epoch 35/40\n",
            "329/329 [==============================] - 0s 1ms/step - loss: 0.0037\n",
            "Epoch 36/40\n",
            "329/329 [==============================] - 0s 1ms/step - loss: 0.0035\n",
            "Epoch 37/40\n",
            "329/329 [==============================] - 0s 1ms/step - loss: 0.0039\n",
            "Epoch 38/40\n",
            "329/329 [==============================] - 0s 1ms/step - loss: 0.0043\n",
            "Epoch 39/40\n",
            "329/329 [==============================] - 0s 1ms/step - loss: 0.0037\n",
            "Epoch 40/40\n",
            "329/329 [==============================] - 0s 1ms/step - loss: 0.0045\n",
            "Training time: 17.520658493041992s\n"
          ],
          "name": "stdout"
        }
      ]
    },
    {
      "cell_type": "code",
      "metadata": {
        "id": "a0QFUxJKpGgT",
        "colab_type": "code",
        "colab": {
          "base_uri": "https://localhost:8080/",
          "height": 34
        },
        "outputId": "50c42c22-a0d0-4ddd-a551-d141570ee469"
      },
      "source": [
        "time_CNN_LSTM_BiLSTM= stop_lstm - start_lstm\n",
        "print(time_CNN_LSTM_BiLSTM)"
      ],
      "execution_count": null,
      "outputs": [
        {
          "output_type": "stream",
          "text": [
            "17.520658493041992\n"
          ],
          "name": "stdout"
        }
      ]
    },
    {
      "cell_type": "code",
      "metadata": {
        "id": "EN49aKnX-oMB",
        "colab_type": "code",
        "colab": {
          "base_uri": "https://localhost:8080/",
          "height": 34
        },
        "outputId": "33c0c3bd-e1ff-40a2-f49d-c142e0485fed"
      },
      "source": [
        "#Getting the models predicted price values\n",
        "predictions_CNN_LSTM_BiLSTM = model_cnn_lstm.predict(x_test) \n",
        "predictions_CNN_LSTM_BiLSTM = scaler.inverse_transform(predictions_CNN_LSTM_BiLSTM)#Undo scaling\n",
        "\n",
        "#Calculate/Get the value of RMSE\n",
        "rmse_CNN_LSTM_BiLSTM=np.sqrt(np.mean(((predictions_CNN_LSTM_BiLSTM- y_test)**2)))\n",
        "print(rmse_CNN_LSTM_BiLSTM)"
      ],
      "execution_count": null,
      "outputs": [
        {
          "output_type": "stream",
          "text": [
            "0.19898068148469128\n"
          ],
          "name": "stdout"
        }
      ]
    },
    {
      "cell_type": "code",
      "metadata": {
        "id": "iXWXWGYKRXY9",
        "colab_type": "code",
        "colab": {
          "base_uri": "https://localhost:8080/",
          "height": 34
        },
        "outputId": "6bb60176-06ae-47c2-d899-76a33d433321"
      },
      "source": [
        "cod_CNN_LSTM_BiLSTM= r2_score(y_test, predictions_CNN_LSTM_BiLSTM)\n",
        "print(cod_CNN_LSTM_BiLSTM)"
      ],
      "execution_count": null,
      "outputs": [
        {
          "output_type": "stream",
          "text": [
            "0.7036804379434998\n"
          ],
          "name": "stdout"
        }
      ]
    },
    {
      "cell_type": "markdown",
      "metadata": {
        "id": "1TMj5K6gsBCg",
        "colab_type": "text"
      },
      "source": [
        "## FastRNN+ Above model"
      ]
    },
    {
      "cell_type": "code",
      "metadata": {
        "id": "fR8VrDtl5wGb",
        "colab_type": "code",
        "colab": {}
      },
      "source": [
        ""
      ],
      "execution_count": null,
      "outputs": []
    },
    {
      "cell_type": "code",
      "metadata": {
        "id": "aFFIRu3owXwY",
        "colab_type": "code",
        "colab": {}
      },
      "source": [
        "import tensorflow.keras.layers\n",
        "from tensorflow.keras.models import Sequential\n",
        "from tensorflow.keras.layers import Dense, LSTM\n",
        "from tensorflow.keras.optimizers import Adam\n",
        "from tensorflow.keras.layers import Conv1D\n",
        "from tensorflow.keras.layers import MaxPooling1D\n",
        "from tensorflow.keras.layers import Bidirectional\n",
        "from tensorflow.keras.layers import Dense, Input, CuDNNLSTM, Embedding, Dropout, Activation, CuDNNGRU, Conv1D\n",
        "from tensorflow.keras.layers import Dense, Input, RNN\n",
        "from tensorflow.keras.models import Model, Sequential, load_model\n",
        "from tensorflow.keras import backend as K\n",
        "from tensorflow.keras.optimizers import Adam"
      ],
      "execution_count": null,
      "outputs": []
    },
    {
      "cell_type": "code",
      "metadata": {
        "id": "61fVsZit6SbX",
        "colab_type": "code",
        "colab": {}
      },
      "source": [
        "#Import keras grnn\n",
        "from rnn import FastGRNNCellKeras, FastRNNCellKeras"
      ],
      "execution_count": null,
      "outputs": []
    },
    {
      "cell_type": "code",
      "metadata": {
        "id": "l0nFWy7xsAjC",
        "colab_type": "code",
        "colab": {
          "base_uri": "https://localhost:8080/",
          "height": 348
        },
        "outputId": "96894892-11e8-45cf-c251-68c6bf04ee33"
      },
      "source": [
        "\n",
        "\n",
        "y = inputs = Input(shape=[int(dataDimension / inputDims), inputDims], name='input')\n",
        "layer_shape = K.int_shape(y)#x.get_shape()\n",
        "# print(layer_shape)\n",
        "# x = RNN(FastCell, return_sequences=False, name='rnn')(x)\n",
        "# #x = RNN(FastCell_1, return_sequences=True, name='rnn1')(x)\n",
        "\n",
        "\n",
        "# out = Dense(1, activation='relu', name='dense')(x)\n",
        "# model = Model(inputs=inputs, outputs=out)\n",
        "# Adam_ = Adam(lr=0.001)\n",
        "# # model.compile(optimizer=Adam_, loss='mean_squared_error', metrics=['accuracy'])\n",
        "# model.compile(optimizer=Adam_, loss='mean_squared_error', metrics=['accuracy'])\n",
        "\n",
        "#Build the LSTM network model\n",
        "y = RNN(FastCell, return_sequences=True, name='rnn')(y)\n",
        "# LSTM(units=50, return_sequences=True,input_shape=(x_train.shape[1],1))\n",
        "y= Conv1D(filters=300, kernel_size=3 , padding='same', activation='relu', name='Conv1D')(y)\n",
        "\n",
        "y= MaxPooling1D(pool_size=1,name='MaxPooling1D')(y)\n",
        "# model_cnn_lstm.add(LSTM(units=50, return_sequences=False))\n",
        "y= Bidirectional(LSTM(units=50, return_sequences=False))(y)\n",
        "# y= Dropout(0.5)(y)\n",
        "\n",
        "y= Dense(units=25)(y)\n",
        "out= Dense(units=1)(y)\n",
        "model_fastrnn_hyb = Model(inputs=inputs, outputs=out)\n",
        "\n",
        "\n",
        "\n",
        "\n",
        "# #Build the LSTM network model\n",
        "\n",
        "# model_cnn_lstm.add(RNN(FastCell,  return_sequences=True,input_shape=(x_train.shape[1],1)))\n",
        "# model_cnn_lstm.add(Conv1D(filters=50, kernel_size=3, padding='same', activation='relu'))\n",
        "# model_cnn_lstm.add(MaxPooling1D(pool_size=2))\n",
        "# # model_cnn_lstm.add(LSTM(units=50, return_sequences=False))\n",
        "# model_cnn_lstm.add(Bidirectional(LSTM(units=50, return_sequences=False)))\n",
        "# model_cnn_lstm.add(Dropout(0.5))\n",
        "\n",
        "# model_cnn_lstm.add(Dense(units=25))\n",
        "# model_cnn_lstm.add(Dense(units=1))\n",
        "\n",
        "\n",
        "#Compile the model\n",
        "model_fastrnn_hyb.compile(optimizer=Adam_, loss='mean_squared_error')\n",
        "# model_cnn_lstm.compile(optimizer='Adam_', loss='mean_squared_error', metrics=['accuracy'])"
      ],
      "execution_count": null,
      "outputs": [
        {
          "output_type": "stream",
          "text": [
            "WARNING:tensorflow:From /tensorflow-1.15.2/python3.6/tensorflow_core/python/ops/init_ops.py:97: calling GlorotUniform.__init__ (from tensorflow.python.ops.init_ops) with dtype is deprecated and will be removed in a future version.\n",
            "Instructions for updating:\n",
            "Call initializer instance with the dtype argument instead of passing it to the constructor\n"
          ],
          "name": "stdout"
        },
        {
          "output_type": "stream",
          "text": [
            "WARNING:tensorflow:From /tensorflow-1.15.2/python3.6/tensorflow_core/python/ops/init_ops.py:97: calling GlorotUniform.__init__ (from tensorflow.python.ops.init_ops) with dtype is deprecated and will be removed in a future version.\n",
            "Instructions for updating:\n",
            "Call initializer instance with the dtype argument instead of passing it to the constructor\n"
          ],
          "name": "stderr"
        },
        {
          "output_type": "stream",
          "text": [
            "WARNING:tensorflow:From /tensorflow-1.15.2/python3.6/tensorflow_core/python/ops/init_ops.py:97: calling Orthogonal.__init__ (from tensorflow.python.ops.init_ops) with dtype is deprecated and will be removed in a future version.\n",
            "Instructions for updating:\n",
            "Call initializer instance with the dtype argument instead of passing it to the constructor\n"
          ],
          "name": "stdout"
        },
        {
          "output_type": "stream",
          "text": [
            "WARNING:tensorflow:From /tensorflow-1.15.2/python3.6/tensorflow_core/python/ops/init_ops.py:97: calling Orthogonal.__init__ (from tensorflow.python.ops.init_ops) with dtype is deprecated and will be removed in a future version.\n",
            "Instructions for updating:\n",
            "Call initializer instance with the dtype argument instead of passing it to the constructor\n"
          ],
          "name": "stderr"
        },
        {
          "output_type": "stream",
          "text": [
            "WARNING:tensorflow:From /tensorflow-1.15.2/python3.6/tensorflow_core/python/ops/init_ops.py:97: calling Zeros.__init__ (from tensorflow.python.ops.init_ops) with dtype is deprecated and will be removed in a future version.\n",
            "Instructions for updating:\n",
            "Call initializer instance with the dtype argument instead of passing it to the constructor\n"
          ],
          "name": "stdout"
        },
        {
          "output_type": "stream",
          "text": [
            "WARNING:tensorflow:From /tensorflow-1.15.2/python3.6/tensorflow_core/python/ops/init_ops.py:97: calling Zeros.__init__ (from tensorflow.python.ops.init_ops) with dtype is deprecated and will be removed in a future version.\n",
            "Instructions for updating:\n",
            "Call initializer instance with the dtype argument instead of passing it to the constructor\n"
          ],
          "name": "stderr"
        }
      ]
    },
    {
      "cell_type": "code",
      "metadata": {
        "id": "zdidaVXqxSzL",
        "colab_type": "code",
        "colab": {
          "base_uri": "https://localhost:8080/",
          "height": 86
        },
        "outputId": "bed432c2-e4e0-48de-850d-fc144d8ff138"
      },
      "source": [
        "print(x_train.shape)\n",
        "x_train = np.reshape(x_train,[x_train.shape[0],1,10])\n",
        "print(x_test.shape)\n",
        "x_test = np.reshape(x_test,[x_test.shape[0],1,10])\n",
        "print(x_train.shape)\n",
        "print(x_test.shape)"
      ],
      "execution_count": null,
      "outputs": [
        {
          "output_type": "stream",
          "text": [
            "(329, 10, 1)\n",
            "(50, 10, 1)\n",
            "(329, 1, 10)\n",
            "(50, 1, 10)\n"
          ],
          "name": "stdout"
        }
      ]
    },
    {
      "cell_type": "code",
      "metadata": {
        "id": "zx7cFB5XfxmS",
        "colab_type": "code",
        "colab": {}
      },
      "source": [
        "csv_logger_fast_hybrid = CSVLogger(\"model_history_log_fast_hybrid.csv\", append=True)\n"
      ],
      "execution_count": null,
      "outputs": []
    },
    {
      "cell_type": "code",
      "metadata": {
        "id": "rD-Qv0iJxH3R",
        "colab_type": "code",
        "colab": {
          "base_uri": "https://localhost:8080/",
          "height": 1000
        },
        "outputId": "7e8aabbd-6f71-41a1-9e97-e99c917ac82e"
      },
      "source": [
        "start = time.time()\n",
        "model_fastrnn_hyb.fit(x_train, y_train, batchSize, epochs=totalEpochs, validation_data=(x_test, scaled_data[training_data_len : , : ]),callbacks=[csv_logger_fast_hybrid])\n",
        "stop = time.time()\n",
        "print(f\"Training time: {stop - start}s\")"
      ],
      "execution_count": null,
      "outputs": [
        {
          "output_type": "stream",
          "text": [
            "Train on 329 samples, validate on 50 samples\n",
            "Epoch 1/40\n",
            "329/329 [==============================] - 2s 8ms/sample - loss: 0.1016 - val_loss: 0.0041\n",
            "Epoch 2/40\n",
            "329/329 [==============================] - 0s 818us/sample - loss: 0.0070 - val_loss: 0.0051\n",
            "Epoch 3/40\n",
            "329/329 [==============================] - 0s 861us/sample - loss: 0.0040 - val_loss: 0.0059\n",
            "Epoch 4/40\n",
            "329/329 [==============================] - 0s 763us/sample - loss: 0.0043 - val_loss: 0.0041\n",
            "Epoch 5/40\n",
            "329/329 [==============================] - 0s 725us/sample - loss: 0.0042 - val_loss: 0.0056\n",
            "Epoch 6/40\n",
            "329/329 [==============================] - 0s 857us/sample - loss: 0.0049 - val_loss: 0.0047\n",
            "Epoch 7/40\n",
            "329/329 [==============================] - 0s 870us/sample - loss: 0.0047 - val_loss: 0.0026\n",
            "Epoch 8/40\n",
            "329/329 [==============================] - 0s 826us/sample - loss: 0.0039 - val_loss: 0.0028\n",
            "Epoch 9/40\n",
            "329/329 [==============================] - 0s 787us/sample - loss: 0.0030 - val_loss: 0.0024\n",
            "Epoch 10/40\n",
            "329/329 [==============================] - 0s 777us/sample - loss: 0.0036 - val_loss: 0.0031\n",
            "Epoch 11/40\n",
            "329/329 [==============================] - 0s 795us/sample - loss: 0.0031 - val_loss: 0.0050\n",
            "Epoch 12/40\n",
            "329/329 [==============================] - 0s 774us/sample - loss: 0.0037 - val_loss: 0.0040\n",
            "Epoch 13/40\n",
            "329/329 [==============================] - 0s 790us/sample - loss: 0.0033 - val_loss: 0.0025\n",
            "Epoch 14/40\n",
            "329/329 [==============================] - 0s 777us/sample - loss: 0.0025 - val_loss: 0.0029\n",
            "Epoch 15/40\n",
            "329/329 [==============================] - 0s 814us/sample - loss: 0.0031 - val_loss: 0.0025\n",
            "Epoch 16/40\n",
            "329/329 [==============================] - 0s 796us/sample - loss: 0.0025 - val_loss: 0.0023\n",
            "Epoch 17/40\n",
            "329/329 [==============================] - 0s 875us/sample - loss: 0.0033 - val_loss: 0.0024\n",
            "Epoch 18/40\n",
            "329/329 [==============================] - 0s 783us/sample - loss: 0.0027 - val_loss: 0.0021\n",
            "Epoch 19/40\n",
            "329/329 [==============================] - 0s 819us/sample - loss: 0.0039 - val_loss: 0.0027\n",
            "Epoch 20/40\n",
            "329/329 [==============================] - 0s 773us/sample - loss: 0.0029 - val_loss: 0.0039\n",
            "Epoch 21/40\n",
            "329/329 [==============================] - 0s 863us/sample - loss: 0.0030 - val_loss: 0.0027\n",
            "Epoch 22/40\n",
            "329/329 [==============================] - 0s 762us/sample - loss: 0.0033 - val_loss: 0.0054\n",
            "Epoch 23/40\n",
            "329/329 [==============================] - 0s 772us/sample - loss: 0.0038 - val_loss: 0.0030\n",
            "Epoch 24/40\n",
            "329/329 [==============================] - 0s 744us/sample - loss: 0.0028 - val_loss: 0.0024\n",
            "Epoch 25/40\n",
            "329/329 [==============================] - 0s 821us/sample - loss: 0.0029 - val_loss: 0.0023\n",
            "Epoch 26/40\n",
            "329/329 [==============================] - 0s 724us/sample - loss: 0.0030 - val_loss: 0.0022\n",
            "Epoch 27/40\n",
            "329/329 [==============================] - 0s 778us/sample - loss: 0.0024 - val_loss: 0.0028\n",
            "Epoch 28/40\n",
            "329/329 [==============================] - 0s 749us/sample - loss: 0.0026 - val_loss: 0.0022\n",
            "Epoch 29/40\n",
            "329/329 [==============================] - 0s 782us/sample - loss: 0.0028 - val_loss: 0.0021\n",
            "Epoch 30/40\n",
            "329/329 [==============================] - 0s 826us/sample - loss: 0.0031 - val_loss: 0.0021\n",
            "Epoch 31/40\n",
            "329/329 [==============================] - 0s 807us/sample - loss: 0.0033 - val_loss: 0.0024\n",
            "Epoch 32/40\n",
            "329/329 [==============================] - 0s 784us/sample - loss: 0.0034 - val_loss: 0.0037\n",
            "Epoch 33/40\n",
            "329/329 [==============================] - 0s 827us/sample - loss: 0.0034 - val_loss: 0.0032\n",
            "Epoch 34/40\n",
            "329/329 [==============================] - 0s 801us/sample - loss: 0.0028 - val_loss: 0.0021\n",
            "Epoch 35/40\n",
            "329/329 [==============================] - 0s 798us/sample - loss: 0.0026 - val_loss: 0.0043\n",
            "Epoch 36/40\n",
            "329/329 [==============================] - 0s 746us/sample - loss: 0.0037 - val_loss: 0.0057\n",
            "Epoch 37/40\n",
            "329/329 [==============================] - 0s 798us/sample - loss: 0.0036 - val_loss: 0.0025\n",
            "Epoch 38/40\n",
            "329/329 [==============================] - 0s 847us/sample - loss: 0.0027 - val_loss: 0.0029\n",
            "Epoch 39/40\n",
            "329/329 [==============================] - 0s 839us/sample - loss: 0.0026 - val_loss: 0.0028\n",
            "Epoch 40/40\n",
            "329/329 [==============================] - 0s 845us/sample - loss: 0.0028 - val_loss: 0.0025\n",
            "Training time: 14.16171407699585s\n"
          ],
          "name": "stdout"
        }
      ]
    },
    {
      "cell_type": "code",
      "metadata": {
        "id": "q3Fu66AsfqKh",
        "colab_type": "code",
        "colab": {}
      },
      "source": [
        "performance_log_fast_hybrid=pd.read_csv('model_history_log_fast_hybrid.csv')\n",
        "# print(performance_log_fastrnn)\n",
        "# del performance_log_lstm['acc']\n",
        "# del performance_log_lstm['val_acc']\n",
        "# del performance_log_fast_hybrid['val_loss']\n",
        "# print(performance_log_fast_hybrid)"
      ],
      "execution_count": null,
      "outputs": []
    },
    {
      "cell_type": "code",
      "metadata": {
        "id": "qlKZgbs-qDF2",
        "colab_type": "code",
        "colab": {
          "base_uri": "https://localhost:8080/",
          "height": 34
        },
        "outputId": "956bcf52-2593-4bba-ffe9-ec5faff36c75"
      },
      "source": [
        "time_fastrnn_hyb_CNN_BiLSTM= stop - start\n",
        "print(time_fastrnn_hyb_CNN_BiLSTM)"
      ],
      "execution_count": null,
      "outputs": [
        {
          "output_type": "stream",
          "text": [
            "14.16171407699585\n"
          ],
          "name": "stdout"
        }
      ]
    },
    {
      "cell_type": "code",
      "metadata": {
        "id": "UPq6aCOAxrzv",
        "colab_type": "code",
        "colab": {
          "base_uri": "https://localhost:8080/",
          "height": 34
        },
        "outputId": "2c84e5f7-d810-4878-92f9-e7628030835a"
      },
      "source": [
        "#Getting the models predicted price values\n",
        "predictions_fastrnn_hyb_CNN_BiLSTM = model_fastrnn_hyb.predict(x_test) \n",
        "predictions_fastrnn_hyb_CNN_BiLSTM = scaler.inverse_transform(predictions_fastrnn_hyb_CNN_BiLSTM)#Undo scaling\n",
        "\n",
        "#Calculate/Get the value of RMSE\n",
        "rmse_fastrnn_hyb_CNN_BiLSTM=np.sqrt(np.mean(((predictions_fastrnn_hyb_CNN_BiLSTM- y_test)**2)))\n",
        "print(rmse_fastrnn_hyb_CNN_BiLSTM)"
      ],
      "execution_count": null,
      "outputs": [
        {
          "output_type": "stream",
          "text": [
            "0.1713269186162242\n"
          ],
          "name": "stdout"
        }
      ]
    },
    {
      "cell_type": "code",
      "metadata": {
        "id": "UXJWUbTaRygN",
        "colab_type": "code",
        "colab": {
          "base_uri": "https://localhost:8080/",
          "height": 34
        },
        "outputId": "42d82265-0668-4ff0-b0a7-76115e8d2bb0"
      },
      "source": [
        "cod_fastrnn_hyb_CNN_BiLSTM = r2_score(y_test, predictions_fastrnn_hyb_CNN_BiLSTM) \n",
        "print(cod_fastrnn_hyb_CNN_BiLSTM)"
      ],
      "execution_count": null,
      "outputs": [
        {
          "output_type": "stream",
          "text": [
            "0.7803204130835634\n"
          ],
          "name": "stdout"
        }
      ]
    },
    {
      "cell_type": "markdown",
      "metadata": {
        "id": "Uvud0VoGgu6d",
        "colab_type": "text"
      },
      "source": [
        "## Plot for Training FastRNN, LSTM, Fast_Hybrid"
      ]
    },
    {
      "cell_type": "code",
      "metadata": {
        "id": "f5OxY7rN0UbF",
        "colab_type": "code",
        "colab": {}
      },
      "source": [
        "# len(predictions_fastrnn_hyb_CNN_BiLSTM)"
      ],
      "execution_count": null,
      "outputs": []
    },
    {
      "cell_type": "code",
      "metadata": {
        "id": "oMXniwuJhDRc",
        "colab_type": "code",
        "colab": {}
      },
      "source": [
        "import matplotlib.pyplot as plt\n",
        "plt.style.use('ggplot')\n",
        "# plt.style.use('fivethirtyeight')"
      ],
      "execution_count": null,
      "outputs": []
    },
    {
      "cell_type": "code",
      "metadata": {
        "id": "Zl33twj_gt93",
        "colab_type": "code",
        "colab": {
          "base_uri": "https://localhost:8080/",
          "height": 514
        },
        "outputId": "d9ce35d6-9445-43e9-a0d8-e947a484d223"
      },
      "source": [
        "#Visualize the data\n",
        "plt.figure(figsize=(20,12))\n",
        "plt.title('Validation Loss',fontsize= 38)\n",
        "plt.xlabel('epochs', fontsize=32)\n",
        "plt.ylabel(\"val_loss\", fontsize=32)\n",
        "# plt.plot(train['Close'], color='green')\n",
        " \n",
        " \n",
        "plt.plot(performance_log_fastrnn['val_loss'], color= 'navy', label='FastRNN')\n",
        "plt.plot(performance_log_lstm['val_loss'],color = 'green',label='LSTM')\n",
        "plt.plot(performance_log_fast_hybrid['val_loss'],color = 'red',label='FastRNN_Hybrid')\n",
        "plt.xticks(fontsize=25)\n",
        "plt.yticks(fontsize=25)\n",
        " \n",
        "plt.legend( loc='upper right',prop={'size': 30})\n",
        "plt.savefig('val_loss.png')"
      ],
      "execution_count": null,
      "outputs": [
        {
          "output_type": "display_data",
          "data": {
            "image/png": "[encoded data removed]",
            "text/plain": [
              "<Figure size 1440x864 with 1 Axes>"
            ]
          },
          "metadata": {
            "tags": []
          }
        }
      ]
    },
    {
      "cell_type": "code",
      "metadata": {
        "id": "2Jw9diYE13_L",
        "colab_type": "code",
        "colab": {}
      },
      "source": [
        "plt.style.use('fivethirtyeight')\n",
        "# labels = performance_log_fastrnn['epoch']\n",
        "test= y_test[:-30]\n",
        "FastRNN = predictions_fastgrnn[:-30]\n",
        "LSTM = predictions_lstm[:-30]\n",
        "FastRNN_hybrid = predictions_fastrnn_hyb_CNN_BiLSTM[:-30]\n",
        "x=0\n",
        "# set width of bar\n",
        "barWidth = 0.20"
      ],
      "execution_count": null,
      "outputs": []
    },
    {
      "cell_type": "code",
      "metadata": {
        "id": "xmVWqu_d8luY",
        "colab_type": "code",
        "colab": {}
      },
      "source": [
        "# len(test)"
      ],
      "execution_count": null,
      "outputs": []
    },
    {
      "cell_type": "code",
      "metadata": {
        "id": "3L0N9mE6XcaK",
        "colab_type": "code",
        "colab": {}
      },
      "source": [
        " \n",
        "# # set height of bar\n",
        "# bars1 = [12, 30, 1, 8, 22]\n",
        "# bars2 = [28, 6, 16, 5, 10]\n",
        "# bars3 = [29, 3, 24, 25, 17]\n",
        "# Set position of bar on X axis\n",
        "r1 = list(np.arange(len(test)))\n",
        "r2 = [x + barWidth for x in r1]\n",
        "# r2 = np.array(r2)\n",
        "r3 = [x + barWidth for x in r2]\n",
        "# r3 = np.array(r3)\n",
        "r4 = [x + barWidth for x in r3]\n",
        "# r4 = np.array(r4)"
      ],
      "execution_count": null,
      "outputs": []
    },
    {
      "cell_type": "code",
      "metadata": {
        "id": "ukDrXVf24G-j",
        "colab_type": "code",
        "colab": {}
      },
      "source": [
        ""
      ],
      "execution_count": null,
      "outputs": []
    },
    {
      "cell_type": "code",
      "metadata": {
        "id": "qHCMKTsEXkjl",
        "colab_type": "code",
        "colab": {}
      },
      "source": [
        "test_list = [i[0] for i in test.tolist()]\n",
        "FastRNN_list = [i[0] for i in FastRNN.tolist()]\n",
        "LSTM_list = [i[0] for i in LSTM.tolist()]\n",
        "FastRNN_hybrid_list = [i[0] for i in FastRNN_hybrid .tolist()]"
      ],
      "execution_count": null,
      "outputs": []
    },
    {
      "cell_type": "code",
      "metadata": {
        "id": "MdstGGwoc-hY",
        "colab_type": "code",
        "colab": {
          "base_uri": "https://localhost:8080/",
          "height": 54
        },
        "outputId": "3fdf7a8f-9811-41c6-d07a-03cbcc52eb1f"
      },
      "source": [
        "print(test_list)"
      ],
      "execution_count": null,
      "outputs": [
        {
          "output_type": "stream",
          "text": [
            "[238.7200927734375, 238.94000244140625, 239.1000061035156, 239.38999938964844, 239.3249969482422, 239.4250030517578, 239.57000732421875, 239.34500122070312, 239.1999969482422, 239.2100067138672, 239.3300018310547, 239.02999877929688, 239.0200042724609, 239.01060485839844, 239.1199951171875, 239.17030334472656, 239.1100006103516, 238.80999755859372, 238.8350067138672, 238.82000732421875]\n"
          ],
          "name": "stdout"
        }
      ]
    },
    {
      "cell_type": "code",
      "metadata": {
        "id": "UXdsw-zrjQ_O",
        "colab_type": "code",
        "colab": {
          "base_uri": "https://localhost:8080/",
          "height": 328
        },
        "outputId": "aa3b77a6-4a35-43c3-e049-489e5f76e79b"
      },
      "source": [
        "# Make the plot\n",
        "plt.style.use('fivethirtyeight')\n",
        "plt.subplots(figsize=(26,10)) \n",
        "plt.bar(r1, test_list, color='yellow', width=barWidth, edgecolor='white', label='Test_Data')\n",
        "plt.bar(r2, FastRNN_list, color='navy', width=barWidth, edgecolor='white', label='FastRNN')\n",
        "plt.bar(r3, LSTM_list, color='red', width=barWidth, edgecolor='white', label='LSTM')\n",
        "plt.bar(r4, FastRNN_hybrid_list, color='green', width=barWidth, edgecolor='white', label='FastRNN_Hybrid')\n",
        "\n",
        "\n",
        "axes = plt.gca()\n",
        "# axes.set_xlim([xmin,xmax])\n",
        "axes.set_ylim([32.35,32.57]) #Change value as per need\n",
        "\n",
        "# Add xticks on the middle of the group bars\n",
        "plt.title('Stocks Closing Prices', fontweight='bold',fontsize=23)\n",
        "plt.xlabel('minutes', fontweight='bold',fontsize=20)\n",
        "plt.xticks([r for r in range(0,len(FastRNN_list))])\n",
        "# plt.xticks(len(test))\n",
        "plt.ylabel('Closing Price', fontweight='bold',fontsize=20)\n",
        "\n",
        "\n",
        "# Create legend & Show graphic\n",
        "plt.legend()\n",
        "plt.show()\n",
        "\n"
      ],
      "execution_count": null,
      "outputs": [
        {
          "output_type": "display_data",
          "data": {
            "image/png": "[encoded data removed]",
            "text/plain": [
              "<Figure size 1872x720 with 1 Axes>"
            ]
          },
          "metadata": {
            "tags": []
          }
        }
      ]
    },
    {
      "cell_type": "code",
      "metadata": {
        "id": "htV-77nyYda0",
        "colab_type": "code",
        "colab": {}
      },
      "source": [
        "# Make the plot\n",
        "plt.style.use('fivethirtyeight')\n",
        "fig = plt.subplots( figsize=(30, 30))\n",
        "sub1 = plt.subplot(2, 2, 1)\n",
        "# axes[0]plt.subplots(1,1,figsize=(26,10)) \n",
        "sub1.bar(r1, test_list, color='yellow', width=barWidth, edgecolor='white', label='Test_Data')\n",
        "sub1.bar(r2, FastRNN_list, color='navy', width=barWidth, edgecolor='white', label='FastRNN')\n",
        "sub1.bar(r3, LSTM_list, color='red', width=barWidth, edgecolor='white', label='LSTM')\n",
        "sub1.bar(r4, FastRNN_hybrid_list, color='green', width=barWidth, edgecolor='white', label='FastRNN_Hybrid')\n",
        "\n",
        "\n",
        "\n",
        "axes_1 = plt.gca()\n",
        "# axes.set_xlim([xmin,xmax])\n",
        "sub1.set_ylim([32.35,32.57]) #Change value as per need\n",
        "\n",
        "# Add xticks on the middle of the group bars\n",
        "sub1.set_title('Stocks Closing Prices', fontweight='bold')\n",
        "sub1.set_xlabel('minutes', fontweight='bold')\n",
        "sub1.set_xticks([r for r in range(0,len(FastRNN_list))])\n",
        "# plt.xticks(len(test))\n",
        "sub1.set_ylabel('Closing Price', fontweight='bold')\n",
        "\n",
        "############################################################################################ 2\n",
        "\n",
        "sub2 = plt.subplot(2, 2, 2)\n",
        "# axes[0]plt.subplots(1,1,figsize=(26,10)) \n",
        "sub2.bar(r1, test_list, color='yellow', width=barWidth, edgecolor='white', label='Test_Data')\n",
        "sub2.bar(r2, FastRNN_list, color='navy', width=barWidth, edgecolor='white', label='FastRNN')\n",
        "sub2.bar(r3, LSTM_list, color='red', width=barWidth, edgecolor='white', label='LSTM')\n",
        "sub2.bar(r4, FastRNN_hybrid_list, color='green', width=barWidth, edgecolor='white', label='FastRNN_Hybrid')\n",
        "\n",
        "\n",
        "\n",
        "# axes_1 = plt.gca()\n",
        "# axes.set_xlim([xmin,xmax])\n",
        "sub2.set_ylim([30.35,33.57]) #Change value as per need\n",
        "\n",
        "# Add xticks on the middle of the group bars\n",
        "sub2.set_title('Stocks Closing Prices', fontweight='bold')\n",
        "sub2.set_xlabel('minutes', fontweight='bold')\n",
        "sub2.set_xticks([r for r in range(0,len(FastRNN_list))])\n",
        "# plt.xticks(len(test))\n",
        "sub2.set_ylabel('Closing Price', fontweight='bold')\n",
        "\n",
        "\n",
        "######################################################################################## 3\n",
        "sub3 = plt.subplot(2, 2, 4)\n",
        "# axes[0]plt.subplots(1,1,figsize=(26,10)) \n",
        "sub3.bar(r1, test_list, color='yellow', width=barWidth, edgecolor='white', label='Test_Data')\n",
        "sub3.bar(r2, FastRNN_list, color='navy', width=barWidth, edgecolor='white', label='FastRNN')\n",
        "sub3.bar(r3, LSTM_list, color='red', width=barWidth, edgecolor='white', label='LSTM')\n",
        "sub3.bar(r4, FastRNN_hybrid_list, color='green', width=barWidth, edgecolor='white', label='FastRNN_Hybrid')\n",
        "\n",
        "\n",
        "\n",
        "# axes_1 = plt.gca()\n",
        "# axes.set_xlim([xmin,xmax])\n",
        "sub3.set_ylim([20.35,33.57]) #Change value as per need\n",
        "\n",
        "# Add xticks on the middle of the group bars\n",
        "sub3.set_title('Stocks Closing Prices', fontweight='bold')\n",
        "sub3.set_xlabel('minutes', fontweight='bold')\n",
        "sub3.set_xticks([r for r in range(0,len(FastRNN_list))])\n",
        "# plt.xticks(len(test))\n",
        "sub3.set_ylabel('Closing Price', fontweight='bold')\n",
        "\n",
        "\n",
        "#########################################################\n",
        "# fig.tight_layout()\n",
        "plt.show()\n",
        "\n",
        "# Create legend & Show graphic\n",
        "# plt_1.legend()\n",
        "\n",
        "# plt.plot()\n",
        "\n"
      ],
      "execution_count": null,
      "outputs": []
    },
    {
      "cell_type": "code",
      "metadata": {
        "id": "uqCGqiU3jXXo",
        "colab_type": "code",
        "colab": {
          "base_uri": "https://localhost:8080/",
          "height": 493
        },
        "outputId": "cfdeff83-6c7c-4085-fb6c-9fa27313b5f1"
      },
      "source": [
        "#Visualize the data\n",
        "plt.figure(figsize=(17,10))\n",
        "plt.title('Loss',fontsize= 35)\n",
        "plt.xlabel('epochs', fontsize=30)\n",
        "plt.ylabel(\"loss\", fontsize=30)\n",
        "# plt.plot(train['Close'], color='green')\n",
        " \n",
        " \n",
        "plt.plot(performance_log_fastrnn['loss'], color= 'navy', label='FastRNN')\n",
        "plt.plot(performance_log_lstm['loss'],color = 'green',label='LSTM')\n",
        "plt.plot(performance_log_fast_hybrid['loss'],color = 'red',label='FastRNN_Hybrid')\n",
        "plt.xticks(fontsize=25)\n",
        "plt.yticks(fontsize=25)\n",
        " \n",
        "plt.legend( loc='upper right',prop={'size': 20})\n",
        "plt.savefig('loss.png')"
      ],
      "execution_count": null,
      "outputs": [
        {
          "output_type": "display_data",
          "data": {
            "image/png": "[encoded data removed]",
            "text/plain": [
              "<Figure size 1224x720 with 1 Axes>"
            ]
          },
          "metadata": {
            "tags": []
          }
        }
      ]
    },
    {
      "cell_type": "code",
      "metadata": {
        "id": "qENcAXo6YLnm",
        "colab_type": "code",
        "colab": {}
      },
      "source": [
        ""
      ],
      "execution_count": null,
      "outputs": []
    },
    {
      "cell_type": "code",
      "metadata": {
        "id": "fAGU1J95XXvO",
        "colab_type": "code",
        "colab": {
          "base_uri": "https://localhost:8080/",
          "height": 331
        },
        "outputId": "aa0b9149-d037-4e20-f0c7-1fc1071ad4d3"
      },
      "source": [
        "plt.style.use('fivethirtyeight')\n",
        "labels = performance_log_fastrnn['epoch']\n",
        "FastRNN = performance_log_fastrnn['loss']\n",
        "LSTM = performance_log_lstm['loss']\n",
        "FastRNN_hybrid = performance_log_fast_hybrid['loss']\n",
        "x=0\n",
        "\n",
        "# set width of bar\n",
        "barWidth = 0.25\n",
        " \n",
        "# # set height of bar\n",
        "# bars1 = [12, 30, 1, 8, 22]\n",
        "# bars2 = [28, 6, 16, 5, 10]\n",
        "# bars3 = [29, 3, 24, 25, 17]\n",
        " \n",
        "# Set position of bar on X axis\n",
        "r1 = np.arange(len(FastRNN))\n",
        "r2 = [x + barWidth for x in r1]\n",
        "r3 = [x + barWidth for x in r2]\n",
        "\n",
        "\n",
        "\n",
        "# Make the plot\n",
        "\n",
        "plt.subplots(figsize=(26,10)) \n",
        "plt.bar(r1, FastRNN, color='navy', width=barWidth, edgecolor='white', label='FastRNN')\n",
        "plt.bar(r2, LSTM, color='red', width=barWidth, edgecolor='white', label='LSTM')\n",
        "plt.bar(r3, FastRNN_hybrid, color='green', width=barWidth, edgecolor='white', label='FastRNN_Hybrid')\n",
        " \n",
        "# Add xticks on the middle of the group bars\n",
        "plt.title('Loss', fontweight='bold',fontsize=23)\n",
        "plt.xlabel('epoch', fontweight='bold',fontsize=20)\n",
        "plt.xticks([r + barWidth for r in range(len(FastRNN))], labels)\n",
        "plt.ylabel('loss', fontweight='bold',fontsize=20)\n",
        "\n",
        "\n",
        "# Create legend & Show graphic\n",
        "plt.legend()\n",
        "plt.show()\n",
        "\n",
        "\n",
        "# # x = np.arange(len(labels))  # the label locations\n",
        "# width = 0.30  # the width of the bars\n",
        "# r1 = np.arange(len(labels))\n",
        "# r2 = [x + width for x in r1]\n",
        "# r3 = [x + width for x in r2]\n",
        "\n",
        "\n",
        "\n",
        "# fig, ax = plt.subplots(figsize=(18,8))\n",
        "# rects1 = ax.bar(r1, FastRNN, width, label='FastRNN')\n",
        "# rects2 = ax.bar(r2, LSTM, width, label='LSTM')\n",
        "# rects3 = ax.bar(r3, FastRNN_hybrid, width, label='FastRNN_Hybrid')\n",
        "\n",
        "\n",
        "\n",
        "# # Add some text for labels, title and custom x-axis tick labels, etc.\n",
        "# ax.set_ylabel('Loss')\n",
        "# ax.set_title('Loss by model')\n",
        "# ax.set_xticks(x)\n",
        "# # ax.set_xticks(rotation=90)\n",
        "\n",
        "# ax.set_xticklabels(labels)\n",
        "# ax.legend()\n",
        "\n",
        "\n",
        "# # fig.tight_layout()\n",
        "\n",
        "# plt.show()"
      ],
      "execution_count": null,
      "outputs": [
        {
          "output_type": "display_data",
          "data": {
            "image/png": "[encoded data removed]",
            "text/plain": [
              "<Figure size 1872x720 with 1 Axes>"
            ]
          },
          "metadata": {
            "tags": []
          }
        }
      ]
    },
    {
      "cell_type": "code",
      "metadata": {
        "id": "h2kLA-v2YgLp",
        "colab_type": "code",
        "colab": {}
      },
      "source": [
        ""
      ],
      "execution_count": null,
      "outputs": []
    },
    {
      "cell_type": "code",
      "metadata": {
        "id": "mA8UEMEv-oME",
        "colab_type": "code",
        "colab": {}
      },
      "source": [
        "# predictions_lstm"
      ],
      "execution_count": null,
      "outputs": []
    },
    {
      "cell_type": "code",
      "metadata": {
        "id": "m0aJZn1u-oMF",
        "colab_type": "code",
        "colab": {}
      },
      "source": [
        "#####################CNN + BiLSTM + Attention Mechanism\n",
        "import os\n",
        "import re\n",
        "\n",
        "import numpy as np\n",
        "import pandas as pd\n",
        "import tensorflow as tf\n",
        "import keras.backend as K\n",
        "from keras.preprocessing import text, sequence\n",
        "from keras.preprocessing.text import Tokenizer\n",
        "from keras.preprocessing.sequence import pad_sequences\n",
        "from keras.engine.topology import Layer\n",
        "from keras import initializers, regularizers, constraints\n",
        "from keras.layers import *\n",
        "from keras.models import Model\n"
      ],
      "execution_count": null,
      "outputs": []
    },
    {
      "cell_type": "code",
      "metadata": {
        "id": "Ek6CHWJE-oMM",
        "colab_type": "code",
        "colab": {}
      },
      "source": [
        "df = data_1\n",
        "data_2 = df.filter(['Close'])\n",
        "len(data_2)\n",
        "\n",
        "data_2 = data_2[data_2['Close'].notna()]\n",
        "len(data_2)\n",
        "\n",
        "import math\n",
        "from sklearn.preprocessing import MinMaxScaler\n",
        "import numpy as np\n",
        "#Converting the dataframe to a numpy array\n",
        "dataset = data_2.values\n",
        "#Get /Compute the number of rows to train the model on\n",
        "training_data_len = math.ceil( len(dataset) -50) \n",
        "# training_data_len = math.ceil( len(dataset) *.6)\n",
        "\n",
        "\n",
        "\n",
        "\n",
        "#Scale the all of the data to be values between 0 and 1 \n",
        "scaler = MinMaxScaler(feature_range=(0, 1)) \n",
        "scaled_data = scaler.fit_transform(dataset)\n",
        "\n",
        "\n",
        "#Create the scaled training data set \n",
        "train_data = scaled_data[0:training_data_len  , : ]\n",
        "#Split the data into x_train and y_train data sets\n",
        "x_train=[]\n",
        "y_train = []\n",
        "for i in range(10,len(train_data)):\n",
        "    x_train.append(train_data[i-10:i,0])\n",
        "    y_train.append(train_data[i,0])\n",
        "\n",
        "\n",
        "#Convert x_train and y_train to numpy arrays\n",
        "x_train, y_train = np.array(x_train), np.array(y_train)    \n",
        "\n",
        "\n",
        "#Reshape the data into the shape accepted by the CNN + Attention + BiLSTM\n",
        "x_train = np.reshape(x_train, (x_train.shape[0],x_train.shape[1],1))\n",
        "\n",
        "#Test data set\n",
        "test_data = scaled_data[training_data_len - 10: , : ]\n",
        "#Create the x_test and y_test data sets\n",
        "x_test = []\n",
        "y_test =  dataset[training_data_len : , : ] #Get all of the rows from index 1603 to the rest and all of the columns (in this case it's only column 'Close'), so 2003 - 1603 = 400 rows of data\n",
        "for i in range(10,len(test_data)):\n",
        "    x_test.append(test_data[i-10:i,0])\n",
        "\n",
        "\n",
        "\n",
        "#Convert x_test to a numpy array \n",
        "x_test = np.array(x_test)\n",
        "\n",
        "#Reshape the data into the shape accepted by the CNN + Attention + BiLSTM\n",
        "x_test = np.reshape(x_test, (x_test.shape[0],x_test.shape[1],1))"
      ],
      "execution_count": null,
      "outputs": []
    },
    {
      "cell_type": "code",
      "metadata": {
        "id": "3V_Vb-gdCXqv",
        "colab_type": "code",
        "colab": {
          "base_uri": "https://localhost:8080/",
          "height": 193
        },
        "outputId": "973489d3-6f9d-4fed-affb-969de1d9f112"
      },
      "source": [
        "pip install keras-self-attention"
      ],
      "execution_count": null,
      "outputs": [
        {
          "output_type": "stream",
          "text": [
            "Requirement already satisfied: keras-self-attention in /usr/local/lib/python3.6/dist-packages (0.46.0)\n",
            "Requirement already satisfied: Keras in /usr/local/lib/python3.6/dist-packages (from keras-self-attention) (2.3.1)\n",
            "Requirement already satisfied: numpy in /usr/local/lib/python3.6/dist-packages (from keras-self-attention) (1.18.5)\n",
            "Requirement already satisfied: keras-preprocessing>=1.0.5 in /usr/local/lib/python3.6/dist-packages (from Keras->keras-self-attention) (1.1.2)\n",
            "Requirement already satisfied: pyyaml in /usr/local/lib/python3.6/dist-packages (from Keras->keras-self-attention) (3.13)\n",
            "Requirement already satisfied: h5py in /usr/local/lib/python3.6/dist-packages (from Keras->keras-self-attention) (2.10.0)\n",
            "Requirement already satisfied: scipy>=0.14 in /usr/local/lib/python3.6/dist-packages (from Keras->keras-self-attention) (1.4.1)\n",
            "Requirement already satisfied: six>=1.9.0 in /usr/local/lib/python3.6/dist-packages (from Keras->keras-self-attention) (1.15.0)\n",
            "Requirement already satisfied: keras-applications>=1.0.6 in /usr/local/lib/python3.6/dist-packages (from Keras->keras-self-attention) (1.0.8)\n"
          ],
          "name": "stdout"
        }
      ]
    },
    {
      "cell_type": "code",
      "metadata": {
        "id": "ijNgWKD2-oMO",
        "colab_type": "code",
        "colab": {}
      },
      "source": [
        "import keras\n",
        "from keras_self_attention import SeqSelfAttention"
      ],
      "execution_count": null,
      "outputs": []
    },
    {
      "cell_type": "code",
      "metadata": {
        "id": "gLk7wU3u-oMP",
        "colab_type": "code",
        "colab": {}
      },
      "source": [
        "\n",
        "from keras.models import Sequential\n",
        "from keras.layers import Dense, LSTM\n",
        "from keras.optimizers import Adam\n",
        "from keras.layers.convolutional import Conv1D\n",
        "from keras.layers.convolutional import MaxPooling1D\n",
        "from keras.layers import Bidirectional\n",
        "from keras.layers import Dense, Input, CuDNNLSTM, Embedding, Dropout, Activation, CuDNNGRU, Conv1D\n",
        "\n",
        "\n",
        "from keras import backend as K\n",
        "from keras.engine.topology import Layer\n",
        "from keras import initializers, regularizers, constraints\n",
        "\n",
        "#Build the LSTM network model\n",
        "model_cnn_lstm = Sequential()\n",
        "model_cnn_lstm.add(LSTM(units=50, return_sequences=True,input_shape=(x_train.shape[1],1)))\n",
        "model_cnn_lstm.add(SeqSelfAttention(attention_activation='sigmoid'))\n",
        "model_cnn_lstm.add(Conv1D(filters=50, kernel_size=3, padding='same', activation='relu'))\n",
        "model_cnn_lstm.add(MaxPooling1D(pool_size=2))\n",
        "# model_cnn_lstm.add(LSTM(units=50, return_sequences=False))\n",
        "model_cnn_lstm.add(Bidirectional(LSTM(units=50, return_sequences=False)))\n",
        "model_cnn_lstm.add(Dropout(0.5))\n",
        "\n",
        "model_cnn_lstm.add(Dense(units=25))\n",
        "model_cnn_lstm.add(Dense(units=1))\n",
        "\n",
        "\n",
        "#Compile the model\n",
        "model_cnn_lstm.compile(optimizer=Adam(lr=0.001), loss='mean_squared_error')\n",
        "    \n"
      ],
      "execution_count": null,
      "outputs": []
    },
    {
      "cell_type": "code",
      "metadata": {
        "id": "m7Ne_I3L-oMR",
        "colab_type": "code",
        "colab": {
          "base_uri": "https://localhost:8080/",
          "height": 1000
        },
        "outputId": "0d9cc933-b854-4f94-8035-609488956cc6"
      },
      "source": [
        "start_lstm = time.time()\n",
        " \n",
        "#Train the model\n",
        "model_cnn_lstm.fit(x_train, y_train, batch_size=10, epochs=40) \n",
        " \n",
        "stop_lstm = time.time()\n",
        "print(f\"Training time: {stop_lstm - start_lstm}s\")\n",
        "time_CNN_BiLSTM_Attention_Mechanism= stop_lstm-start_lstm"
      ],
      "execution_count": null,
      "outputs": [
        {
          "output_type": "stream",
          "text": [
            "Epoch 1/40\n",
            "329/329 [==============================] - 2s 6ms/step - loss: 0.0396\n",
            "Epoch 2/40\n",
            "329/329 [==============================] - 0s 1ms/step - loss: 0.0105\n",
            "Epoch 3/40\n",
            "329/329 [==============================] - 0s 1ms/step - loss: 0.0100\n",
            "Epoch 4/40\n",
            "329/329 [==============================] - 0s 1ms/step - loss: 0.0096\n",
            "Epoch 5/40\n",
            "329/329 [==============================] - 0s 1ms/step - loss: 0.0110\n",
            "Epoch 6/40\n",
            "329/329 [==============================] - 0s 1ms/step - loss: 0.0108\n",
            "Epoch 7/40\n",
            "329/329 [==============================] - 0s 1ms/step - loss: 0.0091\n",
            "Epoch 8/40\n",
            "329/329 [==============================] - 0s 1ms/step - loss: 0.0090\n",
            "Epoch 9/40\n",
            "329/329 [==============================] - 0s 1ms/step - loss: 0.0087\n",
            "Epoch 10/40\n",
            "329/329 [==============================] - 0s 1ms/step - loss: 0.0090\n",
            "Epoch 11/40\n",
            "329/329 [==============================] - 0s 1ms/step - loss: 0.0095\n",
            "Epoch 12/40\n",
            "329/329 [==============================] - 0s 1ms/step - loss: 0.0099\n",
            "Epoch 13/40\n",
            "329/329 [==============================] - 0s 1ms/step - loss: 0.0078\n",
            "Epoch 14/40\n",
            "329/329 [==============================] - 0s 1ms/step - loss: 0.0077\n",
            "Epoch 15/40\n",
            "329/329 [==============================] - 0s 1ms/step - loss: 0.0082\n",
            "Epoch 16/40\n",
            "329/329 [==============================] - 0s 1ms/step - loss: 0.0088\n",
            "Epoch 17/40\n",
            "329/329 [==============================] - 0s 1ms/step - loss: 0.0081\n",
            "Epoch 18/40\n",
            "329/329 [==============================] - 0s 1ms/step - loss: 0.0083\n",
            "Epoch 19/40\n",
            "329/329 [==============================] - 0s 1ms/step - loss: 0.0096\n",
            "Epoch 20/40\n",
            "329/329 [==============================] - 0s 1ms/step - loss: 0.0071\n",
            "Epoch 21/40\n",
            "329/329 [==============================] - 0s 1ms/step - loss: 0.0069\n",
            "Epoch 22/40\n",
            "329/329 [==============================] - 0s 1ms/step - loss: 0.0082\n",
            "Epoch 23/40\n",
            "329/329 [==============================] - 0s 1ms/step - loss: 0.0064\n",
            "Epoch 24/40\n",
            "329/329 [==============================] - 0s 1ms/step - loss: 0.0062\n",
            "Epoch 25/40\n",
            "329/329 [==============================] - 0s 1ms/step - loss: 0.0072\n",
            "Epoch 26/40\n",
            "329/329 [==============================] - 0s 1ms/step - loss: 0.0089\n",
            "Epoch 27/40\n",
            "329/329 [==============================] - 0s 1ms/step - loss: 0.0060\n",
            "Epoch 28/40\n",
            "329/329 [==============================] - 0s 1ms/step - loss: 0.0061\n",
            "Epoch 29/40\n",
            "329/329 [==============================] - 0s 1ms/step - loss: 0.0065\n",
            "Epoch 30/40\n",
            "329/329 [==============================] - 0s 1ms/step - loss: 0.0072\n",
            "Epoch 31/40\n",
            "329/329 [==============================] - 0s 1ms/step - loss: 0.0060\n",
            "Epoch 32/40\n",
            "329/329 [==============================] - 0s 1ms/step - loss: 0.0058\n",
            "Epoch 33/40\n",
            "329/329 [==============================] - 0s 1ms/step - loss: 0.0061\n",
            "Epoch 34/40\n",
            "329/329 [==============================] - 0s 1ms/step - loss: 0.0059\n",
            "Epoch 35/40\n",
            "329/329 [==============================] - 0s 1ms/step - loss: 0.0061\n",
            "Epoch 36/40\n",
            "329/329 [==============================] - 0s 1ms/step - loss: 0.0055\n",
            "Epoch 37/40\n",
            "329/329 [==============================] - 0s 1ms/step - loss: 0.0069\n",
            "Epoch 38/40\n",
            "329/329 [==============================] - 0s 1ms/step - loss: 0.0061\n",
            "Epoch 39/40\n",
            "329/329 [==============================] - 0s 1ms/step - loss: 0.0059\n",
            "Epoch 40/40\n",
            "329/329 [==============================] - 0s 1ms/step - loss: 0.0055\n",
            "Training time: 20.65539312362671s\n"
          ],
          "name": "stdout"
        }
      ]
    },
    {
      "cell_type": "code",
      "metadata": {
        "id": "YXQoFkaZ-oMS",
        "colab_type": "code",
        "colab": {
          "base_uri": "https://localhost:8080/",
          "height": 34
        },
        "outputId": "bbf1f45e-bf9d-4edf-e474-114d435adc28"
      },
      "source": [
        "#Getting the models predicted price values\n",
        "predictions_CNN_BiLSTM_Attention_Mechanism = model_cnn_lstm.predict(x_test) \n",
        "predictions_CNN_BiLSTM_Attention_Mechanism = scaler.inverse_transform(predictions_CNN_BiLSTM_Attention_Mechanism)#Undo scaling\n",
        "\n",
        "#Calculate/Get the value of RMSE\n",
        "rmse_CNN_BiLSTM_Attention_Mechanism=np.sqrt(np.mean(((predictions_CNN_BiLSTM_Attention_Mechanism- y_test)**2)))\n",
        "print(rmse_CNN_BiLSTM_Attention_Mechanism)"
      ],
      "execution_count": null,
      "outputs": [
        {
          "output_type": "stream",
          "text": [
            "0.22215487376595852\n"
          ],
          "name": "stdout"
        }
      ]
    },
    {
      "cell_type": "code",
      "metadata": {
        "id": "CqSgs5zqSBWf",
        "colab_type": "code",
        "colab": {
          "base_uri": "https://localhost:8080/",
          "height": 34
        },
        "outputId": "8a2374d5-7956-490f-a814-7227796ccc7f"
      },
      "source": [
        "cod_CNN_BiLSTM_Attention_Mechanism = r2_score(y_test, predictions_CNN_BiLSTM_Attention_Mechanism) \n",
        "print(cod_CNN_BiLSTM_Attention_Mechanism)"
      ],
      "execution_count": null,
      "outputs": [
        {
          "output_type": "stream",
          "text": [
            "0.6306397238434731\n"
          ],
          "name": "stdout"
        }
      ]
    },
    {
      "cell_type": "code",
      "metadata": {
        "id": "yGIdPi_P-oMU",
        "colab_type": "code",
        "colab": {}
      },
      "source": [
        "df = data_1\n",
        "data_2 = df.filter(['Close'])\n",
        "len(data_2)\n",
        "\n",
        "data_2 = data_2[data_2['Close'].notna()]\n",
        "len(data_2)\n",
        "\n",
        "import math\n",
        "from sklearn.preprocessing import MinMaxScaler\n",
        "import numpy as np\n",
        "#Converting the dataframe to a numpy array\n",
        "dataset = data_2.values\n",
        "#Get /Compute the number of rows to train the model on\n",
        "training_data_len = math.ceil( len(dataset) -50) \n",
        "# training_data_len = math.ceil( len(dataset) *.6)\n",
        "\n",
        "\n",
        "\n",
        "\n",
        "#Scale the all of the data to be values between 0 and 1 \n",
        "scaler = MinMaxScaler(feature_range=(0, 1)) \n",
        "scaled_data = scaler.fit_transform(dataset)\n",
        "\n",
        "\n",
        "#Create the scaled training data set \n",
        "train_data = scaled_data[0:training_data_len  , : ]\n",
        "#Split the data into x_train and y_train data sets\n",
        "x_train=[]\n",
        "y_train = []\n",
        "for i in range(10,len(train_data)):\n",
        "    x_train.append(train_data[i-10:i,0])\n",
        "    y_train.append(train_data[i,0])\n",
        "\n",
        "\n",
        "#Convert x_train and y_train to numpy arrays\n",
        "x_train, y_train = np.array(x_train), np.array(y_train)    \n",
        "\n",
        "\n",
        "#Reshape the data into the shape accepted by the CNN + Attention + BiLSTM\n",
        "x_train = np.reshape(x_train, (x_train.shape[0],x_train.shape[1],1))\n",
        "\n",
        "#Test data set\n",
        "test_data = scaled_data[training_data_len - 10: , : ]\n",
        "#Create the x_test and y_test data sets\n",
        "x_test = []\n",
        "y_test =  dataset[training_data_len : , : ] #Get all of the rows from index 1603 to the rest and all of the columns (in this case it's only column 'Close'), so 2003 - 1603 = 400 rows of data\n",
        "for i in range(10,len(test_data)):\n",
        "    x_test.append(test_data[i-10:i,0])\n",
        "\n",
        "\n",
        "\n",
        "#Convert x_test to a numpy array \n",
        "x_test = np.array(x_test)\n",
        "\n",
        "#Reshape the data into the shape accepted by the CNN + Attention + BiLSTM\n",
        "x_test = np.reshape(x_test, (x_test.shape[0],x_test.shape[1],1))"
      ],
      "execution_count": null,
      "outputs": []
    },
    {
      "cell_type": "code",
      "metadata": {
        "id": "eZ3osjGO-oMW",
        "colab_type": "code",
        "colab": {}
      },
      "source": [
        "# CNN + Attention Bi-LSTM network model\n",
        "from keras.models import Sequential\n",
        "from keras.layers import Dense, LSTM\n",
        "from keras.optimizers import Adam\n",
        "from keras.layers.convolutional import Conv1D\n",
        "from keras.layers.convolutional import MaxPooling1D\n",
        "from keras.layers import Bidirectional\n",
        "from keras.layers import Dense, Input, CuDNNLSTM, Embedding, Dropout, Activation, CuDNNGRU, Conv1D\n",
        "\n",
        "\n",
        "from keras import backend as K\n",
        "from keras.engine.topology import Layer\n",
        "from keras import initializers, regularizers, constraints\n",
        "\n",
        "#Build the CNN + Attention Bi-LSTM network model\n",
        "model_cnn_lstm = Sequential()\n",
        "model_cnn_lstm.add(Bidirectional(LSTM(units=50, return_sequences=True,input_shape=(x_train.shape[1],1))))\n",
        "# model_cnn_lstm.add(LSTM(units=50, return_sequences=True,input_shape=(x_train.shape[1],1)))\n",
        "model_cnn_lstm.add(SeqSelfAttention(attention_activation='sigmoid'))\n",
        "model_cnn_lstm.add(Conv1D(filters=50, kernel_size=3, padding='same', activation='relu'))\n",
        "model_cnn_lstm.add(MaxPooling1D(pool_size=2))\n",
        "model_cnn_lstm.add(Bidirectional(LSTM(units=50, return_sequences=False)))\n",
        "# model_cnn_lstm.add(LSTM(units=50, return_sequences=False))\n",
        "# model_cnn_lstm.add(Bidirectional(LSTM(units=50, return_sequences=False)))\n",
        "\n",
        "model_cnn_lstm.add(Dropout(0.5))\n",
        "\n",
        "model_cnn_lstm.add(Dense(units=25))\n",
        "model_cnn_lstm.add(Dense(units=1))\n",
        "\n",
        "\n",
        "#Compile the model\n",
        "model_cnn_lstm.compile(optimizer=Adam(lr=0.001), loss='mean_squared_error')"
      ],
      "execution_count": null,
      "outputs": []
    },
    {
      "cell_type": "code",
      "metadata": {
        "id": "4vh-dObf-oMc",
        "colab_type": "code",
        "colab": {
          "base_uri": "https://localhost:8080/",
          "height": 1000
        },
        "outputId": "c6bb2758-29b4-4b91-90d3-1d44c062ed76"
      },
      "source": [
        "start_lstm = time.time()\n",
        " \n",
        "#Train the model\n",
        "model_cnn_lstm.fit(x_train, y_train, batch_size=10, epochs=40) \n",
        " \n",
        "stop_lstm = time.time()\n",
        "print(f\"Training time: {stop_lstm - start_lstm}s\")\n",
        "time_CNN_Attention_Bi_LSTM=stop_lstm- start_lstm"
      ],
      "execution_count": null,
      "outputs": [
        {
          "output_type": "stream",
          "text": [
            "Epoch 1/40\n",
            "329/329 [==============================] - 2s 7ms/step - loss: 0.0380\n",
            "Epoch 2/40\n",
            "329/329 [==============================] - 0s 2ms/step - loss: 0.0125\n",
            "Epoch 3/40\n",
            "329/329 [==============================] - 0s 1ms/step - loss: 0.0091\n",
            "Epoch 4/40\n",
            "329/329 [==============================] - 0s 2ms/step - loss: 0.0107\n",
            "Epoch 5/40\n",
            "329/329 [==============================] - 1s 2ms/step - loss: 0.0115\n",
            "Epoch 6/40\n",
            "329/329 [==============================] - 1s 2ms/step - loss: 0.0084\n",
            "Epoch 7/40\n",
            "329/329 [==============================] - 1s 2ms/step - loss: 0.0086\n",
            "Epoch 8/40\n",
            "329/329 [==============================] - 1s 2ms/step - loss: 0.0076\n",
            "Epoch 9/40\n",
            "329/329 [==============================] - 0s 1ms/step - loss: 0.0065\n",
            "Epoch 10/40\n",
            "329/329 [==============================] - 0s 1ms/step - loss: 0.0060\n",
            "Epoch 11/40\n",
            "329/329 [==============================] - 0s 1ms/step - loss: 0.0069\n",
            "Epoch 12/40\n",
            "329/329 [==============================] - 1s 2ms/step - loss: 0.0085\n",
            "Epoch 13/40\n",
            "329/329 [==============================] - 1s 2ms/step - loss: 0.0060\n",
            "Epoch 14/40\n",
            "329/329 [==============================] - 0s 1ms/step - loss: 0.0058\n",
            "Epoch 15/40\n",
            "329/329 [==============================] - 1s 2ms/step - loss: 0.0065\n",
            "Epoch 16/40\n",
            "329/329 [==============================] - 1s 2ms/step - loss: 0.0054\n",
            "Epoch 17/40\n",
            "329/329 [==============================] - 1s 2ms/step - loss: 0.0048\n",
            "Epoch 18/40\n",
            "329/329 [==============================] - 0s 1ms/step - loss: 0.0051\n",
            "Epoch 19/40\n",
            "329/329 [==============================] - 1s 2ms/step - loss: 0.0071\n",
            "Epoch 20/40\n",
            "329/329 [==============================] - 0s 2ms/step - loss: 0.0052\n",
            "Epoch 21/40\n",
            "329/329 [==============================] - 1s 2ms/step - loss: 0.0057\n",
            "Epoch 22/40\n",
            "329/329 [==============================] - 1s 2ms/step - loss: 0.0046\n",
            "Epoch 23/40\n",
            "329/329 [==============================] - 1s 2ms/step - loss: 0.0052\n",
            "Epoch 24/40\n",
            "329/329 [==============================] - 0s 2ms/step - loss: 0.0046\n",
            "Epoch 25/40\n",
            "329/329 [==============================] - 0s 2ms/step - loss: 0.0051\n",
            "Epoch 26/40\n",
            "329/329 [==============================] - 0s 2ms/step - loss: 0.0047\n",
            "Epoch 27/40\n",
            "329/329 [==============================] - 1s 2ms/step - loss: 0.0041\n",
            "Epoch 28/40\n",
            "329/329 [==============================] - 1s 2ms/step - loss: 0.0040\n",
            "Epoch 29/40\n",
            "329/329 [==============================] - 1s 2ms/step - loss: 0.0036\n",
            "Epoch 30/40\n",
            "329/329 [==============================] - 1s 2ms/step - loss: 0.0067\n",
            "Epoch 31/40\n",
            "329/329 [==============================] - 0s 1ms/step - loss: 0.0060\n",
            "Epoch 32/40\n",
            "329/329 [==============================] - 0s 1ms/step - loss: 0.0051\n",
            "Epoch 33/40\n",
            "329/329 [==============================] - 1s 2ms/step - loss: 0.0048\n",
            "Epoch 34/40\n",
            "329/329 [==============================] - 1s 2ms/step - loss: 0.0047\n",
            "Epoch 35/40\n",
            "329/329 [==============================] - 1s 2ms/step - loss: 0.0040\n",
            "Epoch 36/40\n",
            "329/329 [==============================] - 1s 2ms/step - loss: 0.0039\n",
            "Epoch 37/40\n",
            "329/329 [==============================] - 1s 2ms/step - loss: 0.0041\n",
            "Epoch 38/40\n",
            "329/329 [==============================] - 1s 2ms/step - loss: 0.0056\n",
            "Epoch 39/40\n",
            "329/329 [==============================] - 1s 2ms/step - loss: 0.0048\n",
            "Epoch 40/40\n",
            "329/329 [==============================] - 1s 2ms/step - loss: 0.0050\n",
            "Training time: 26.569012880325317s\n"
          ],
          "name": "stdout"
        }
      ]
    },
    {
      "cell_type": "code",
      "metadata": {
        "id": "IZsbR1XE-oMe",
        "colab_type": "code",
        "colab": {
          "base_uri": "https://localhost:8080/",
          "height": 34
        },
        "outputId": "d6be5791-a4cc-4e9e-cbfb-de3f924d549e"
      },
      "source": [
        "#Getting the models predicted price values\n",
        "predictions_CNN_Attention_Bi_LSTM = model_cnn_lstm.predict(x_test) \n",
        "predictions_CNN_Attention_Bi_LSTM = scaler.inverse_transform(predictions_CNN_Attention_Bi_LSTM)#Undo scaling\n",
        "\n",
        "#Calculate/Get the value of RMSE\n",
        "rmse_CNN_Attention_Bi_LSTM=np.sqrt(np.mean(((predictions_CNN_Attention_Bi_LSTM - y_test)**2)))\n",
        "print(rmse_CNN_Attention_Bi_LSTM)"
      ],
      "execution_count": null,
      "outputs": [
        {
          "output_type": "stream",
          "text": [
            "0.26834072229716316\n"
          ],
          "name": "stdout"
        }
      ]
    },
    {
      "cell_type": "code",
      "metadata": {
        "id": "R5bOAqDZSM6m",
        "colab_type": "code",
        "colab": {
          "base_uri": "https://localhost:8080/",
          "height": 34
        },
        "outputId": "962ab9b4-2776-4f94-f967-d8a70d261965"
      },
      "source": [
        "cod_CNN_Attention_Bi_LSTM = r2_score(y_test, predictions_CNN_Attention_Bi_LSTM) \n",
        "print(cod_CNN_Attention_Bi_LSTM)"
      ],
      "execution_count": null,
      "outputs": [
        {
          "output_type": "stream",
          "text": [
            "0.46109568110353105\n"
          ],
          "name": "stdout"
        }
      ]
    },
    {
      "cell_type": "code",
      "metadata": {
        "id": "J8aAbrWE-oMh",
        "colab_type": "code",
        "colab": {}
      },
      "source": [
        "# LSTM + Attention + CNN + LSTM network model\n",
        "from keras.models import Sequential\n",
        "from keras.layers import Dense, LSTM\n",
        "from keras.optimizers import Adam\n",
        "from keras.layers.convolutional import Conv1D\n",
        "from keras.layers.convolutional import MaxPooling1D\n",
        "from keras.layers import Bidirectional\n",
        "from keras.layers import Dense, Input, CuDNNLSTM, Embedding, Dropout, Activation, CuDNNGRU, Conv1D\n",
        "\n",
        "\n",
        "from keras import backend as K\n",
        "from keras.engine.topology import Layer\n",
        "from keras import initializers, regularizers, constraints\n",
        "\n",
        "#Build the CNN + Attention Bi-LSTM network model\n",
        "model_cnn_lstm = Sequential()\n",
        "model_cnn_lstm.add(LSTM(units=50, return_sequences=True,input_shape=(x_train.shape[1],1)))\n",
        "# model_cnn_lstm.add(LSTM(units=50, return_sequences=True,input_shape=(x_train.shape[1],1)))\n",
        "model_cnn_lstm.add(SeqSelfAttention(attention_activation='sigmoid'))\n",
        "model_cnn_lstm.add(Conv1D(filters=50, kernel_size=3, padding='same', activation='relu'))\n",
        "model_cnn_lstm.add(MaxPooling1D(pool_size=2))\n",
        "model_cnn_lstm.add(LSTM(units=50, return_sequences=False))\n",
        "# model_cnn_lstm.add(LSTM(units=50, return_sequences=False))\n",
        "# model_cnn_lstm.add(Bidirectional(LSTM(units=50, return_sequences=False)))\n",
        "\n",
        "model_cnn_lstm.add(Dropout(0.5))\n",
        "\n",
        "model_cnn_lstm.add(Dense(units=25))\n",
        "model_cnn_lstm.add(Dense(units=1))\n",
        "\n",
        "\n",
        "#Compile the model\n",
        "model_cnn_lstm.compile(optimizer=Adam(lr=0.001), loss='mean_squared_error')"
      ],
      "execution_count": null,
      "outputs": []
    },
    {
      "cell_type": "code",
      "metadata": {
        "id": "vWY9d6ph-oMk",
        "colab_type": "code",
        "colab": {
          "base_uri": "https://localhost:8080/",
          "height": 1000
        },
        "outputId": "a6cfc95b-85b7-4179-c0eb-0c5daf3576ac"
      },
      "source": [
        "start_lstm = time.time()\n",
        " \n",
        "#Train the model\n",
        "model_cnn_lstm.fit(x_train, y_train, batch_size=10, epochs=40) \n",
        " \n",
        "stop_lstm = time.time()\n",
        "print(f\"Training time: {stop_lstm - start_lstm}s\")\n",
        "time_LSTM_Attention_CNN_LSTM= stop_lstm-start_lstm"
      ],
      "execution_count": null,
      "outputs": [
        {
          "output_type": "stream",
          "text": [
            "Epoch 1/40\n",
            "329/329 [==============================] - 2s 6ms/step - loss: 0.0348\n",
            "Epoch 2/40\n",
            "329/329 [==============================] - 0s 938us/step - loss: 0.0128\n",
            "Epoch 3/40\n",
            "329/329 [==============================] - 0s 1ms/step - loss: 0.0119\n",
            "Epoch 4/40\n",
            "329/329 [==============================] - 0s 1ms/step - loss: 0.0109\n",
            "Epoch 5/40\n",
            "329/329 [==============================] - 0s 977us/step - loss: 0.0104\n",
            "Epoch 6/40\n",
            "329/329 [==============================] - 0s 1ms/step - loss: 0.0115\n",
            "Epoch 7/40\n",
            "329/329 [==============================] - 0s 1ms/step - loss: 0.0102\n",
            "Epoch 8/40\n",
            "329/329 [==============================] - 0s 1ms/step - loss: 0.0090\n",
            "Epoch 9/40\n",
            "329/329 [==============================] - 0s 994us/step - loss: 0.0103\n",
            "Epoch 10/40\n",
            "329/329 [==============================] - 0s 981us/step - loss: 0.0091\n",
            "Epoch 11/40\n",
            "329/329 [==============================] - 0s 1ms/step - loss: 0.0109\n",
            "Epoch 12/40\n",
            "329/329 [==============================] - 0s 1ms/step - loss: 0.0084\n",
            "Epoch 13/40\n",
            "329/329 [==============================] - 0s 1ms/step - loss: 0.0084\n",
            "Epoch 14/40\n",
            "329/329 [==============================] - 0s 1ms/step - loss: 0.0090\n",
            "Epoch 15/40\n",
            "329/329 [==============================] - 0s 964us/step - loss: 0.0090\n",
            "Epoch 16/40\n",
            "329/329 [==============================] - 0s 1ms/step - loss: 0.0081\n",
            "Epoch 17/40\n",
            "329/329 [==============================] - 0s 976us/step - loss: 0.0090\n",
            "Epoch 18/40\n",
            "329/329 [==============================] - 0s 1ms/step - loss: 0.0070\n",
            "Epoch 19/40\n",
            "329/329 [==============================] - 0s 1ms/step - loss: 0.0074\n",
            "Epoch 20/40\n",
            "329/329 [==============================] - 0s 1ms/step - loss: 0.0079\n",
            "Epoch 21/40\n",
            "329/329 [==============================] - 0s 974us/step - loss: 0.0074\n",
            "Epoch 22/40\n",
            "329/329 [==============================] - 0s 996us/step - loss: 0.0071\n",
            "Epoch 23/40\n",
            "329/329 [==============================] - 0s 996us/step - loss: 0.0078\n",
            "Epoch 24/40\n",
            "329/329 [==============================] - 0s 1ms/step - loss: 0.0073\n",
            "Epoch 25/40\n",
            "329/329 [==============================] - 0s 1ms/step - loss: 0.0061\n",
            "Epoch 26/40\n",
            "329/329 [==============================] - 0s 988us/step - loss: 0.0070\n",
            "Epoch 27/40\n",
            "329/329 [==============================] - 0s 1ms/step - loss: 0.0065\n",
            "Epoch 28/40\n",
            "329/329 [==============================] - 0s 1ms/step - loss: 0.0061\n",
            "Epoch 29/40\n",
            "329/329 [==============================] - 0s 1ms/step - loss: 0.0064\n",
            "Epoch 30/40\n",
            "329/329 [==============================] - 0s 1ms/step - loss: 0.0073\n",
            "Epoch 31/40\n",
            "329/329 [==============================] - 0s 1ms/step - loss: 0.0064\n",
            "Epoch 32/40\n",
            "329/329 [==============================] - 0s 1ms/step - loss: 0.0064\n",
            "Epoch 33/40\n",
            "329/329 [==============================] - 0s 956us/step - loss: 0.0064\n",
            "Epoch 34/40\n",
            "329/329 [==============================] - 0s 1ms/step - loss: 0.0070\n",
            "Epoch 35/40\n",
            "329/329 [==============================] - 0s 997us/step - loss: 0.0057\n",
            "Epoch 36/40\n",
            "329/329 [==============================] - 0s 1ms/step - loss: 0.0072\n",
            "Epoch 37/40\n",
            "329/329 [==============================] - 0s 1ms/step - loss: 0.0057\n",
            "Epoch 38/40\n",
            "329/329 [==============================] - 0s 1ms/step - loss: 0.0059\n",
            "Epoch 39/40\n",
            "329/329 [==============================] - 0s 966us/step - loss: 0.0051\n",
            "Epoch 40/40\n",
            "329/329 [==============================] - 0s 1ms/step - loss: 0.0062\n",
            "Training time: 17.974180459976196s\n"
          ],
          "name": "stdout"
        }
      ]
    },
    {
      "cell_type": "code",
      "metadata": {
        "id": "YTPOcaZN-oMo",
        "colab_type": "code",
        "colab": {
          "base_uri": "https://localhost:8080/",
          "height": 34
        },
        "outputId": "b22937fb-5bd2-4e67-f48b-270e77062a18"
      },
      "source": [
        "#Getting the models predicted price values\n",
        "predictions_LSTM_Attention_CNN_LSTM = model_cnn_lstm.predict(x_test) \n",
        "predictions_LSTM_Attention_CNN_LSTM = scaler.inverse_transform(predictions_LSTM_Attention_CNN_LSTM)#Undo scaling\n",
        "\n",
        "#Calculate/Get the value of RMSE\n",
        "rmse_LSTM_Attention_CNN_LSTM=np.sqrt(np.mean(((predictions_LSTM_Attention_CNN_LSTM- y_test)**2)))\n",
        "print(rmse_LSTM_Attention_CNN_LSTM)"
      ],
      "execution_count": null,
      "outputs": [
        {
          "output_type": "stream",
          "text": [
            "0.2401797530446178\n"
          ],
          "name": "stdout"
        }
      ]
    },
    {
      "cell_type": "code",
      "metadata": {
        "id": "Nst02CS9SV3T",
        "colab_type": "code",
        "colab": {
          "base_uri": "https://localhost:8080/",
          "height": 34
        },
        "outputId": "1c718d20-4319-4c35-ef81-358cdec33d25"
      },
      "source": [
        "cod_LSTM_Attention_CNN_LSTM = r2_score(y_test, predictions_LSTM_Attention_CNN_LSTM) \n",
        "print(cod_LSTM_Attention_CNN_LSTM)"
      ],
      "execution_count": null,
      "outputs": [
        {
          "output_type": "stream",
          "text": [
            "0.5682709391763147\n"
          ],
          "name": "stdout"
        }
      ]
    },
    {
      "cell_type": "code",
      "metadata": {
        "id": "Ly5XBODH-oMr",
        "colab_type": "code",
        "colab": {}
      },
      "source": [
        "# Attention LSTM network model\n",
        "from keras.models import Sequential\n",
        "from keras.layers import Dense, LSTM\n",
        "from keras.optimizers import Adam\n",
        "from keras.layers.convolutional import Conv1D\n",
        "from keras.layers.convolutional import MaxPooling1D\n",
        "from keras.layers import Bidirectional\n",
        "from keras.layers import Dense, Input, CuDNNLSTM, Embedding, Dropout, Activation, CuDNNGRU, Conv1D\n",
        "\n",
        "\n",
        "from keras import backend as K\n",
        "from keras.engine.topology import Layer\n",
        "from keras import initializers, regularizers, constraints\n",
        "\n",
        "#Build the CNN + Attention Bi-LSTM network model\n",
        "model_cnn_lstm = Sequential()\n",
        "model_cnn_lstm.add(LSTM(units=50, return_sequences=True,input_shape=(x_train.shape[1],1)))\n",
        "# model_cnn_lstm.add(LSTM(units=50, return_sequences=True,input_shape=(x_train.shape[1],1)))\n",
        "model_cnn_lstm.add(SeqSelfAttention(attention_activation='sigmoid'))\n",
        "# model_cnn_lstm.add(Conv1D(filters=50, kernel_size=3, padding='same', activation='relu'))\n",
        "# model_cnn_lstm.add(MaxPooling1D(pool_size=2))\n",
        "# model_cnn_lstm.add(LSTM(units=50, return_sequences=False))\n",
        "model_cnn_lstm.add(LSTM(units=50, return_sequences=False))\n",
        "# model_cnn_lstm.add(Bidirectional(LSTM(units=50, return_sequences=False)))\n",
        "\n",
        "model_cnn_lstm.add(Dropout(0.5))\n",
        "\n",
        "model_cnn_lstm.add(Dense(units=25))\n",
        "model_cnn_lstm.add(Dense(units=1))\n",
        "\n",
        "\n",
        "#Compile the model\n",
        "model_cnn_lstm.compile(optimizer=Adam(lr=0.001), loss='mean_squared_error')"
      ],
      "execution_count": null,
      "outputs": []
    },
    {
      "cell_type": "code",
      "metadata": {
        "id": "b4m4nUOH-oMu",
        "colab_type": "code",
        "colab": {
          "base_uri": "https://localhost:8080/",
          "height": 1000
        },
        "outputId": "a2c733c6-c2e4-4bbd-a38f-a4e45ccf7541"
      },
      "source": [
        "start_lstm = time.time()\n",
        " \n",
        "#Train the model\n",
        "model_cnn_lstm.fit(x_train, y_train, batch_size=10, epochs=40) \n",
        " \n",
        "stop_lstm = time.time()\n",
        "print(f\"Training time: {stop_lstm - start_lstm}s\")\n",
        "time_Attention_LSTM=stop_lstm-start_lstm"
      ],
      "execution_count": null,
      "outputs": [
        {
          "output_type": "stream",
          "text": [
            "Epoch 1/40\n",
            "329/329 [==============================] - 2s 6ms/step - loss: 0.0435\n",
            "Epoch 2/40\n",
            "329/329 [==============================] - 0s 1ms/step - loss: 0.0153\n",
            "Epoch 3/40\n",
            "329/329 [==============================] - 0s 1ms/step - loss: 0.0136\n",
            "Epoch 4/40\n",
            "329/329 [==============================] - 0s 1ms/step - loss: 0.0114\n",
            "Epoch 5/40\n",
            "329/329 [==============================] - 0s 1ms/step - loss: 0.0131\n",
            "Epoch 6/40\n",
            "329/329 [==============================] - 0s 1ms/step - loss: 0.0122\n",
            "Epoch 7/40\n",
            "329/329 [==============================] - 0s 1ms/step - loss: 0.0109\n",
            "Epoch 8/40\n",
            "329/329 [==============================] - 0s 1ms/step - loss: 0.0103\n",
            "Epoch 9/40\n",
            "329/329 [==============================] - 0s 1ms/step - loss: 0.0100\n",
            "Epoch 10/40\n",
            "329/329 [==============================] - 0s 1ms/step - loss: 0.0087\n",
            "Epoch 11/40\n",
            "329/329 [==============================] - 0s 1ms/step - loss: 0.0099\n",
            "Epoch 12/40\n",
            "329/329 [==============================] - 0s 1ms/step - loss: 0.0092\n",
            "Epoch 13/40\n",
            "329/329 [==============================] - 0s 1ms/step - loss: 0.0078\n",
            "Epoch 14/40\n",
            "329/329 [==============================] - 0s 1ms/step - loss: 0.0090\n",
            "Epoch 15/40\n",
            "329/329 [==============================] - 0s 1ms/step - loss: 0.0094\n",
            "Epoch 16/40\n",
            "329/329 [==============================] - 0s 1ms/step - loss: 0.0080\n",
            "Epoch 17/40\n",
            "329/329 [==============================] - 0s 1ms/step - loss: 0.0087\n",
            "Epoch 18/40\n",
            "329/329 [==============================] - 0s 1ms/step - loss: 0.0082\n",
            "Epoch 19/40\n",
            "329/329 [==============================] - 0s 1ms/step - loss: 0.0084\n",
            "Epoch 20/40\n",
            "329/329 [==============================] - 0s 1ms/step - loss: 0.0082\n",
            "Epoch 21/40\n",
            "329/329 [==============================] - 0s 1ms/step - loss: 0.0080\n",
            "Epoch 22/40\n",
            "329/329 [==============================] - 0s 1ms/step - loss: 0.0095\n",
            "Epoch 23/40\n",
            "329/329 [==============================] - 0s 1ms/step - loss: 0.0082\n",
            "Epoch 24/40\n",
            "329/329 [==============================] - 0s 1ms/step - loss: 0.0072\n",
            "Epoch 25/40\n",
            "329/329 [==============================] - 0s 1ms/step - loss: 0.0085\n",
            "Epoch 26/40\n",
            "329/329 [==============================] - 0s 1ms/step - loss: 0.0076\n",
            "Epoch 27/40\n",
            "329/329 [==============================] - 0s 1ms/step - loss: 0.0082\n",
            "Epoch 28/40\n",
            "329/329 [==============================] - 0s 1ms/step - loss: 0.0075\n",
            "Epoch 29/40\n",
            "329/329 [==============================] - 0s 1ms/step - loss: 0.0078\n",
            "Epoch 30/40\n",
            "329/329 [==============================] - 0s 1ms/step - loss: 0.0064\n",
            "Epoch 31/40\n",
            "329/329 [==============================] - 0s 1ms/step - loss: 0.0070\n",
            "Epoch 32/40\n",
            "329/329 [==============================] - 0s 1ms/step - loss: 0.0069\n",
            "Epoch 33/40\n",
            "329/329 [==============================] - 0s 1ms/step - loss: 0.0066\n",
            "Epoch 34/40\n",
            "329/329 [==============================] - 0s 1ms/step - loss: 0.0059\n",
            "Epoch 35/40\n",
            "329/329 [==============================] - 0s 1ms/step - loss: 0.0061\n",
            "Epoch 36/40\n",
            "329/329 [==============================] - 0s 1ms/step - loss: 0.0065\n",
            "Epoch 37/40\n",
            "329/329 [==============================] - 0s 1ms/step - loss: 0.0057\n",
            "Epoch 38/40\n",
            "329/329 [==============================] - 0s 1ms/step - loss: 0.0058\n",
            "Epoch 39/40\n",
            "329/329 [==============================] - 0s 1ms/step - loss: 0.0065\n",
            "Epoch 40/40\n",
            "329/329 [==============================] - 0s 1ms/step - loss: 0.0058\n",
            "Training time: 19.86988878250122s\n"
          ],
          "name": "stdout"
        }
      ]
    },
    {
      "cell_type": "code",
      "metadata": {
        "id": "JfbcQI3X-oMv",
        "colab_type": "code",
        "colab": {
          "base_uri": "https://localhost:8080/",
          "height": 34
        },
        "outputId": "c485ff90-7c99-4ce4-a7fa-70a73fb8b45b"
      },
      "source": [
        "#Getting the models predicted price values\n",
        "predictions_Attention_LSTM = model_cnn_lstm.predict(x_test) \n",
        "predictions_Attention_LSTM = scaler.inverse_transform(predictions_Attention_LSTM)#Undo scaling\n",
        "\n",
        "#Calculate/Get the value of RMSE\n",
        "rmse_Attention_LSTM=np.sqrt(np.mean(((predictions_Attention_LSTM- y_test)**2)))\n",
        "print(rmse_Attention_LSTM)"
      ],
      "execution_count": null,
      "outputs": [
        {
          "output_type": "stream",
          "text": [
            "0.2913853247664958\n"
          ],
          "name": "stdout"
        }
      ]
    },
    {
      "cell_type": "code",
      "metadata": {
        "id": "QMjAOl_GSi8B",
        "colab_type": "code",
        "colab": {
          "base_uri": "https://localhost:8080/",
          "height": 34
        },
        "outputId": "f7c498f4-8f0d-4911-a830-bf5968e1c6e0"
      },
      "source": [
        "cod_Attention_LSTM = r2_score(y_test, predictions_Attention_LSTM) \n",
        "print(cod_Attention_LSTM)"
      ],
      "execution_count": null,
      "outputs": [
        {
          "output_type": "stream",
          "text": [
            "0.3645610295240369\n"
          ],
          "name": "stdout"
        }
      ]
    },
    {
      "cell_type": "code",
      "metadata": {
        "id": "oc5UeIQd-oMx",
        "colab_type": "code",
        "colab": {}
      },
      "source": [
        "##############CNN + LSTM#################\n",
        "model_cnn_lstm = Sequential()\n",
        "model_cnn_lstm.add(Conv1D(filters=50, kernel_size=3, padding='same', activation='relu',input_shape=(x_train.shape[1],1)))\n",
        "model_cnn_lstm.add(MaxPooling1D(pool_size=2))\n",
        "model_cnn_lstm.add(LSTM(units=50, return_sequences=True))\n",
        "# model_cnn_lstm.add(LSTM(units=50, return_sequences=True,input_shape=(x_train.shape[1],1)))\n",
        "model_cnn_lstm.add(SeqSelfAttention(attention_activation='sigmoid'))\n",
        "# model_cnn_lstm.add(LSTM(units=50, return_sequences=False))\n",
        "model_cnn_lstm.add(LSTM(units=50, return_sequences=False))\n",
        "# model_cnn_lstm.add(Bidirectional(LSTM(units=50, return_sequences=False)))\n",
        "\n",
        "model_cnn_lstm.add(Dropout(0.5))\n",
        "\n",
        "model_cnn_lstm.add(Dense(units=25))\n",
        "model_cnn_lstm.add(Dense(units=1))\n",
        "\n",
        "\n",
        "#Compile the model\n",
        "model_cnn_lstm.compile(optimizer=Adam(lr=0.001), loss='mean_squared_error')"
      ],
      "execution_count": null,
      "outputs": []
    },
    {
      "cell_type": "code",
      "metadata": {
        "id": "LV-Uw0xM-oMy",
        "colab_type": "code",
        "colab": {
          "base_uri": "https://localhost:8080/",
          "height": 1000
        },
        "outputId": "20dbdaa0-135b-438c-8201-1c4582630402"
      },
      "source": [
        "start_lstm = time.time()\n",
        " \n",
        "#Train the model\n",
        "model_cnn_lstm.fit(x_train, y_train, batch_size=10, epochs=40) \n",
        " \n",
        "stop_lstm = time.time()\n",
        "print(f\"Training time: {stop_lstm - start_lstm}s\")\n",
        "time_CNN_LSTM=stop_lstm-start_lstm"
      ],
      "execution_count": null,
      "outputs": [
        {
          "output_type": "stream",
          "text": [
            "Epoch 1/40\n",
            "329/329 [==============================] - 2s 6ms/step - loss: 0.0396\n",
            "Epoch 2/40\n",
            "329/329 [==============================] - 0s 794us/step - loss: 0.0139\n",
            "Epoch 3/40\n",
            "329/329 [==============================] - 0s 895us/step - loss: 0.0123\n",
            "Epoch 4/40\n",
            "329/329 [==============================] - 0s 807us/step - loss: 0.0113\n",
            "Epoch 5/40\n",
            "329/329 [==============================] - 0s 830us/step - loss: 0.0110\n",
            "Epoch 6/40\n",
            "329/329 [==============================] - 0s 843us/step - loss: 0.0112\n",
            "Epoch 7/40\n",
            "329/329 [==============================] - 0s 908us/step - loss: 0.0112\n",
            "Epoch 8/40\n",
            "329/329 [==============================] - 0s 808us/step - loss: 0.0099\n",
            "Epoch 9/40\n",
            "329/329 [==============================] - 0s 880us/step - loss: 0.0088\n",
            "Epoch 10/40\n",
            "329/329 [==============================] - 0s 924us/step - loss: 0.0110\n",
            "Epoch 11/40\n",
            "329/329 [==============================] - 0s 867us/step - loss: 0.0090\n",
            "Epoch 12/40\n",
            "329/329 [==============================] - 0s 894us/step - loss: 0.0082\n",
            "Epoch 13/40\n",
            "329/329 [==============================] - 0s 834us/step - loss: 0.0076\n",
            "Epoch 14/40\n",
            "329/329 [==============================] - 0s 847us/step - loss: 0.0077\n",
            "Epoch 15/40\n",
            "329/329 [==============================] - 0s 815us/step - loss: 0.0065\n",
            "Epoch 16/40\n",
            "329/329 [==============================] - 0s 928us/step - loss: 0.0055\n",
            "Epoch 17/40\n",
            "329/329 [==============================] - 0s 905us/step - loss: 0.0061\n",
            "Epoch 18/40\n",
            "329/329 [==============================] - 0s 839us/step - loss: 0.0058\n",
            "Epoch 19/40\n",
            "329/329 [==============================] - 0s 852us/step - loss: 0.0053\n",
            "Epoch 20/40\n",
            "329/329 [==============================] - 0s 977us/step - loss: 0.0050\n",
            "Epoch 21/40\n",
            "329/329 [==============================] - 0s 936us/step - loss: 0.0041\n",
            "Epoch 22/40\n",
            "329/329 [==============================] - 0s 866us/step - loss: 0.0039\n",
            "Epoch 23/40\n",
            "329/329 [==============================] - 0s 861us/step - loss: 0.0043\n",
            "Epoch 24/40\n",
            "329/329 [==============================] - 0s 882us/step - loss: 0.0039\n",
            "Epoch 25/40\n",
            "329/329 [==============================] - 0s 886us/step - loss: 0.0036\n",
            "Epoch 26/40\n",
            "329/329 [==============================] - 0s 816us/step - loss: 0.0038\n",
            "Epoch 27/40\n",
            "329/329 [==============================] - 0s 872us/step - loss: 0.0041\n",
            "Epoch 28/40\n",
            "329/329 [==============================] - 0s 946us/step - loss: 0.0036\n",
            "Epoch 29/40\n",
            "329/329 [==============================] - 0s 921us/step - loss: 0.0040\n",
            "Epoch 30/40\n",
            "329/329 [==============================] - 0s 896us/step - loss: 0.0037\n",
            "Epoch 31/40\n",
            "329/329 [==============================] - 0s 908us/step - loss: 0.0041\n",
            "Epoch 32/40\n",
            "329/329 [==============================] - 0s 813us/step - loss: 0.0038\n",
            "Epoch 33/40\n",
            "329/329 [==============================] - 0s 826us/step - loss: 0.0040\n",
            "Epoch 34/40\n",
            "329/329 [==============================] - 0s 818us/step - loss: 0.0033\n",
            "Epoch 35/40\n",
            "329/329 [==============================] - 0s 865us/step - loss: 0.0038\n",
            "Epoch 36/40\n",
            "329/329 [==============================] - 0s 801us/step - loss: 0.0035\n",
            "Epoch 37/40\n",
            "329/329 [==============================] - 0s 930us/step - loss: 0.0034\n",
            "Epoch 38/40\n",
            "329/329 [==============================] - 0s 953us/step - loss: 0.0039\n",
            "Epoch 39/40\n",
            "329/329 [==============================] - 0s 896us/step - loss: 0.0039\n",
            "Epoch 40/40\n",
            "329/329 [==============================] - 0s 908us/step - loss: 0.0035\n",
            "Training time: 16.618852376937866s\n"
          ],
          "name": "stdout"
        }
      ]
    },
    {
      "cell_type": "code",
      "metadata": {
        "id": "SZYMEbxw-oM0",
        "colab_type": "code",
        "colab": {
          "base_uri": "https://localhost:8080/",
          "height": 34
        },
        "outputId": "509181b2-6de9-4432-86da-a3256d04053e"
      },
      "source": [
        "#Getting the models predicted price values\n",
        "predictions_CNN_LSTM = model_cnn_lstm.predict(x_test) \n",
        "predictions_CNN_LSTM = scaler.inverse_transform(predictions_CNN_LSTM)#Undo scaling\n",
        "\n",
        "#Calculate/Get the value of RMSE\n",
        "rmse_CNN_LSTM=np.sqrt(np.mean(((predictions_CNN_LSTM- y_test)**2)))\n",
        "print(rmse_CNN_LSTM)"
      ],
      "execution_count": null,
      "outputs": [
        {
          "output_type": "stream",
          "text": [
            "0.15718990803468202\n"
          ],
          "name": "stdout"
        }
      ]
    },
    {
      "cell_type": "code",
      "metadata": {
        "id": "X1OdM98hSv7n",
        "colab_type": "code",
        "colab": {
          "base_uri": "https://localhost:8080/",
          "height": 34
        },
        "outputId": "0ef6e75a-7fd1-4066-cd47-a0e9ad347cab"
      },
      "source": [
        "cod_CNN_LSTM = r2_score(y_test, predictions_CNN_LSTM) \n",
        "print(cod_CNN_LSTM)"
      ],
      "execution_count": null,
      "outputs": [
        {
          "output_type": "stream",
          "text": [
            "0.8150783265279264\n"
          ],
          "name": "stdout"
        }
      ]
    },
    {
      "cell_type": "code",
      "metadata": {
        "id": "0XRHSXAvS6V5",
        "colab_type": "code",
        "colab": {}
      },
      "source": [
        "# print(cod_fastrnn_hyb_CNN_BiLSTM)\n",
        "# print(cod_arima)\n",
        "# print(cod_lstm_1)"
      ],
      "execution_count": null,
      "outputs": []
    },
    {
      "cell_type": "code",
      "metadata": {
        "id": "I3JCxE050M-P",
        "colab_type": "code",
        "colab": {}
      },
      "source": [
        "df_final = pd.DataFrame(columns=['Variabel_name','RMSE','Time(in sec)','Description','R-Square value'])"
      ],
      "execution_count": null,
      "outputs": []
    },
    {
      "cell_type": "code",
      "metadata": {
        "id": "q5eHbqhV-oM3",
        "colab_type": "code",
        "colab": {}
      },
      "source": [
        "# print(\"FastRNN::                        RMSE= %.3f ,  Time= %.2f sec \" %(rmse_fastgrnn, time_fastrnn))\n",
        "# print(\"LSTM::                           RMSE= %.3f ,  Time= %.2f sec \" %(rmse_lstm_1, time_lstm_1))\n",
        "# print(\"Arima::                          RMSE= %.3f ,  Time= -\" %(error))\n",
        "# print(\"FB::                             RMSE= %.3f ,  Time= %.2f sec\" %(rmse_fb , time_fb))\n",
        "\n",
        "# print(\"CNN_LSTM_BiLSTM::                RMSE= %.3f ,  Time= %.2f sec \\tLSTM + conv1d + maxpooling + biLSTM + Dropout + dense + dense\" %(rmse_CNN_LSTM_BiLSTM,time_CNN_LSTM_BiLSTM))\n",
        "# print(\"fastrnn_hyb_CNN_BiLSTM::         RMSE= %.3f ,  Time= %.2f sec \\tFastCell + cov1D + Maxpooling(unit=1) + BiLSTM + dropout + dense + dense\" %(rmse_fastrnn_hyb_CNN_BiLSTM,time_fastrnn_hyb_CNN_BiLSTM))\n",
        "# print(\"CNN_BiLSTM_Attention_Mechanism:: RMSE= %.3f ,  Time= %.2f sec \\tLSTM + SeqSelfAttention + Conv1D + MaxPooling + BiLSTM + Dropout + Dense + Dense\" %(rmse_CNN_BiLSTM_Attention_Mechanism,time_CNN_BiLSTM_Attention_Mechanism))\n",
        "# print(\"CNN_Attention_Bi_LSTM::          RMSE= %.3f ,  Time= %.2f sec \\tBiLSTM + SeqSelfAttention + Conv1D + Maxpooling + Bi_LSTM + Dropout + Dense + Dense\" %(rmse_CNN_Attention_Bi_LSTM,time_CNN_Attention_Bi_LSTM))\n",
        "# print(\"LSTM_Attention_CNN_LSTM::        RMSE= %.3f ,  Time= %.2f sec \\tLSTM + SeqSelfAttention + Conv1D + MaxPooling + LSTM + Dropout + Dense + Dense\" %(rmse_LSTM_Attention_CNN_LSTM,time_LSTM_Attention_CNN_LSTM))\n",
        "# print(\"Attention_LSTM::                 RMSE= %.3f ,  Time= %.2f sec \\tLSTM + SeqSelfAttention + LSTM + Dropout + Dense + Dense\" %(rmse_Attention_LSTM,time_Attention_LSTM))\n",
        "# print(\"CNN_LSTM::                       RMSE= %.3f ,  Time= %.2f sec \\tConv1D + Maxpooling + LSTM + SeqSelfAttention + LSTM + Dropout + Dense + Dense\" %(rmse_CNN_LSTM,time_CNN_LSTM))\n"
      ],
      "execution_count": null,
      "outputs": []
    },
    {
      "cell_type": "code",
      "metadata": {
        "id": "5ZxfLD4wmmrY",
        "colab_type": "code",
        "colab": {}
      },
      "source": [
        "df_final.loc[0] = pd.Series({'Variabel_name': str('FastRNN'),'RMSE':rmse_fastgrnn ,'Time(in sec)':time_fastrnn,'Description':str('-'),'R-Square value': cod_fastrnn})\n",
        "df_final.loc[1] = pd.Series({'Variabel_name': str('LSTM'),'RMSE':rmse_lstm_1 ,'Time(in sec)':time_lstm_1,'Description':str('-'),'R-Square value':cod_lstm_1})\n",
        "df_final.loc[2] = pd.Series({'Variabel_name': str('Arima'),'RMSE':error ,'Time(in sec)':str('-'),'Description':str('-'),'R-Square value':cod_arima})\n",
        "df_final.loc[3] = pd.Series({'Variabel_name': str('FB_Prophet'),'RMSE':rmse_fb ,'Time(in sec)':time_fb,'Description':str('-'),'R-Square value':cod_fb})\n",
        "\n",
        "\n",
        "df_final.loc[4] = pd.Series({'Variabel_name': str('LSTM_CNN_BiLSTM'),'RMSE':rmse_CNN_LSTM_BiLSTM ,'Time(in sec)':time_CNN_LSTM_BiLSTM,'Description':str('LSTM + conv1d + maxpooling + biLSTM + Dropout + dense + dense'),'R-Square value':cod_CNN_LSTM_BiLSTM})\n",
        "df_final.loc[5] = pd.Series({'Variabel_name': str('FASTRNN_CNN_BiLSTM'),'RMSE':rmse_fastrnn_hyb_CNN_BiLSTM ,'Time(in sec)':time_fastrnn_hyb_CNN_BiLSTM,'Description':str('FastCell + cov1D + Maxpooling(unit=1) + BiLSTM + dropout + dense + dense'),'R-Square value':cod_fastrnn_hyb_CNN_BiLSTM})\n",
        "df_final.loc[6] = pd.Series({'Variabel_name': str('LSTM_Attention_CNN_BiLSTM'),'RMSE':rmse_CNN_BiLSTM_Attention_Mechanism ,'Time(in sec)':time_CNN_BiLSTM_Attention_Mechanism,'Description':str('LSTM + SeqSelfAttention + Conv1D + MaxPooling + BiLSTM + Dropout + Dense + Dense'),'R-Square value':cod_CNN_BiLSTM_Attention_Mechanism})\n",
        "df_final.loc[7] = pd.Series({'Variabel_name': str('BiLSTM_Attention_CNN_BiLSTM'),'RMSE':rmse_CNN_Attention_Bi_LSTM ,'Time(in sec)':time_CNN_Attention_Bi_LSTM,'Description':str('BiLSTM + SeqSelfAttention + Conv1D + Maxpooling + Bi_LSTM + Dropout + Dense + Dense'),'R-Square value':cod_CNN_Attention_Bi_LSTM})\n",
        "df_final.loc[8] = pd.Series({'Variabel_name': str('LSTM_Attention_CNN_LSTM'),'RMSE':rmse_LSTM_Attention_CNN_LSTM ,'Time(in sec)':time_LSTM_Attention_CNN_LSTM,'Description':str('LSTM + SeqSelfAttention + Conv1D + MaxPooling + LSTM + Dropout + Dense + Dense'),'R-Square value':cod_LSTM_Attention_CNN_LSTM})\n",
        "df_final.loc[9] = pd.Series({'Variabel_name': str('LSTM_Attention_LSTM'),'RMSE':rmse_Attention_LSTM ,'Time(in sec)':time_Attention_LSTM,'Description':str('LSTM + SeqSelfAttention + LSTM + Dropout + Dense + Dense'),'R-Square value':cod_Attention_LSTM})\n",
        "df_final.loc[10] = pd.Series({'Variabel_name': str('CNN_LSTM_Attention_LSTM'),'RMSE':rmse_CNN_LSTM ,'Time(in sec)':time_CNN_LSTM,'Description':str('Conv1D + Maxpooling + LSTM + SeqSelfAttention + LSTM + Dropout + Dense + Dense'),'R-Square value':cod_CNN_LSTM})\n"
      ],
      "execution_count": null,
      "outputs": []
    },
    {
      "cell_type": "code",
      "metadata": {
        "id": "qZMNFCSoyh0P",
        "colab_type": "code",
        "colab": {
          "base_uri": "https://localhost:8080/",
          "height": 259
        },
        "outputId": "1a8c6929-af16-4bc0-f51a-2e159fe45d82"
      },
      "source": [
        "print(df_final)\n",
        "df_final.to_csv('Uber_performance_results.csv', index=False)\n"
      ],
      "execution_count": null,
      "outputs": [
        {
          "output_type": "stream",
          "text": [
            "                  Variabel_name  ...  R-Square value\n",
            "0                       FastRNN  ...        0.807515\n",
            "1                          LSTM  ...        0.737871\n",
            "2                         Arima  ...       -4.621104\n",
            "3                    FB_Prophet  ...      -17.932607\n",
            "4               LSTM_CNN_BiLSTM  ...        0.703680\n",
            "5            FASTRNN_CNN_BiLSTM  ...        0.780320\n",
            "6     LSTM_Attention_CNN_BiLSTM  ...        0.630640\n",
            "7   BiLSTM_Attention_CNN_BiLSTM  ...        0.461096\n",
            "8       LSTM_Attention_CNN_LSTM  ...        0.568271\n",
            "9           LSTM_Attention_LSTM  ...        0.364561\n",
            "10      CNN_LSTM_Attention_LSTM  ...        0.815078\n",
            "\n",
            "[11 rows x 5 columns]\n"
          ],
          "name": "stdout"
        }
      ]
    },
    {
      "cell_type": "code",
      "metadata": {
        "id": "qpq_CmVUytaE",
        "colab_type": "code",
        "colab": {
          "base_uri": "https://localhost:8080/",
          "height": 517
        },
        "outputId": "12630e08-bc64-409b-fc52-8de402dfecb1"
      },
      "source": [
        "df_final"
      ],
      "execution_count": null,
      "outputs": [
        {
          "output_type": "execute_result",
          "data": {
            "text/html": [
              "<div>\n",
              "<style scoped>\n",
              "    .dataframe tbody tr th:only-of-type {\n",
              "        vertical-align: middle;\n",
              "    }\n",
              "\n",
              "    .dataframe tbody tr th {\n",
              "        vertical-align: top;\n",
              "    }\n",
              "\n",
              "    .dataframe thead th {\n",
              "        text-align: right;\n",
              "    }\n",
              "</style>\n",
              "<table border=\"1\" class=\"dataframe\">\n",
              "  <thead>\n",
              "    <tr style=\"text-align: right;\">\n",
              "      <th></th>\n",
              "      <th>Variabel_name</th>\n",
              "      <th>RMSE</th>\n",
              "      <th>Time(in sec)</th>\n",
              "      <th>Description</th>\n",
              "      <th>R-Square value</th>\n",
              "    </tr>\n",
              "  </thead>\n",
              "  <tbody>\n",
              "    <tr>\n",
              "      <th>0</th>\n",
              "      <td>FastRNN</td>\n",
              "      <td>0.160372</td>\n",
              "      <td>3.44767</td>\n",
              "      <td>-</td>\n",
              "      <td>0.807515</td>\n",
              "    </tr>\n",
              "    <tr>\n",
              "      <th>1</th>\n",
              "      <td>LSTM</td>\n",
              "      <td>0.187149</td>\n",
              "      <td>14.0075</td>\n",
              "      <td>-</td>\n",
              "      <td>0.737871</td>\n",
              "    </tr>\n",
              "    <tr>\n",
              "      <th>2</th>\n",
              "      <td>Arima</td>\n",
              "      <td>0.866646</td>\n",
              "      <td>-</td>\n",
              "      <td>-</td>\n",
              "      <td>-4.621104</td>\n",
              "    </tr>\n",
              "    <tr>\n",
              "      <th>3</th>\n",
              "      <td>FB_Prophet</td>\n",
              "      <td>1.590508</td>\n",
              "      <td>0.405166</td>\n",
              "      <td>-</td>\n",
              "      <td>-17.932607</td>\n",
              "    </tr>\n",
              "    <tr>\n",
              "      <th>4</th>\n",
              "      <td>LSTM_CNN_BiLSTM</td>\n",
              "      <td>0.198981</td>\n",
              "      <td>17.5207</td>\n",
              "      <td>LSTM + conv1d + maxpooling + biLSTM + Dropout ...</td>\n",
              "      <td>0.703680</td>\n",
              "    </tr>\n",
              "    <tr>\n",
              "      <th>5</th>\n",
              "      <td>FASTRNN_CNN_BiLSTM</td>\n",
              "      <td>0.171327</td>\n",
              "      <td>14.1617</td>\n",
              "      <td>FastCell + cov1D + Maxpooling(unit=1) + BiLSTM...</td>\n",
              "      <td>0.780320</td>\n",
              "    </tr>\n",
              "    <tr>\n",
              "      <th>6</th>\n",
              "      <td>LSTM_Attention_CNN_BiLSTM</td>\n",
              "      <td>0.222155</td>\n",
              "      <td>20.6554</td>\n",
              "      <td>LSTM + SeqSelfAttention + Conv1D + MaxPooling ...</td>\n",
              "      <td>0.630640</td>\n",
              "    </tr>\n",
              "    <tr>\n",
              "      <th>7</th>\n",
              "      <td>BiLSTM_Attention_CNN_BiLSTM</td>\n",
              "      <td>0.268341</td>\n",
              "      <td>26.569</td>\n",
              "      <td>BiLSTM + SeqSelfAttention + Conv1D + Maxpoolin...</td>\n",
              "      <td>0.461096</td>\n",
              "    </tr>\n",
              "    <tr>\n",
              "      <th>8</th>\n",
              "      <td>LSTM_Attention_CNN_LSTM</td>\n",
              "      <td>0.240180</td>\n",
              "      <td>17.9742</td>\n",
              "      <td>LSTM + SeqSelfAttention + Conv1D + MaxPooling ...</td>\n",
              "      <td>0.568271</td>\n",
              "    </tr>\n",
              "    <tr>\n",
              "      <th>9</th>\n",
              "      <td>LSTM_Attention_LSTM</td>\n",
              "      <td>0.291385</td>\n",
              "      <td>19.8699</td>\n",
              "      <td>LSTM + SeqSelfAttention + LSTM + Dropout + Den...</td>\n",
              "      <td>0.364561</td>\n",
              "    </tr>\n",
              "    <tr>\n",
              "      <th>10</th>\n",
              "      <td>CNN_LSTM_Attention_LSTM</td>\n",
              "      <td>0.157190</td>\n",
              "      <td>16.6189</td>\n",
              "      <td>Conv1D + Maxpooling + LSTM + SeqSelfAttention ...</td>\n",
              "      <td>0.815078</td>\n",
              "    </tr>\n",
              "  </tbody>\n",
              "</table>\n",
              "</div>"
            ],
            "text/plain": [
              "                  Variabel_name  ...  R-Square value\n",
              "0                       FastRNN  ...        0.807515\n",
              "1                          LSTM  ...        0.737871\n",
              "2                         Arima  ...       -4.621104\n",
              "3                    FB_Prophet  ...      -17.932607\n",
              "4               LSTM_CNN_BiLSTM  ...        0.703680\n",
              "5            FASTRNN_CNN_BiLSTM  ...        0.780320\n",
              "6     LSTM_Attention_CNN_BiLSTM  ...        0.630640\n",
              "7   BiLSTM_Attention_CNN_BiLSTM  ...        0.461096\n",
              "8       LSTM_Attention_CNN_LSTM  ...        0.568271\n",
              "9           LSTM_Attention_LSTM  ...        0.364561\n",
              "10      CNN_LSTM_Attention_LSTM  ...        0.815078\n",
              "\n",
              "[11 rows x 5 columns]"
            ]
          },
          "metadata": {
            "tags": []
          },
          "execution_count": 163
        }
      ]
    },
    {
      "cell_type": "markdown",
      "metadata": {
        "id": "S1i0IcWifBly",
        "colab_type": "text"
      },
      "source": [
        "# New Section"
      ]
    },
    {
      "cell_type": "code",
      "metadata": {
        "id": "EYbwdWHZZui9",
        "colab_type": "code",
        "colab": {}
      },
      "source": [
        "predicted_results = pd.DataFrame(columns=['Test_Data','FastRNN'  ,'LSTM'  ,'Arima'  ,'FB_Prophet'  ,'LSTM_CNN_BiLSTM'  ,'FASTRNN_CNN_BiLSTM'  ,'LSTM_Attention_CNN_BiLSTM' ,'BiLSTM_Attention_CNN_BiLSTM'  ,'LSTM_Attention_CNN_LSTM'  ,'LSTM_Attention_LSTM'  ,'CNN_LSTM_Attention_LSTM'])\n",
        "\n"
      ],
      "execution_count": null,
      "outputs": []
    },
    {
      "cell_type": "code",
      "metadata": {
        "id": "txp1xdpnPYsQ",
        "colab_type": "code",
        "colab": {}
      },
      "source": [
        "predicted_results['Test_Data']=np.squeeze(y_test)\n",
        "predicted_results['FastRNN']=np.squeeze(predictions_fastgrnn)\n",
        "predicted_results['LSTM']=np.squeeze(predictions_lstm)\n",
        "predicted_results['Arima']=np.squeeze(predictions)\n",
        "predicted_results['FB_Prophet']=np.squeeze(predictions_fb)\n",
        "predicted_results['LSTM_CNN_BiLSTM']  =np.squeeze(predictions_CNN_LSTM_BiLSTM)\n",
        "predicted_results['FASTRNN_CNN_BiLSTM']=np.squeeze(predictions_fastrnn_hyb_CNN_BiLSTM)\n",
        "predicted_results['LSTM_Attention_CNN_BiLSTM']  =np.squeeze(predictions_CNN_BiLSTM_Attention_Mechanism)\n",
        "predicted_results['BiLSTM_Attention_CNN_BiLSTM']=np.squeeze(predictions_CNN_Attention_Bi_LSTM)\n",
        "predicted_results['LSTM_Attention_CNN_LSTM']=np.squeeze(predictions_LSTM_Attention_CNN_LSTM)\n",
        "predicted_results['LSTM_Attention_LSTM']=np.squeeze(predictions_Attention_LSTM)\n",
        "predicted_results['CNN_LSTM_Attention_LSTM']=np.squeeze(predictions_CNN_LSTM)\n",
        "\n"
      ],
      "execution_count": null,
      "outputs": []
    },
    {
      "cell_type": "code",
      "metadata": {
        "id": "lz9y9a-DQGe9",
        "colab_type": "code",
        "colab": {
          "base_uri": "https://localhost:8080/",
          "height": 218
        },
        "outputId": "32144f29-4973-44f5-e5e2-a595d98d6033"
      },
      "source": [
        "predicted_results.head()"
      ],
      "execution_count": null,
      "outputs": [
        {
          "output_type": "execute_result",
          "data": {
            "text/html": [
              "<div>\n",
              "<style scoped>\n",
              "    .dataframe tbody tr th:only-of-type {\n",
              "        vertical-align: middle;\n",
              "    }\n",
              "\n",
              "    .dataframe tbody tr th {\n",
              "        vertical-align: top;\n",
              "    }\n",
              "\n",
              "    .dataframe thead th {\n",
              "        text-align: right;\n",
              "    }\n",
              "</style>\n",
              "<table border=\"1\" class=\"dataframe\">\n",
              "  <thead>\n",
              "    <tr style=\"text-align: right;\">\n",
              "      <th></th>\n",
              "      <th>Test_Data</th>\n",
              "      <th>FastRNN</th>\n",
              "      <th>LSTM</th>\n",
              "      <th>Arima</th>\n",
              "      <th>FB_Prophet</th>\n",
              "      <th>LSTM_CNN_BiLSTM</th>\n",
              "      <th>FASTRNN_CNN_BiLSTM</th>\n",
              "      <th>LSTM_Attention_CNN_BiLSTM</th>\n",
              "      <th>BiLSTM_Attention_CNN_BiLSTM</th>\n",
              "      <th>LSTM_Attention_CNN_LSTM</th>\n",
              "      <th>LSTM_Attention_LSTM</th>\n",
              "      <th>CNN_LSTM_Attention_LSTM</th>\n",
              "    </tr>\n",
              "  </thead>\n",
              "  <tbody>\n",
              "    <tr>\n",
              "      <th>0</th>\n",
              "      <td>238.720093</td>\n",
              "      <td>238.840240</td>\n",
              "      <td>238.724060</td>\n",
              "      <td>238.778339</td>\n",
              "      <td>238.785586</td>\n",
              "      <td>238.678497</td>\n",
              "      <td>238.726959</td>\n",
              "      <td>238.632050</td>\n",
              "      <td>238.686249</td>\n",
              "      <td>238.627594</td>\n",
              "      <td>238.651703</td>\n",
              "      <td>238.753860</td>\n",
              "    </tr>\n",
              "    <tr>\n",
              "      <th>1</th>\n",
              "      <td>238.940002</td>\n",
              "      <td>238.777252</td>\n",
              "      <td>238.698669</td>\n",
              "      <td>238.757139</td>\n",
              "      <td>238.820715</td>\n",
              "      <td>238.659256</td>\n",
              "      <td>238.673080</td>\n",
              "      <td>238.647049</td>\n",
              "      <td>238.682709</td>\n",
              "      <td>238.642639</td>\n",
              "      <td>238.664658</td>\n",
              "      <td>238.732513</td>\n",
              "    </tr>\n",
              "    <tr>\n",
              "      <th>2</th>\n",
              "      <td>239.100006</td>\n",
              "      <td>238.945633</td>\n",
              "      <td>238.807556</td>\n",
              "      <td>238.743217</td>\n",
              "      <td>238.857764</td>\n",
              "      <td>238.743103</td>\n",
              "      <td>238.829514</td>\n",
              "      <td>238.680664</td>\n",
              "      <td>238.734634</td>\n",
              "      <td>238.681061</td>\n",
              "      <td>238.695694</td>\n",
              "      <td>238.859451</td>\n",
              "    </tr>\n",
              "    <tr>\n",
              "      <th>3</th>\n",
              "      <td>239.389999</td>\n",
              "      <td>239.125229</td>\n",
              "      <td>238.955627</td>\n",
              "      <td>238.735539</td>\n",
              "      <td>238.896774</td>\n",
              "      <td>238.864395</td>\n",
              "      <td>238.995529</td>\n",
              "      <td>238.760437</td>\n",
              "      <td>238.819763</td>\n",
              "      <td>238.761658</td>\n",
              "      <td>238.756592</td>\n",
              "      <td>239.017380</td>\n",
              "    </tr>\n",
              "    <tr>\n",
              "      <th>4</th>\n",
              "      <td>239.324997</td>\n",
              "      <td>239.355057</td>\n",
              "      <td>239.194885</td>\n",
              "      <td>238.730897</td>\n",
              "      <td>238.937785</td>\n",
              "      <td>239.115417</td>\n",
              "      <td>239.241577</td>\n",
              "      <td>238.922684</td>\n",
              "      <td>238.984146</td>\n",
              "      <td>238.906891</td>\n",
              "      <td>238.862183</td>\n",
              "      <td>239.278839</td>\n",
              "    </tr>\n",
              "  </tbody>\n",
              "</table>\n",
              "</div>"
            ],
            "text/plain": [
              "    Test_Data     FastRNN  ...  LSTM_Attention_LSTM  CNN_LSTM_Attention_LSTM\n",
              "0  238.720093  238.840240  ...           238.651703               238.753860\n",
              "1  238.940002  238.777252  ...           238.664658               238.732513\n",
              "2  239.100006  238.945633  ...           238.695694               238.859451\n",
              "3  239.389999  239.125229  ...           238.756592               239.017380\n",
              "4  239.324997  239.355057  ...           238.862183               239.278839\n",
              "\n",
              "[5 rows x 12 columns]"
            ]
          },
          "metadata": {
            "tags": []
          },
          "execution_count": 166
        }
      ]
    },
    {
      "cell_type": "code",
      "metadata": {
        "id": "4t1jiRewS2lc",
        "colab_type": "code",
        "colab": {}
      },
      "source": [
        "predicted_results.to_csv('Predicted_Values.csv', index=False)"
      ],
      "execution_count": null,
      "outputs": []
    },
    {
      "cell_type": "code",
      "metadata": {
        "id": "-63m8p45LkXP",
        "colab_type": "code",
        "colab": {}
      },
      "source": [
        "# predictions_fastgrnn\n",
        "# predictions_lstm\n",
        "# predictions\n",
        "# predictions_fb\n",
        "# predictions_CNN_LSTM_BiLSTM\n",
        "# predictions_fastrnn_hyb_CNN_BiLSTM\n",
        "# predictions_CNN_BiLSTM_Attention_Mechanism\n",
        "# predictions_CNN_Attention_Bi_LSTM\n",
        "# predictions_LSTM_Attention_CNN_LSTM\n",
        "# predictions_Attention_LSTM\n",
        "# predictions_CNN_LSTM"
      ],
      "execution_count": null,
      "outputs": []
    },
    {
      "cell_type": "code",
      "metadata": {
        "id": "o0qw4P37RAxH",
        "colab_type": "code",
        "colab": {}
      },
      "source": [
        ""
      ],
      "execution_count": null,
      "outputs": []
    },
    {
      "cell_type": "code",
      "metadata": {
        "id": "M_2xP8oTRKTQ",
        "colab_type": "code",
        "colab": {}
      },
      "source": [
        ""
      ],
      "execution_count": null,
      "outputs": []
    },
    {
      "cell_type": "code",
      "metadata": {
        "id": "OMjjIhxCRLZm",
        "colab_type": "code",
        "colab": {}
      },
      "source": [
        ""
      ],
      "execution_count": null,
      "outputs": []
    }
  ]
}